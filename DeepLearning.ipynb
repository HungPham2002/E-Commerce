{
  "cells": [
    {
      "cell_type": "markdown",
      "metadata": {
        "id": "view-in-github",
        "colab_type": "text"
      },
      "source": [
        "<a href=\"https://colab.research.google.com/github/HungPham2002/E-Commerce---Customer-Churn-Prediction/blob/main/DeepLearning.ipynb\" target=\"_parent\"><img src=\"https://colab.research.google.com/assets/colab-badge.svg\" alt=\"Open In Colab\"/></a>"
      ]
    },
    {
      "cell_type": "code",
      "execution_count": 4,
      "metadata": {
        "id": "SY6josXGL9ca"
      },
      "outputs": [],
      "source": [
        "import numpy as np \n",
        "import pandas as pd \n",
        "from matplotlib import pyplot as plt \n",
        "from sklearn.model_selection import train_test_split \n",
        "from sklearn.preprocessing import StandardScaler\n",
        "from tensorflow import keras\n",
        "from keras.models import Sequential \n",
        "from keras.layers import InputLayer \n",
        "from keras.layers import Dense \n",
        "from keras.layers import Dropout \n",
        "from keras.constraints import maxnorm\n",
        "from sklearn.ensemble import RandomForestClassifier, RandomForestRegressor\n",
        "from sklearn.metrics import classification_report, confusion_matrix, accuracy_score\n",
        "from sklearn.model_selection import GridSearchCV\n",
        "from keras.wrappers.scikit_learn import KerasClassifier\n",
        "import tensorflow as tf\n",
        "import seaborn as sb"
      ]
    },
    {
      "cell_type": "markdown",
      "metadata": {
        "id": "n1K9jll7Mc4y"
      },
      "source": [
        "# Data"
      ]
    },
    {
      "cell_type": "code",
      "execution_count": 49,
      "metadata": {
        "id": "s40RP8pYMqvh"
      },
      "outputs": [],
      "source": [
        "df = pd.read_csv('/content/drive/MyDrive/E-Commerce/dataset/mycsvfile.csv')"
      ]
    },
    {
      "cell_type": "code",
      "execution_count": 50,
      "metadata": {
        "colab": {
          "base_uri": "https://localhost:8080/"
        },
        "id": "c0ykaK8gMywT",
        "outputId": "08c3fc04-29d8-4259-8c21-c0ad95a08352"
      },
      "outputs": [
        {
          "output_type": "stream",
          "name": "stdout",
          "text": [
            "(4612, 29)\n",
            "(1977, 29)\n"
          ]
        }
      ],
      "source": [
        "X = df.drop(columns = \"customerstatus\")\n",
        "y = df[\"customerstatus\"].values\n",
        "X_train, X_test, y_train, y_test_ann = train_test_split(X, y, test_size = 0.3, random_state = 4, stratify =y)\n",
        "col=['totalcharges','avgmonthlylongdistancecharges','monthlycharge','totalrevenue','totallongdistancecharges',\n",
        "     'tenureinmonths','totallongdistancecharges','totalextradatacharges']\n",
        "scaler = StandardScaler()\n",
        "X_train[col] = StandardScaler().fit_transform(X_train[col])\n",
        "X_test[col] = StandardScaler().fit_transform(X_test[col])\n",
        "print(X_train.shape)\n",
        "print(X_test.shape)"
      ]
    },
    {
      "cell_type": "markdown",
      "metadata": {
        "id": "q_7mm_ipMGYT"
      },
      "source": [
        "# ARTIFICIAL NEURAL NETWORK (ANN)"
      ]
    },
    {
      "cell_type": "markdown",
      "source": [
        "## Building model without optimization"
      ],
      "metadata": {
        "id": "w9tIsGu5is7I"
      }
    },
    {
      "cell_type": "code",
      "source": [
        "model = keras.Sequential([\n",
        "    keras.layers.Dense(29, input_shape=(29,), activation='relu'),\n",
        "    keras.layers.Dense(20, activation='relu'),\n",
        "    keras.layers.Dense(15,activation = 'relu'),\n",
        "    keras.layers.Dense(1, activation='sigmoid')\n",
        "]\n",
        ")\n",
        "# time for compilation of neural net.\n",
        "model.compile(optimizer = 'adam',\n",
        "             loss = 'binary_crossentropy',\n",
        "             metrics = ['accuracy'])\n",
        "# now we fit our model to training data\n",
        "history = model.fit(X_train,y_train, validation_data=(X_test, y_test),epochs=100)"
      ],
      "metadata": {
        "colab": {
          "base_uri": "https://localhost:8080/"
        },
        "id": "pjBMN6TTixJy",
        "outputId": "4e759117-400c-4485-87ca-45b3f6b7599d"
      },
      "execution_count": null,
      "outputs": [
        {
          "output_type": "stream",
          "name": "stdout",
          "text": [
            "Epoch 1/100\n",
            "145/145 [==============================] - 2s 4ms/step - loss: 1.0706 - accuracy: 0.6405 - val_loss: 0.4606 - val_accuracy: 0.7759\n",
            "Epoch 2/100\n",
            "145/145 [==============================] - 0s 3ms/step - loss: 0.4309 - accuracy: 0.7958 - val_loss: 0.4248 - val_accuracy: 0.7982\n",
            "Epoch 3/100\n",
            "145/145 [==============================] - 0s 3ms/step - loss: 0.4021 - accuracy: 0.8066 - val_loss: 0.3950 - val_accuracy: 0.8194\n",
            "Epoch 4/100\n",
            "145/145 [==============================] - 0s 3ms/step - loss: 0.3906 - accuracy: 0.8200 - val_loss: 0.3816 - val_accuracy: 0.8295\n",
            "Epoch 5/100\n",
            "145/145 [==============================] - 0s 3ms/step - loss: 0.3713 - accuracy: 0.8233 - val_loss: 0.3779 - val_accuracy: 0.8230\n",
            "Epoch 6/100\n",
            "145/145 [==============================] - 1s 5ms/step - loss: 0.3623 - accuracy: 0.8313 - val_loss: 0.3685 - val_accuracy: 0.8316\n",
            "Epoch 7/100\n",
            "145/145 [==============================] - 1s 5ms/step - loss: 0.3589 - accuracy: 0.8356 - val_loss: 0.3812 - val_accuracy: 0.8184\n",
            "Epoch 8/100\n",
            "145/145 [==============================] - 1s 5ms/step - loss: 0.3610 - accuracy: 0.8287 - val_loss: 0.3609 - val_accuracy: 0.8397\n",
            "Epoch 9/100\n",
            "145/145 [==============================] - 1s 4ms/step - loss: 0.3499 - accuracy: 0.8380 - val_loss: 0.3649 - val_accuracy: 0.8336\n",
            "Epoch 10/100\n",
            "145/145 [==============================] - 1s 5ms/step - loss: 0.3489 - accuracy: 0.8341 - val_loss: 0.3762 - val_accuracy: 0.8300\n",
            "Epoch 11/100\n",
            "145/145 [==============================] - 1s 4ms/step - loss: 0.3501 - accuracy: 0.8372 - val_loss: 0.3825 - val_accuracy: 0.8240\n",
            "Epoch 12/100\n",
            "145/145 [==============================] - 1s 4ms/step - loss: 0.3465 - accuracy: 0.8443 - val_loss: 0.3827 - val_accuracy: 0.8189\n",
            "Epoch 13/100\n",
            "145/145 [==============================] - 0s 3ms/step - loss: 0.3488 - accuracy: 0.8435 - val_loss: 0.3812 - val_accuracy: 0.8159\n",
            "Epoch 14/100\n",
            "145/145 [==============================] - 0s 3ms/step - loss: 0.3473 - accuracy: 0.8354 - val_loss: 0.3523 - val_accuracy: 0.8452\n",
            "Epoch 15/100\n",
            "145/145 [==============================] - 0s 3ms/step - loss: 0.3426 - accuracy: 0.8387 - val_loss: 0.3591 - val_accuracy: 0.8397\n",
            "Epoch 16/100\n",
            "145/145 [==============================] - 0s 3ms/step - loss: 0.3395 - accuracy: 0.8456 - val_loss: 0.3460 - val_accuracy: 0.8488\n",
            "Epoch 17/100\n",
            "145/145 [==============================] - 0s 3ms/step - loss: 0.3378 - accuracy: 0.8426 - val_loss: 0.3470 - val_accuracy: 0.8381\n",
            "Epoch 18/100\n",
            "145/145 [==============================] - 0s 3ms/step - loss: 0.3339 - accuracy: 0.8480 - val_loss: 0.3467 - val_accuracy: 0.8447\n",
            "Epoch 19/100\n",
            "145/145 [==============================] - 0s 3ms/step - loss: 0.3329 - accuracy: 0.8469 - val_loss: 0.3568 - val_accuracy: 0.8326\n",
            "Epoch 20/100\n",
            "145/145 [==============================] - 0s 3ms/step - loss: 0.3368 - accuracy: 0.8491 - val_loss: 0.3543 - val_accuracy: 0.8386\n",
            "Epoch 21/100\n",
            "145/145 [==============================] - 0s 3ms/step - loss: 0.3338 - accuracy: 0.8458 - val_loss: 0.3623 - val_accuracy: 0.8336\n",
            "Epoch 22/100\n",
            "145/145 [==============================] - 0s 3ms/step - loss: 0.3319 - accuracy: 0.8458 - val_loss: 0.3485 - val_accuracy: 0.8412\n",
            "Epoch 23/100\n",
            "145/145 [==============================] - 0s 3ms/step - loss: 0.3356 - accuracy: 0.8506 - val_loss: 0.3428 - val_accuracy: 0.8422\n",
            "Epoch 24/100\n",
            "145/145 [==============================] - 0s 3ms/step - loss: 0.3301 - accuracy: 0.8458 - val_loss: 0.3449 - val_accuracy: 0.8447\n",
            "Epoch 25/100\n",
            "145/145 [==============================] - 0s 3ms/step - loss: 0.3319 - accuracy: 0.8465 - val_loss: 0.3357 - val_accuracy: 0.8462\n",
            "Epoch 26/100\n",
            "145/145 [==============================] - 1s 3ms/step - loss: 0.3301 - accuracy: 0.8441 - val_loss: 0.3380 - val_accuracy: 0.8452\n",
            "Epoch 27/100\n",
            "145/145 [==============================] - 0s 3ms/step - loss: 0.3254 - accuracy: 0.8567 - val_loss: 0.3426 - val_accuracy: 0.8422\n",
            "Epoch 28/100\n",
            "145/145 [==============================] - 0s 3ms/step - loss: 0.3266 - accuracy: 0.8500 - val_loss: 0.3379 - val_accuracy: 0.8447\n",
            "Epoch 29/100\n",
            "145/145 [==============================] - 0s 3ms/step - loss: 0.3260 - accuracy: 0.8493 - val_loss: 0.3347 - val_accuracy: 0.8452\n",
            "Epoch 30/100\n",
            "145/145 [==============================] - 1s 3ms/step - loss: 0.3255 - accuracy: 0.8521 - val_loss: 0.3360 - val_accuracy: 0.8397\n",
            "Epoch 31/100\n",
            "145/145 [==============================] - 0s 3ms/step - loss: 0.3235 - accuracy: 0.8521 - val_loss: 0.3336 - val_accuracy: 0.8483\n",
            "Epoch 32/100\n",
            "145/145 [==============================] - 0s 3ms/step - loss: 0.3267 - accuracy: 0.8502 - val_loss: 0.3345 - val_accuracy: 0.8447\n",
            "Epoch 33/100\n",
            "145/145 [==============================] - 0s 3ms/step - loss: 0.3251 - accuracy: 0.8530 - val_loss: 0.3402 - val_accuracy: 0.8447\n",
            "Epoch 34/100\n",
            "145/145 [==============================] - 1s 3ms/step - loss: 0.3226 - accuracy: 0.8552 - val_loss: 0.3417 - val_accuracy: 0.8407\n",
            "Epoch 35/100\n",
            "145/145 [==============================] - 1s 5ms/step - loss: 0.3217 - accuracy: 0.8510 - val_loss: 0.3342 - val_accuracy: 0.8462\n",
            "Epoch 36/100\n",
            "145/145 [==============================] - 1s 5ms/step - loss: 0.3179 - accuracy: 0.8552 - val_loss: 0.3336 - val_accuracy: 0.8432\n",
            "Epoch 37/100\n",
            "145/145 [==============================] - 1s 5ms/step - loss: 0.3176 - accuracy: 0.8558 - val_loss: 0.3296 - val_accuracy: 0.8518\n",
            "Epoch 38/100\n",
            "145/145 [==============================] - 1s 5ms/step - loss: 0.3249 - accuracy: 0.8504 - val_loss: 0.3313 - val_accuracy: 0.8477\n",
            "Epoch 39/100\n",
            "145/145 [==============================] - 1s 5ms/step - loss: 0.3191 - accuracy: 0.8539 - val_loss: 0.3313 - val_accuracy: 0.8427\n",
            "Epoch 40/100\n",
            "145/145 [==============================] - 1s 5ms/step - loss: 0.3136 - accuracy: 0.8569 - val_loss: 0.3306 - val_accuracy: 0.8503\n",
            "Epoch 41/100\n",
            "145/145 [==============================] - 0s 3ms/step - loss: 0.3181 - accuracy: 0.8573 - val_loss: 0.3354 - val_accuracy: 0.8361\n",
            "Epoch 42/100\n",
            "145/145 [==============================] - 0s 3ms/step - loss: 0.3141 - accuracy: 0.8580 - val_loss: 0.3284 - val_accuracy: 0.8467\n",
            "Epoch 43/100\n",
            "145/145 [==============================] - 0s 3ms/step - loss: 0.3174 - accuracy: 0.8547 - val_loss: 0.3284 - val_accuracy: 0.8493\n",
            "Epoch 44/100\n",
            "145/145 [==============================] - 0s 3ms/step - loss: 0.3148 - accuracy: 0.8541 - val_loss: 0.3280 - val_accuracy: 0.8457\n",
            "Epoch 45/100\n",
            "145/145 [==============================] - 0s 3ms/step - loss: 0.3125 - accuracy: 0.8591 - val_loss: 0.3288 - val_accuracy: 0.8513\n",
            "Epoch 46/100\n",
            "145/145 [==============================] - 0s 3ms/step - loss: 0.3148 - accuracy: 0.8545 - val_loss: 0.3335 - val_accuracy: 0.8417\n",
            "Epoch 47/100\n",
            "145/145 [==============================] - 0s 3ms/step - loss: 0.3120 - accuracy: 0.8597 - val_loss: 0.3279 - val_accuracy: 0.8467\n",
            "Epoch 48/100\n",
            "145/145 [==============================] - 0s 3ms/step - loss: 0.3148 - accuracy: 0.8562 - val_loss: 0.3277 - val_accuracy: 0.8513\n",
            "Epoch 49/100\n",
            "145/145 [==============================] - 0s 3ms/step - loss: 0.3090 - accuracy: 0.8617 - val_loss: 0.3443 - val_accuracy: 0.8437\n",
            "Epoch 50/100\n",
            "145/145 [==============================] - 0s 3ms/step - loss: 0.3106 - accuracy: 0.8578 - val_loss: 0.3206 - val_accuracy: 0.8538\n",
            "Epoch 51/100\n",
            "145/145 [==============================] - 0s 3ms/step - loss: 0.3108 - accuracy: 0.8595 - val_loss: 0.3320 - val_accuracy: 0.8462\n",
            "Epoch 52/100\n",
            "145/145 [==============================] - 0s 3ms/step - loss: 0.3076 - accuracy: 0.8593 - val_loss: 0.3369 - val_accuracy: 0.8422\n",
            "Epoch 53/100\n",
            "145/145 [==============================] - 0s 3ms/step - loss: 0.3155 - accuracy: 0.8562 - val_loss: 0.3318 - val_accuracy: 0.8498\n",
            "Epoch 54/100\n",
            "145/145 [==============================] - 0s 3ms/step - loss: 0.3060 - accuracy: 0.8599 - val_loss: 0.3221 - val_accuracy: 0.8569\n",
            "Epoch 55/100\n",
            "145/145 [==============================] - 0s 3ms/step - loss: 0.3066 - accuracy: 0.8621 - val_loss: 0.3340 - val_accuracy: 0.8462\n",
            "Epoch 56/100\n",
            "145/145 [==============================] - 0s 3ms/step - loss: 0.3093 - accuracy: 0.8578 - val_loss: 0.3239 - val_accuracy: 0.8558\n",
            "Epoch 57/100\n",
            "145/145 [==============================] - 0s 3ms/step - loss: 0.3043 - accuracy: 0.8647 - val_loss: 0.3244 - val_accuracy: 0.8523\n",
            "Epoch 58/100\n",
            "145/145 [==============================] - 0s 3ms/step - loss: 0.3068 - accuracy: 0.8593 - val_loss: 0.3231 - val_accuracy: 0.8513\n",
            "Epoch 59/100\n",
            "145/145 [==============================] - 1s 4ms/step - loss: 0.3035 - accuracy: 0.8604 - val_loss: 0.3248 - val_accuracy: 0.8518\n",
            "Epoch 60/100\n",
            "145/145 [==============================] - 0s 3ms/step - loss: 0.3056 - accuracy: 0.8623 - val_loss: 0.3220 - val_accuracy: 0.8569\n",
            "Epoch 61/100\n",
            "145/145 [==============================] - 0s 3ms/step - loss: 0.3041 - accuracy: 0.8612 - val_loss: 0.3316 - val_accuracy: 0.8488\n",
            "Epoch 62/100\n",
            "145/145 [==============================] - 1s 3ms/step - loss: 0.3016 - accuracy: 0.8645 - val_loss: 0.3332 - val_accuracy: 0.8452\n",
            "Epoch 63/100\n",
            "145/145 [==============================] - 1s 5ms/step - loss: 0.2978 - accuracy: 0.8634 - val_loss: 0.3305 - val_accuracy: 0.8452\n",
            "Epoch 64/100\n",
            "145/145 [==============================] - 1s 4ms/step - loss: 0.3014 - accuracy: 0.8623 - val_loss: 0.3228 - val_accuracy: 0.8477\n",
            "Epoch 65/100\n",
            "145/145 [==============================] - 1s 4ms/step - loss: 0.2974 - accuracy: 0.8641 - val_loss: 0.3330 - val_accuracy: 0.8442\n",
            "Epoch 66/100\n",
            "145/145 [==============================] - 1s 4ms/step - loss: 0.3026 - accuracy: 0.8658 - val_loss: 0.3253 - val_accuracy: 0.8538\n",
            "Epoch 67/100\n",
            "145/145 [==============================] - 1s 5ms/step - loss: 0.2997 - accuracy: 0.8614 - val_loss: 0.3281 - val_accuracy: 0.8457\n",
            "Epoch 68/100\n",
            "145/145 [==============================] - 1s 6ms/step - loss: 0.2990 - accuracy: 0.8645 - val_loss: 0.3234 - val_accuracy: 0.8538\n",
            "Epoch 69/100\n",
            "145/145 [==============================] - 1s 4ms/step - loss: 0.2995 - accuracy: 0.8660 - val_loss: 0.3246 - val_accuracy: 0.8477\n",
            "Epoch 70/100\n",
            "145/145 [==============================] - 1s 3ms/step - loss: 0.2995 - accuracy: 0.8641 - val_loss: 0.3180 - val_accuracy: 0.8584\n",
            "Epoch 71/100\n",
            "145/145 [==============================] - 0s 3ms/step - loss: 0.2968 - accuracy: 0.8658 - val_loss: 0.3264 - val_accuracy: 0.8548\n",
            "Epoch 72/100\n",
            "145/145 [==============================] - 0s 3ms/step - loss: 0.2994 - accuracy: 0.8621 - val_loss: 0.3306 - val_accuracy: 0.8483\n",
            "Epoch 73/100\n",
            "145/145 [==============================] - 0s 3ms/step - loss: 0.2950 - accuracy: 0.8660 - val_loss: 0.3231 - val_accuracy: 0.8548\n",
            "Epoch 74/100\n",
            "145/145 [==============================] - 0s 3ms/step - loss: 0.2938 - accuracy: 0.8649 - val_loss: 0.3241 - val_accuracy: 0.8553\n",
            "Epoch 75/100\n",
            "145/145 [==============================] - 0s 3ms/step - loss: 0.2927 - accuracy: 0.8669 - val_loss: 0.3249 - val_accuracy: 0.8574\n",
            "Epoch 76/100\n",
            "145/145 [==============================] - 0s 3ms/step - loss: 0.2902 - accuracy: 0.8688 - val_loss: 0.3397 - val_accuracy: 0.8548\n",
            "Epoch 77/100\n",
            "145/145 [==============================] - 0s 3ms/step - loss: 0.2919 - accuracy: 0.8712 - val_loss: 0.3309 - val_accuracy: 0.8528\n",
            "Epoch 78/100\n",
            "145/145 [==============================] - 0s 3ms/step - loss: 0.2958 - accuracy: 0.8649 - val_loss: 0.3269 - val_accuracy: 0.8518\n",
            "Epoch 79/100\n",
            "145/145 [==============================] - 0s 3ms/step - loss: 0.2917 - accuracy: 0.8680 - val_loss: 0.3370 - val_accuracy: 0.8483\n",
            "Epoch 80/100\n",
            "145/145 [==============================] - 0s 3ms/step - loss: 0.2945 - accuracy: 0.8662 - val_loss: 0.3297 - val_accuracy: 0.8508\n",
            "Epoch 81/100\n",
            "145/145 [==============================] - 0s 3ms/step - loss: 0.2912 - accuracy: 0.8688 - val_loss: 0.3285 - val_accuracy: 0.8488\n",
            "Epoch 82/100\n",
            "145/145 [==============================] - 1s 3ms/step - loss: 0.2909 - accuracy: 0.8708 - val_loss: 0.3341 - val_accuracy: 0.8543\n",
            "Epoch 83/100\n",
            "145/145 [==============================] - 0s 3ms/step - loss: 0.2916 - accuracy: 0.8636 - val_loss: 0.3285 - val_accuracy: 0.8528\n",
            "Epoch 84/100\n",
            "145/145 [==============================] - 0s 3ms/step - loss: 0.2909 - accuracy: 0.8671 - val_loss: 0.3287 - val_accuracy: 0.8528\n",
            "Epoch 85/100\n",
            "145/145 [==============================] - 0s 3ms/step - loss: 0.2942 - accuracy: 0.8688 - val_loss: 0.3428 - val_accuracy: 0.8477\n",
            "Epoch 86/100\n",
            "145/145 [==============================] - 0s 3ms/step - loss: 0.2900 - accuracy: 0.8727 - val_loss: 0.3221 - val_accuracy: 0.8569\n",
            "Epoch 87/100\n",
            "145/145 [==============================] - 0s 3ms/step - loss: 0.2876 - accuracy: 0.8695 - val_loss: 0.3260 - val_accuracy: 0.8558\n",
            "Epoch 88/100\n",
            "145/145 [==============================] - 0s 3ms/step - loss: 0.2861 - accuracy: 0.8688 - val_loss: 0.3243 - val_accuracy: 0.8498\n",
            "Epoch 89/100\n",
            "145/145 [==============================] - 0s 3ms/step - loss: 0.2840 - accuracy: 0.8745 - val_loss: 0.3227 - val_accuracy: 0.8538\n",
            "Epoch 90/100\n",
            "145/145 [==============================] - 0s 3ms/step - loss: 0.2828 - accuracy: 0.8745 - val_loss: 0.3279 - val_accuracy: 0.8563\n",
            "Epoch 91/100\n",
            "145/145 [==============================] - 1s 4ms/step - loss: 0.2816 - accuracy: 0.8753 - val_loss: 0.3263 - val_accuracy: 0.8553\n",
            "Epoch 92/100\n",
            "145/145 [==============================] - 1s 6ms/step - loss: 0.2895 - accuracy: 0.8675 - val_loss: 0.3323 - val_accuracy: 0.8538\n",
            "Epoch 93/100\n",
            "145/145 [==============================] - 1s 5ms/step - loss: 0.2865 - accuracy: 0.8680 - val_loss: 0.3279 - val_accuracy: 0.8553\n",
            "Epoch 94/100\n",
            "145/145 [==============================] - 1s 4ms/step - loss: 0.2801 - accuracy: 0.8745 - val_loss: 0.3538 - val_accuracy: 0.8376\n",
            "Epoch 95/100\n",
            "145/145 [==============================] - 1s 4ms/step - loss: 0.2869 - accuracy: 0.8690 - val_loss: 0.3341 - val_accuracy: 0.8518\n",
            "Epoch 96/100\n",
            "145/145 [==============================] - 1s 5ms/step - loss: 0.2810 - accuracy: 0.8716 - val_loss: 0.3392 - val_accuracy: 0.8574\n",
            "Epoch 97/100\n",
            "145/145 [==============================] - 1s 4ms/step - loss: 0.2811 - accuracy: 0.8723 - val_loss: 0.3268 - val_accuracy: 0.8543\n",
            "Epoch 98/100\n",
            "145/145 [==============================] - 0s 3ms/step - loss: 0.2804 - accuracy: 0.8725 - val_loss: 0.3332 - val_accuracy: 0.8508\n",
            "Epoch 99/100\n",
            "145/145 [==============================] - 0s 3ms/step - loss: 0.2801 - accuracy: 0.8699 - val_loss: 0.3330 - val_accuracy: 0.8569\n",
            "Epoch 100/100\n",
            "145/145 [==============================] - 0s 3ms/step - loss: 0.2847 - accuracy: 0.8714 - val_loss: 0.3377 - val_accuracy: 0.8563\n"
          ]
        }
      ]
    },
    {
      "cell_type": "code",
      "source": [
        "model.evaluate(X_test,y_test)"
      ],
      "metadata": {
        "colab": {
          "base_uri": "https://localhost:8080/"
        },
        "id": "hrdGVnprjeiu",
        "outputId": "80be923c-3a63-42d1-e339-4bb8283ffc11"
      },
      "execution_count": null,
      "outputs": [
        {
          "output_type": "stream",
          "name": "stdout",
          "text": [
            "62/62 [==============================] - 0s 1ms/step - loss: 0.3377 - accuracy: 0.8563\n"
          ]
        },
        {
          "output_type": "execute_result",
          "data": {
            "text/plain": [
              "[0.33774179220199585, 0.8563479781150818]"
            ]
          },
          "metadata": {},
          "execution_count": 31
        }
      ]
    },
    {
      "cell_type": "code",
      "source": [
        "y_pred = model.predict(X_test)"
      ],
      "metadata": {
        "colab": {
          "base_uri": "https://localhost:8080/"
        },
        "id": "kAOe9YBqjgZg",
        "outputId": "0a42b8a9-5f29-487e-f4eb-b2ad03a50404"
      },
      "execution_count": null,
      "outputs": [
        {
          "output_type": "stream",
          "name": "stdout",
          "text": [
            "62/62 [==============================] - 0s 4ms/step\n"
          ]
        }
      ]
    },
    {
      "cell_type": "code",
      "source": [
        "plt.plot(history.history['accuracy']) \n",
        "plt.plot(history.history['val_accuracy']) \n",
        "plt.title('model accuracy') \n",
        "plt.ylabel('accuracy')\n",
        "plt.xlabel('epoch') \n",
        "plt.legend(['train', 'test'], loc='upper left') \n",
        "plt.show()"
      ],
      "metadata": {
        "colab": {
          "base_uri": "https://localhost:8080/",
          "height": 472
        },
        "id": "ZMKGbomMjjdV",
        "outputId": "f508e4ec-a68c-4c92-f23b-912d6af13f99"
      },
      "execution_count": null,
      "outputs": [
        {
          "output_type": "display_data",
          "data": {
            "text/plain": [
              "<Figure size 640x480 with 1 Axes>"
            ],
            "image/png": "[encoded data removed]"
          },
          "metadata": {}
        }
      ]
    },
    {
      "cell_type": "markdown",
      "metadata": {
        "id": "SAsBdAeEMWdo"
      },
      "source": [
        "## Tunning Parameters gen 1"
      ]
    },
    {
      "cell_type": "code",
      "execution_count": null,
      "metadata": {
        "id": "VO6ItU5aMScd"
      },
      "outputs": [],
      "source": [
        "def create_model_gen1(neurons_layer1, neurons_layer2, neurons_layer3):\n",
        "    model = keras.Sequential([\n",
        "        keras.layers.Dense(neurons_layer1, input_shape=(29,), activation='relu'),\n",
        "        keras.layers.Dense(neurons_layer2, activation='relu'),\n",
        "        keras.layers.Dense(neurons_layer3, activation = 'relu'),\n",
        "        keras.layers.Dense(1, activation='sigmoid')\n",
        "    ])\n",
        "    model.compile(optimizer='adam', loss='binary_crossentropy', metrics=['accuracy'])\n",
        "    return model"
      ]
    },
    {
      "cell_type": "code",
      "execution_count": null,
      "metadata": {
        "colab": {
          "base_uri": "https://localhost:8080/"
        },
        "id": "2hJlgGPeMVzL",
        "outputId": "627b943b-dba0-43e1-b8d3-21f006c2f6cb"
      },
      "outputs": [
        {
          "output_type": "stream",
          "name": "stderr",
          "text": [
            "<ipython-input-5-03a8d7529add>:1: DeprecationWarning: KerasClassifier is deprecated, use Sci-Keras (https://github.com/adriangb/scikeras) instead. See https://www.adriangb.com/scikeras/stable/migration.html for help migrating.\n",
            "  model = KerasClassifier(build_fn=create_model_gen1, verbose = 1)\n"
          ]
        },
        {
          "output_type": "stream",
          "name": "stdout",
          "text": [
            "97/97 [==============================] - 2s 3ms/step - loss: 0.6301 - accuracy: 0.7124\n",
            "49/49 [==============================] - 0s 2ms/step - loss: 0.5386 - accuracy: 0.7172\n",
            "97/97 [==============================] - 1s 2ms/step - loss: 0.5420 - accuracy: 0.7080\n",
            "49/49 [==============================] - 0s 2ms/step - loss: 0.4664 - accuracy: 0.7241\n",
            "97/97 [==============================] - 1s 3ms/step - loss: 4.1896 - accuracy: 0.4618\n",
            "49/49 [==============================] - 0s 2ms/step - loss: 0.7141 - accuracy: 0.6265\n",
            "97/97 [==============================] - 1s 2ms/step - loss: 0.5828 - accuracy: 0.7131\n",
            "49/49 [==============================] - 0s 2ms/step - loss: 0.5745 - accuracy: 0.7152\n",
            "97/97 [==============================] - 2s 3ms/step - loss: 0.6005 - accuracy: 0.7076\n",
            "49/49 [==============================] - 0s 3ms/step - loss: 0.5569 - accuracy: 0.7241\n",
            "97/97 [==============================] - 2s 3ms/step - loss: 0.6108 - accuracy: 0.6998\n",
            "49/49 [==============================] - 0s 2ms/step - loss: 0.5575 - accuracy: 0.7202\n",
            "97/97 [==============================] - 1s 2ms/step - loss: 0.6040 - accuracy: 0.7062\n",
            "49/49 [==============================] - 0s 2ms/step - loss: 0.5040 - accuracy: 0.7490\n",
            "97/97 [==============================] - 1s 2ms/step - loss: 0.7900 - accuracy: 0.6306\n",
            "49/49 [==============================] - 0s 2ms/step - loss: 0.5611 - accuracy: 0.7228\n",
            "97/97 [==============================] - 1s 2ms/step - loss: 0.5870 - accuracy: 0.7197\n",
            "49/49 [==============================] - 0s 2ms/step - loss: 0.5540 - accuracy: 0.7098\n",
            "97/97 [==============================] - 1s 2ms/step - loss: 0.6573 - accuracy: 0.6932\n",
            "49/49 [==============================] - 0s 2ms/step - loss: 0.4972 - accuracy: 0.7432\n",
            "97/97 [==============================] - 1s 2ms/step - loss: 0.6877 - accuracy: 0.6150\n",
            "49/49 [==============================] - 0s 2ms/step - loss: 0.5480 - accuracy: 0.7241\n",
            "97/97 [==============================] - 1s 3ms/step - loss: 1.5504 - accuracy: 0.6816\n",
            "49/49 [==============================] - 0s 2ms/step - loss: 0.5735 - accuracy: 0.6936\n",
            "97/97 [==============================] - 2s 4ms/step - loss: 0.5747 - accuracy: 0.7154\n",
            "49/49 [==============================] - 0s 2ms/step - loss: 0.5510 - accuracy: 0.7198\n",
            "97/97 [==============================] - 1s 2ms/step - loss: 0.6935 - accuracy: 0.6754\n",
            "49/49 [==============================] - 0s 2ms/step - loss: 0.4950 - accuracy: 0.7508\n",
            "97/97 [==============================] - 1s 2ms/step - loss: 0.5183 - accuracy: 0.7444\n",
            "49/49 [==============================] - 0s 2ms/step - loss: 0.4417 - accuracy: 0.7912\n",
            "97/97 [==============================] - 1s 2ms/step - loss: 0.7314 - accuracy: 0.7010\n",
            "49/49 [==============================] - 0s 2ms/step - loss: 0.4892 - accuracy: 0.7536\n",
            "97/97 [==============================] - 1s 2ms/step - loss: 1.4396 - accuracy: 0.5483\n",
            "49/49 [==============================] - 0s 2ms/step - loss: 0.5670 - accuracy: 0.7254\n",
            "97/97 [==============================] - 1s 2ms/step - loss: 0.6142 - accuracy: 0.7086\n",
            "49/49 [==============================] - 0s 2ms/step - loss: 0.5932 - accuracy: 0.7098\n",
            "97/97 [==============================] - 1s 2ms/step - loss: 0.6911 - accuracy: 0.6692\n",
            "49/49 [==============================] - 0s 2ms/step - loss: 0.6134 - accuracy: 0.7133\n",
            "97/97 [==============================] - 2s 3ms/step - loss: 0.5439 - accuracy: 0.7460\n",
            "49/49 [==============================] - 0s 2ms/step - loss: 0.4568 - accuracy: 0.7729\n",
            "97/97 [==============================] - 2s 2ms/step - loss: 0.7017 - accuracy: 0.6533\n",
            "49/49 [==============================] - 0s 2ms/step - loss: 0.5074 - accuracy: 0.7241\n",
            "97/97 [==============================] - 1s 2ms/step - loss: 0.5234 - accuracy: 0.7323\n",
            "49/49 [==============================] - 0s 2ms/step - loss: 0.4879 - accuracy: 0.7367\n",
            "97/97 [==============================] - 1s 2ms/step - loss: 0.5370 - accuracy: 0.7259\n",
            "49/49 [==============================] - 0s 2ms/step - loss: 0.4433 - accuracy: 0.7807\n",
            "97/97 [==============================] - 1s 2ms/step - loss: 0.7073 - accuracy: 0.6348\n",
            "49/49 [==============================] - 0s 2ms/step - loss: 0.5738 - accuracy: 0.7098\n",
            "97/97 [==============================] - 1s 2ms/step - loss: 0.5991 - accuracy: 0.7088\n",
            "49/49 [==============================] - 0s 2ms/step - loss: 0.4629 - accuracy: 0.7640\n",
            "97/97 [==============================] - 1s 2ms/step - loss: 0.5845 - accuracy: 0.6998\n",
            "49/49 [==============================] - 0s 2ms/step - loss: 0.4719 - accuracy: 0.7938\n",
            "97/97 [==============================] - 2s 3ms/step - loss: 0.7299 - accuracy: 0.6797\n",
            "49/49 [==============================] - 0s 3ms/step - loss: 0.5048 - accuracy: 0.7306\n",
            "97/97 [==============================] - 1s 2ms/step - loss: 0.6789 - accuracy: 0.6887\n",
            "49/49 [==============================] - 0s 2ms/step - loss: 0.5893 - accuracy: 0.7139\n",
            "97/97 [==============================] - 1s 2ms/step - loss: 0.5997 - accuracy: 0.7119\n",
            "49/49 [==============================] - 0s 2ms/step - loss: 0.5288 - accuracy: 0.7241\n",
            "97/97 [==============================] - 1s 2ms/step - loss: 0.6228 - accuracy: 0.7070\n",
            "49/49 [==============================] - 0s 2ms/step - loss: 0.5723 - accuracy: 0.7098\n",
            "97/97 [==============================] - 1s 2ms/step - loss: 0.5985 - accuracy: 0.6701\n",
            "49/49 [==============================] - 0s 2ms/step - loss: 0.5244 - accuracy: 0.7250\n",
            "97/97 [==============================] - 2s 2ms/step - loss: 0.6314 - accuracy: 0.7005\n",
            "49/49 [==============================] - 0s 2ms/step - loss: 0.4729 - accuracy: 0.7554\n",
            "97/97 [==============================] - 1s 2ms/step - loss: 0.5742 - accuracy: 0.7174\n",
            "49/49 [==============================] - 0s 2ms/step - loss: 0.5136 - accuracy: 0.7144\n",
            "97/97 [==============================] - 4s 6ms/step - loss: 0.6380 - accuracy: 0.6942\n",
            "49/49 [==============================] - 0s 2ms/step - loss: 0.6109 - accuracy: 0.7152\n",
            "97/97 [==============================] - 1s 2ms/step - loss: 0.6167 - accuracy: 0.7281\n",
            "49/49 [==============================] - 0s 2ms/step - loss: 0.4489 - accuracy: 0.7853\n",
            "97/97 [==============================] - 1s 2ms/step - loss: 0.5804 - accuracy: 0.7167\n",
            "49/49 [==============================] - 0s 2ms/step - loss: 0.4770 - accuracy: 0.7619\n",
            "97/97 [==============================] - 1s 2ms/step - loss: 0.6856 - accuracy: 0.7189\n",
            "49/49 [==============================] - 0s 2ms/step - loss: 0.4761 - accuracy: 0.7464\n",
            "97/97 [==============================] - 1s 2ms/step - loss: 1.0585 - accuracy: 0.6413\n",
            "49/49 [==============================] - 0s 2ms/step - loss: 0.5561 - accuracy: 0.7267\n",
            "97/97 [==============================] - 1s 2ms/step - loss: 0.5626 - accuracy: 0.7177\n",
            "49/49 [==============================] - 0s 2ms/step - loss: 0.4567 - accuracy: 0.7690\n",
            "97/97 [==============================] - 1s 2ms/step - loss: 1.1388 - accuracy: 0.6122\n",
            "49/49 [==============================] - 0s 2ms/step - loss: 0.5371 - accuracy: 0.7399\n",
            "97/97 [==============================] - 2s 3ms/step - loss: 0.5703 - accuracy: 0.7050\n",
            "49/49 [==============================] - 0s 3ms/step - loss: 0.5030 - accuracy: 0.7332\n",
            "97/97 [==============================] - 2s 3ms/step - loss: 1.0957 - accuracy: 0.4176\n",
            "49/49 [==============================] - 0s 2ms/step - loss: 0.6279 - accuracy: 0.7098\n",
            "97/97 [==============================] - 1s 2ms/step - loss: 0.6880 - accuracy: 0.6386\n",
            "49/49 [==============================] - 0s 2ms/step - loss: 0.5547 - accuracy: 0.7139\n",
            "97/97 [==============================] - 1s 2ms/step - loss: 0.5865 - accuracy: 0.7015\n",
            "49/49 [==============================] - 0s 2ms/step - loss: 0.5267 - accuracy: 0.7306\n",
            "97/97 [==============================] - 1s 2ms/step - loss: 0.7117 - accuracy: 0.6712\n",
            "49/49 [==============================] - 0s 2ms/step - loss: 0.5143 - accuracy: 0.7437\n",
            "97/97 [==============================] - 1s 2ms/step - loss: 0.6654 - accuracy: 0.6988\n",
            "49/49 [==============================] - 0s 2ms/step - loss: 0.5803 - accuracy: 0.7152\n",
            "97/97 [==============================] - 1s 2ms/step - loss: 0.5827 - accuracy: 0.6852\n",
            "49/49 [==============================] - 0s 2ms/step - loss: 0.4996 - accuracy: 0.7573\n",
            "97/97 [==============================] - 2s 4ms/step - loss: 1.5827 - accuracy: 0.6127\n",
            "49/49 [==============================] - 0s 2ms/step - loss: 0.5843 - accuracy: 0.7098\n",
            "97/97 [==============================] - 2s 4ms/step - loss: 0.5967 - accuracy: 0.7056\n",
            "49/49 [==============================] - 0s 2ms/step - loss: 0.5106 - accuracy: 0.7308\n",
            "97/97 [==============================] - 1s 2ms/step - loss: 0.5902 - accuracy: 0.7125\n",
            "49/49 [==============================] - 0s 2ms/step - loss: 0.5199 - accuracy: 0.7241\n",
            "97/97 [==============================] - 1s 2ms/step - loss: 1.5559 - accuracy: 0.6189\n",
            "49/49 [==============================] - 0s 2ms/step - loss: 0.5088 - accuracy: 0.7417\n",
            "97/97 [==============================] - 1s 2ms/step - loss: 0.5114 - accuracy: 0.7547\n",
            "49/49 [==============================] - 0s 2ms/step - loss: 0.4421 - accuracy: 0.7828\n",
            "97/97 [==============================] - 1s 2ms/step - loss: 0.6889 - accuracy: 0.6862\n",
            "49/49 [==============================] - 0s 2ms/step - loss: 0.4977 - accuracy: 0.7456\n",
            "97/97 [==============================] - 1s 2ms/step - loss: 0.6119 - accuracy: 0.7015\n",
            "49/49 [==============================] - 0s 2ms/step - loss: 0.5060 - accuracy: 0.7521\n",
            "97/97 [==============================] - 2s 4ms/step - loss: 0.7215 - accuracy: 0.7170\n",
            "49/49 [==============================] - 0s 2ms/step - loss: 0.5595 - accuracy: 0.7152\n",
            "97/97 [==============================] - 2s 3ms/step - loss: 1.0517 - accuracy: 0.7125\n",
            "49/49 [==============================] - 0s 2ms/step - loss: 0.5917 - accuracy: 0.7241\n",
            "97/97 [==============================] - 1s 2ms/step - loss: 0.6328 - accuracy: 0.6761\n",
            "49/49 [==============================] - 0s 2ms/step - loss: 0.4584 - accuracy: 0.7645\n",
            "97/97 [==============================] - 1s 2ms/step - loss: 0.5338 - accuracy: 0.7316\n",
            "49/49 [==============================] - 0s 2ms/step - loss: 0.4838 - accuracy: 0.7627\n",
            "97/97 [==============================] - 1s 2ms/step - loss: 0.5859 - accuracy: 0.7259\n",
            "49/49 [==============================] - 0s 2ms/step - loss: 0.4330 - accuracy: 0.7872\n",
            "97/97 [==============================] - 1s 2ms/step - loss: 0.8894 - accuracy: 0.5593\n",
            "49/49 [==============================] - 0s 2ms/step - loss: 0.6092 - accuracy: 0.6975\n",
            "97/97 [==============================] - 1s 2ms/step - loss: 0.4747 - accuracy: 0.7537\n",
            "49/49 [==============================] - 0s 2ms/step - loss: 0.4804 - accuracy: 0.7399\n",
            "97/97 [==============================] - 1s 3ms/step - loss: 0.6430 - accuracy: 0.6842\n",
            "49/49 [==============================] - 0s 2ms/step - loss: 0.5129 - accuracy: 0.7599\n",
            "97/97 [==============================] - 2s 3ms/step - loss: 0.6201 - accuracy: 0.6816\n",
            "49/49 [==============================] - 0s 2ms/step - loss: 0.5122 - accuracy: 0.7183\n",
            "97/97 [==============================] - 1s 2ms/step - loss: 0.9025 - accuracy: 0.6601\n",
            "49/49 [==============================] - 0s 2ms/step - loss: 0.5102 - accuracy: 0.7425\n",
            "97/97 [==============================] - 1s 2ms/step - loss: 0.5651 - accuracy: 0.7213\n",
            "49/49 [==============================] - 0s 2ms/step - loss: 0.4685 - accuracy: 0.7463\n",
            "97/97 [==============================] - 2s 2ms/step - loss: 1.0778 - accuracy: 0.6228\n",
            "49/49 [==============================] - 0s 2ms/step - loss: 0.6165 - accuracy: 0.7098\n",
            "97/97 [==============================] - 1s 2ms/step - loss: 0.7799 - accuracy: 0.6848\n",
            "49/49 [==============================] - 0s 2ms/step - loss: 0.5944 - accuracy: 0.7152\n",
            "97/97 [==============================] - 1s 2ms/step - loss: 0.5506 - accuracy: 0.7272\n",
            "49/49 [==============================] - 0s 2ms/step - loss: 0.4604 - accuracy: 0.7489\n",
            "97/97 [==============================] - 2s 3ms/step - loss: 0.5849 - accuracy: 0.7047\n",
            "49/49 [==============================] - 0s 2ms/step - loss: 0.4777 - accuracy: 0.7580\n",
            "97/97 [==============================] - 2s 3ms/step - loss: 0.7335 - accuracy: 0.7225\n",
            "49/49 [==============================] - 0s 2ms/step - loss: 0.4430 - accuracy: 0.7815\n",
            "97/97 [==============================] - 1s 2ms/step - loss: 0.5091 - accuracy: 0.7428\n",
            "49/49 [==============================] - 0s 2ms/step - loss: 0.4470 - accuracy: 0.7885\n",
            "97/97 [==============================] - 1s 2ms/step - loss: 0.7706 - accuracy: 0.6400\n",
            "49/49 [==============================] - 0s 2ms/step - loss: 0.5567 - accuracy: 0.7170\n",
            "97/97 [==============================] - 1s 2ms/step - loss: 0.7908 - accuracy: 0.7238\n",
            "49/49 [==============================] - 0s 2ms/step - loss: 0.4865 - accuracy: 0.7295\n",
            "97/97 [==============================] - 1s 2ms/step - loss: 0.5511 - accuracy: 0.7314\n",
            "49/49 [==============================] - 0s 2ms/step - loss: 0.4770 - accuracy: 0.7729\n",
            "97/97 [==============================] - 1s 2ms/step - loss: 1.0394 - accuracy: 0.6023\n",
            "49/49 [==============================] - 0s 2ms/step - loss: 0.6799 - accuracy: 0.7098\n",
            "97/97 [==============================] - 1s 2ms/step - loss: 0.6802 - accuracy: 0.6965\n",
            "49/49 [==============================] - 0s 2ms/step - loss: 0.4988 - accuracy: 0.7744\n",
            "97/97 [==============================] - 2s 3ms/step - loss: 0.5470 - accuracy: 0.7216\n",
            "49/49 [==============================] - 0s 3ms/step - loss: 0.4781 - accuracy: 0.7794\n",
            "97/97 [==============================] - 2s 2ms/step - loss: 0.5340 - accuracy: 0.7411\n",
            "49/49 [==============================] - 0s 2ms/step - loss: 0.4414 - accuracy: 0.7814\n",
            "97/97 [==============================] - 1s 2ms/step - loss: 0.5802 - accuracy: 0.7128\n",
            "49/49 [==============================] - 0s 2ms/step - loss: 0.5222 - accuracy: 0.7159\n",
            "97/97 [==============================] - 1s 2ms/step - loss: 0.5485 - accuracy: 0.7359\n",
            "49/49 [==============================] - 0s 2ms/step - loss: 0.4400 - accuracy: 0.7833\n",
            "97/97 [==============================] - 1s 2ms/step - loss: 0.5989 - accuracy: 0.7086\n",
            "49/49 [==============================] - 0s 2ms/step - loss: 0.4488 - accuracy: 0.7710\n",
            "145/145 [==============================] - 1s 2ms/step - loss: 0.5355 - accuracy: 0.7285\n",
            "Best: 0.778405 using {'neurons_layer1': 29, 'neurons_layer2': 20, 'neurons_layer3': 10}\n"
          ]
        }
      ],
      "source": [
        "model = KerasClassifier(build_fn=create_model_gen1, verbose = 1)\n",
        "param_grid = {'neurons_layer1': [15, 20, 29], 'neurons_layer2': [10, 15, 20], 'neurons_layer3': [5, 10, 15]}\n",
        "\n",
        "grid = GridSearchCV(estimator=model, param_grid=param_grid, cv=3)\n",
        "grid_result = grid.fit(X_train, y_train)\n",
        "\n",
        "print(\"Best: %f using %s\" % (grid_result.best_score_, grid_result.best_params_))"
      ]
    },
    {
      "cell_type": "markdown",
      "metadata": {
        "id": "NQEa-tDzRbug"
      },
      "source": [
        "## Building model gen 1"
      ]
    },
    {
      "cell_type": "code",
      "execution_count": null,
      "metadata": {
        "id": "1qOg2_YKRbbp"
      },
      "outputs": [],
      "source": [
        "model = keras.Sequential([\n",
        "    keras.layers.Dense(29, input_shape=(29,), activation='relu'),\n",
        "    keras.layers.Dense(20, activation='relu'),\n",
        "    keras.layers.Dense(10,activation = 'relu'),\n",
        "    keras.layers.Dense(1, activation='sigmoid')\n",
        "]\n",
        ")"
      ]
    },
    {
      "cell_type": "code",
      "execution_count": null,
      "metadata": {
        "id": "P3zxrytYR1KA",
        "colab": {
          "base_uri": "https://localhost:8080/"
        },
        "outputId": "635e0f6c-4296-4500-933b-b20f93f78368"
      },
      "outputs": [
        {
          "output_type": "stream",
          "name": "stdout",
          "text": [
            "Epoch 1/100\n",
            "145/145 [==============================] - 2s 5ms/step - loss: 0.5702 - accuracy: 0.7439 - val_loss: 0.4200 - val_accuracy: 0.7936\n",
            "Epoch 2/100\n",
            "145/145 [==============================] - 1s 4ms/step - loss: 0.4106 - accuracy: 0.8098 - val_loss: 0.3915 - val_accuracy: 0.8204\n",
            "Epoch 3/100\n",
            "145/145 [==============================] - 1s 5ms/step - loss: 0.3886 - accuracy: 0.8205 - val_loss: 0.3747 - val_accuracy: 0.8275\n",
            "Epoch 4/100\n",
            "145/145 [==============================] - 1s 5ms/step - loss: 0.3730 - accuracy: 0.8242 - val_loss: 0.3691 - val_accuracy: 0.8265\n",
            "Epoch 5/100\n",
            "145/145 [==============================] - 1s 5ms/step - loss: 0.3700 - accuracy: 0.8278 - val_loss: 0.3635 - val_accuracy: 0.8331\n",
            "Epoch 6/100\n",
            "145/145 [==============================] - 1s 5ms/step - loss: 0.3659 - accuracy: 0.8237 - val_loss: 0.3641 - val_accuracy: 0.8306\n",
            "Epoch 7/100\n",
            "145/145 [==============================] - 1s 4ms/step - loss: 0.3656 - accuracy: 0.8276 - val_loss: 0.3650 - val_accuracy: 0.8290\n",
            "Epoch 8/100\n",
            "145/145 [==============================] - 1s 5ms/step - loss: 0.3570 - accuracy: 0.8335 - val_loss: 0.3638 - val_accuracy: 0.8321\n",
            "Epoch 9/100\n",
            "145/145 [==============================] - 0s 3ms/step - loss: 0.3550 - accuracy: 0.8356 - val_loss: 0.3553 - val_accuracy: 0.8381\n",
            "Epoch 10/100\n",
            "145/145 [==============================] - 0s 3ms/step - loss: 0.3463 - accuracy: 0.8408 - val_loss: 0.3501 - val_accuracy: 0.8493\n",
            "Epoch 11/100\n",
            "145/145 [==============================] - 0s 3ms/step - loss: 0.3455 - accuracy: 0.8435 - val_loss: 0.3541 - val_accuracy: 0.8457\n",
            "Epoch 12/100\n",
            "145/145 [==============================] - 0s 3ms/step - loss: 0.3486 - accuracy: 0.8376 - val_loss: 0.4046 - val_accuracy: 0.8027\n",
            "Epoch 13/100\n",
            "145/145 [==============================] - 0s 3ms/step - loss: 0.3468 - accuracy: 0.8374 - val_loss: 0.3481 - val_accuracy: 0.8447\n",
            "Epoch 14/100\n",
            "145/145 [==============================] - 0s 3ms/step - loss: 0.3555 - accuracy: 0.8343 - val_loss: 0.3407 - val_accuracy: 0.8538\n",
            "Epoch 15/100\n",
            "145/145 [==============================] - 1s 3ms/step - loss: 0.3414 - accuracy: 0.8413 - val_loss: 0.3414 - val_accuracy: 0.8533\n",
            "Epoch 16/100\n",
            "145/145 [==============================] - 0s 3ms/step - loss: 0.3446 - accuracy: 0.8413 - val_loss: 0.3564 - val_accuracy: 0.8407\n",
            "Epoch 17/100\n",
            "145/145 [==============================] - 1s 3ms/step - loss: 0.3393 - accuracy: 0.8482 - val_loss: 0.3369 - val_accuracy: 0.8503\n",
            "Epoch 18/100\n",
            "145/145 [==============================] - 0s 3ms/step - loss: 0.3365 - accuracy: 0.8461 - val_loss: 0.3404 - val_accuracy: 0.8417\n",
            "Epoch 19/100\n",
            "145/145 [==============================] - 1s 3ms/step - loss: 0.3428 - accuracy: 0.8413 - val_loss: 0.3389 - val_accuracy: 0.8503\n",
            "Epoch 20/100\n",
            "145/145 [==============================] - 0s 3ms/step - loss: 0.3415 - accuracy: 0.8411 - val_loss: 0.3419 - val_accuracy: 0.8483\n",
            "Epoch 21/100\n",
            "145/145 [==============================] - 0s 3ms/step - loss: 0.3341 - accuracy: 0.8461 - val_loss: 0.3635 - val_accuracy: 0.8311\n",
            "Epoch 22/100\n",
            "145/145 [==============================] - 0s 3ms/step - loss: 0.3318 - accuracy: 0.8489 - val_loss: 0.3346 - val_accuracy: 0.8513\n",
            "Epoch 23/100\n",
            "145/145 [==============================] - 0s 3ms/step - loss: 0.3376 - accuracy: 0.8450 - val_loss: 0.3393 - val_accuracy: 0.8508\n",
            "Epoch 24/100\n",
            "145/145 [==============================] - 0s 3ms/step - loss: 0.3308 - accuracy: 0.8469 - val_loss: 0.3387 - val_accuracy: 0.8503\n",
            "Epoch 25/100\n",
            "145/145 [==============================] - 0s 3ms/step - loss: 0.3329 - accuracy: 0.8469 - val_loss: 0.3357 - val_accuracy: 0.8528\n",
            "Epoch 26/100\n",
            "145/145 [==============================] - 0s 3ms/step - loss: 0.3261 - accuracy: 0.8515 - val_loss: 0.3506 - val_accuracy: 0.8503\n",
            "Epoch 27/100\n",
            "145/145 [==============================] - 0s 3ms/step - loss: 0.3328 - accuracy: 0.8445 - val_loss: 0.3449 - val_accuracy: 0.8422\n",
            "Epoch 28/100\n",
            "145/145 [==============================] - 0s 3ms/step - loss: 0.3297 - accuracy: 0.8484 - val_loss: 0.3317 - val_accuracy: 0.8533\n",
            "Epoch 29/100\n",
            "145/145 [==============================] - 1s 4ms/step - loss: 0.3251 - accuracy: 0.8523 - val_loss: 0.3776 - val_accuracy: 0.8306\n",
            "Epoch 30/100\n",
            "145/145 [==============================] - 1s 4ms/step - loss: 0.3242 - accuracy: 0.8526 - val_loss: 0.3356 - val_accuracy: 0.8513\n",
            "Epoch 31/100\n",
            "145/145 [==============================] - 1s 5ms/step - loss: 0.3252 - accuracy: 0.8521 - val_loss: 0.3311 - val_accuracy: 0.8558\n",
            "Epoch 32/100\n",
            "145/145 [==============================] - 1s 5ms/step - loss: 0.3223 - accuracy: 0.8539 - val_loss: 0.3433 - val_accuracy: 0.8513\n",
            "Epoch 33/100\n",
            "145/145 [==============================] - 1s 4ms/step - loss: 0.3244 - accuracy: 0.8517 - val_loss: 0.3277 - val_accuracy: 0.8563\n",
            "Epoch 34/100\n",
            "145/145 [==============================] - 1s 5ms/step - loss: 0.3163 - accuracy: 0.8571 - val_loss: 0.3304 - val_accuracy: 0.8563\n",
            "Epoch 35/100\n",
            "145/145 [==============================] - 1s 4ms/step - loss: 0.3175 - accuracy: 0.8591 - val_loss: 0.3242 - val_accuracy: 0.8558\n",
            "Epoch 36/100\n",
            "145/145 [==============================] - 1s 5ms/step - loss: 0.3217 - accuracy: 0.8487 - val_loss: 0.3642 - val_accuracy: 0.8326\n",
            "Epoch 37/100\n",
            "145/145 [==============================] - 0s 3ms/step - loss: 0.3196 - accuracy: 0.8588 - val_loss: 0.3360 - val_accuracy: 0.8483\n",
            "Epoch 38/100\n",
            "145/145 [==============================] - 0s 3ms/step - loss: 0.3181 - accuracy: 0.8599 - val_loss: 0.3250 - val_accuracy: 0.8533\n",
            "Epoch 39/100\n",
            "145/145 [==============================] - 0s 3ms/step - loss: 0.3168 - accuracy: 0.8526 - val_loss: 0.3269 - val_accuracy: 0.8558\n",
            "Epoch 40/100\n",
            "145/145 [==============================] - 0s 3ms/step - loss: 0.3155 - accuracy: 0.8580 - val_loss: 0.3220 - val_accuracy: 0.8563\n",
            "Epoch 41/100\n",
            "145/145 [==============================] - 0s 3ms/step - loss: 0.3131 - accuracy: 0.8604 - val_loss: 0.3230 - val_accuracy: 0.8483\n",
            "Epoch 42/100\n",
            "145/145 [==============================] - 1s 4ms/step - loss: 0.3116 - accuracy: 0.8578 - val_loss: 0.3253 - val_accuracy: 0.8574\n",
            "Epoch 43/100\n",
            "145/145 [==============================] - 1s 3ms/step - loss: 0.3156 - accuracy: 0.8586 - val_loss: 0.3221 - val_accuracy: 0.8538\n",
            "Epoch 44/100\n",
            "145/145 [==============================] - 1s 4ms/step - loss: 0.3098 - accuracy: 0.8599 - val_loss: 0.3389 - val_accuracy: 0.8417\n",
            "Epoch 45/100\n",
            "145/145 [==============================] - 0s 3ms/step - loss: 0.3141 - accuracy: 0.8573 - val_loss: 0.3244 - val_accuracy: 0.8508\n",
            "Epoch 46/100\n",
            "145/145 [==============================] - 1s 3ms/step - loss: 0.3165 - accuracy: 0.8500 - val_loss: 0.3319 - val_accuracy: 0.8488\n",
            "Epoch 47/100\n",
            "145/145 [==============================] - 0s 3ms/step - loss: 0.3086 - accuracy: 0.8627 - val_loss: 0.3206 - val_accuracy: 0.8533\n",
            "Epoch 48/100\n",
            "145/145 [==============================] - 0s 3ms/step - loss: 0.3053 - accuracy: 0.8604 - val_loss: 0.3196 - val_accuracy: 0.8488\n",
            "Epoch 49/100\n",
            "145/145 [==============================] - 0s 3ms/step - loss: 0.3071 - accuracy: 0.8619 - val_loss: 0.3565 - val_accuracy: 0.8427\n",
            "Epoch 50/100\n",
            "145/145 [==============================] - 0s 3ms/step - loss: 0.3133 - accuracy: 0.8604 - val_loss: 0.3219 - val_accuracy: 0.8563\n",
            "Epoch 51/100\n",
            "145/145 [==============================] - 0s 3ms/step - loss: 0.3108 - accuracy: 0.8595 - val_loss: 0.3220 - val_accuracy: 0.8574\n",
            "Epoch 52/100\n",
            "145/145 [==============================] - 0s 3ms/step - loss: 0.3073 - accuracy: 0.8612 - val_loss: 0.3202 - val_accuracy: 0.8563\n",
            "Epoch 53/100\n",
            "145/145 [==============================] - 0s 3ms/step - loss: 0.3059 - accuracy: 0.8641 - val_loss: 0.3356 - val_accuracy: 0.8599\n",
            "Epoch 54/100\n",
            "145/145 [==============================] - 0s 3ms/step - loss: 0.3104 - accuracy: 0.8617 - val_loss: 0.3235 - val_accuracy: 0.8558\n",
            "Epoch 55/100\n",
            "145/145 [==============================] - 0s 3ms/step - loss: 0.3035 - accuracy: 0.8638 - val_loss: 0.3195 - val_accuracy: 0.8553\n",
            "Epoch 56/100\n",
            "145/145 [==============================] - 0s 3ms/step - loss: 0.3116 - accuracy: 0.8578 - val_loss: 0.3222 - val_accuracy: 0.8589\n",
            "Epoch 57/100\n",
            "145/145 [==============================] - 0s 3ms/step - loss: 0.2992 - accuracy: 0.8688 - val_loss: 0.3443 - val_accuracy: 0.8533\n",
            "Epoch 58/100\n",
            "145/145 [==============================] - 1s 4ms/step - loss: 0.3031 - accuracy: 0.8656 - val_loss: 0.3360 - val_accuracy: 0.8477\n",
            "Epoch 59/100\n",
            "145/145 [==============================] - 1s 4ms/step - loss: 0.3206 - accuracy: 0.8562 - val_loss: 0.3175 - val_accuracy: 0.8579\n",
            "Epoch 60/100\n",
            "145/145 [==============================] - 1s 5ms/step - loss: 0.3014 - accuracy: 0.8673 - val_loss: 0.3331 - val_accuracy: 0.8548\n",
            "Epoch 61/100\n",
            "145/145 [==============================] - 1s 4ms/step - loss: 0.2977 - accuracy: 0.8645 - val_loss: 0.3235 - val_accuracy: 0.8553\n",
            "Epoch 62/100\n",
            "145/145 [==============================] - 1s 4ms/step - loss: 0.3010 - accuracy: 0.8669 - val_loss: 0.3275 - val_accuracy: 0.8538\n",
            "Epoch 63/100\n",
            "145/145 [==============================] - 1s 5ms/step - loss: 0.2986 - accuracy: 0.8634 - val_loss: 0.3174 - val_accuracy: 0.8609\n",
            "Epoch 64/100\n",
            "145/145 [==============================] - 1s 5ms/step - loss: 0.2992 - accuracy: 0.8638 - val_loss: 0.3240 - val_accuracy: 0.8553\n",
            "Epoch 65/100\n",
            "145/145 [==============================] - 1s 3ms/step - loss: 0.2996 - accuracy: 0.8664 - val_loss: 0.3257 - val_accuracy: 0.8493\n",
            "Epoch 66/100\n",
            "145/145 [==============================] - 0s 3ms/step - loss: 0.2997 - accuracy: 0.8695 - val_loss: 0.3198 - val_accuracy: 0.8558\n",
            "Epoch 67/100\n",
            "145/145 [==============================] - 0s 3ms/step - loss: 0.2999 - accuracy: 0.8649 - val_loss: 0.3333 - val_accuracy: 0.8563\n",
            "Epoch 68/100\n",
            "145/145 [==============================] - 0s 3ms/step - loss: 0.2946 - accuracy: 0.8680 - val_loss: 0.3474 - val_accuracy: 0.8447\n",
            "Epoch 69/100\n",
            "145/145 [==============================] - 0s 3ms/step - loss: 0.3011 - accuracy: 0.8667 - val_loss: 0.3352 - val_accuracy: 0.8558\n",
            "Epoch 70/100\n",
            "145/145 [==============================] - 0s 3ms/step - loss: 0.2990 - accuracy: 0.8656 - val_loss: 0.3172 - val_accuracy: 0.8604\n",
            "Epoch 71/100\n",
            "145/145 [==============================] - 0s 3ms/step - loss: 0.2934 - accuracy: 0.8656 - val_loss: 0.3175 - val_accuracy: 0.8604\n",
            "Epoch 72/100\n",
            "145/145 [==============================] - 0s 3ms/step - loss: 0.2891 - accuracy: 0.8716 - val_loss: 0.3189 - val_accuracy: 0.8574\n",
            "Epoch 73/100\n",
            "145/145 [==============================] - 0s 3ms/step - loss: 0.2929 - accuracy: 0.8649 - val_loss: 0.3292 - val_accuracy: 0.8558\n",
            "Epoch 74/100\n",
            "145/145 [==============================] - 0s 3ms/step - loss: 0.2979 - accuracy: 0.8614 - val_loss: 0.3257 - val_accuracy: 0.8513\n",
            "Epoch 75/100\n",
            "145/145 [==============================] - 0s 3ms/step - loss: 0.2954 - accuracy: 0.8680 - val_loss: 0.3235 - val_accuracy: 0.8599\n",
            "Epoch 76/100\n",
            "145/145 [==============================] - 0s 3ms/step - loss: 0.2939 - accuracy: 0.8673 - val_loss: 0.3159 - val_accuracy: 0.8579\n",
            "Epoch 77/100\n",
            "145/145 [==============================] - 0s 3ms/step - loss: 0.2928 - accuracy: 0.8660 - val_loss: 0.3213 - val_accuracy: 0.8563\n",
            "Epoch 78/100\n",
            "145/145 [==============================] - 0s 3ms/step - loss: 0.2930 - accuracy: 0.8645 - val_loss: 0.3441 - val_accuracy: 0.8371\n",
            "Epoch 79/100\n",
            "145/145 [==============================] - 0s 3ms/step - loss: 0.2895 - accuracy: 0.8716 - val_loss: 0.3276 - val_accuracy: 0.8604\n",
            "Epoch 80/100\n",
            "145/145 [==============================] - 0s 3ms/step - loss: 0.2884 - accuracy: 0.8671 - val_loss: 0.3650 - val_accuracy: 0.8371\n",
            "Epoch 81/100\n",
            "145/145 [==============================] - 0s 3ms/step - loss: 0.2871 - accuracy: 0.8734 - val_loss: 0.3302 - val_accuracy: 0.8553\n",
            "Epoch 82/100\n",
            "145/145 [==============================] - 0s 3ms/step - loss: 0.2916 - accuracy: 0.8654 - val_loss: 0.3253 - val_accuracy: 0.8609\n",
            "Epoch 83/100\n",
            "145/145 [==============================] - 0s 3ms/step - loss: 0.2881 - accuracy: 0.8688 - val_loss: 0.3290 - val_accuracy: 0.8483\n",
            "Epoch 84/100\n",
            "145/145 [==============================] - 0s 3ms/step - loss: 0.2908 - accuracy: 0.8725 - val_loss: 0.3224 - val_accuracy: 0.8619\n",
            "Epoch 85/100\n",
            "145/145 [==============================] - 0s 3ms/step - loss: 0.2873 - accuracy: 0.8710 - val_loss: 0.3333 - val_accuracy: 0.8533\n",
            "Epoch 86/100\n",
            "145/145 [==============================] - 0s 3ms/step - loss: 0.2865 - accuracy: 0.8712 - val_loss: 0.3180 - val_accuracy: 0.8629\n",
            "Epoch 87/100\n",
            "145/145 [==============================] - 1s 4ms/step - loss: 0.2895 - accuracy: 0.8710 - val_loss: 0.3273 - val_accuracy: 0.8558\n",
            "Epoch 88/100\n",
            "145/145 [==============================] - 1s 5ms/step - loss: 0.2826 - accuracy: 0.8768 - val_loss: 0.3236 - val_accuracy: 0.8614\n",
            "Epoch 89/100\n",
            "145/145 [==============================] - 1s 5ms/step - loss: 0.2878 - accuracy: 0.8697 - val_loss: 0.3255 - val_accuracy: 0.8558\n",
            "Epoch 90/100\n",
            "145/145 [==============================] - 1s 4ms/step - loss: 0.2870 - accuracy: 0.8714 - val_loss: 0.3202 - val_accuracy: 0.8624\n",
            "Epoch 91/100\n",
            "145/145 [==============================] - 1s 4ms/step - loss: 0.2845 - accuracy: 0.8693 - val_loss: 0.3249 - val_accuracy: 0.8594\n",
            "Epoch 92/100\n",
            "145/145 [==============================] - 1s 4ms/step - loss: 0.2861 - accuracy: 0.8677 - val_loss: 0.3201 - val_accuracy: 0.8619\n",
            "Epoch 93/100\n",
            "145/145 [==============================] - 1s 5ms/step - loss: 0.2837 - accuracy: 0.8712 - val_loss: 0.3239 - val_accuracy: 0.8569\n",
            "Epoch 94/100\n",
            "145/145 [==============================] - 1s 4ms/step - loss: 0.2901 - accuracy: 0.8684 - val_loss: 0.3288 - val_accuracy: 0.8604\n",
            "Epoch 95/100\n",
            "145/145 [==============================] - 0s 3ms/step - loss: 0.2834 - accuracy: 0.8695 - val_loss: 0.3468 - val_accuracy: 0.8553\n",
            "Epoch 96/100\n",
            "145/145 [==============================] - 0s 3ms/step - loss: 0.2823 - accuracy: 0.8667 - val_loss: 0.3266 - val_accuracy: 0.8574\n",
            "Epoch 97/100\n",
            "145/145 [==============================] - 0s 3ms/step - loss: 0.2810 - accuracy: 0.8740 - val_loss: 0.3307 - val_accuracy: 0.8523\n",
            "Epoch 98/100\n",
            "145/145 [==============================] - 0s 3ms/step - loss: 0.2785 - accuracy: 0.8732 - val_loss: 0.3236 - val_accuracy: 0.8614\n",
            "Epoch 99/100\n",
            "145/145 [==============================] - 0s 3ms/step - loss: 0.2779 - accuracy: 0.8729 - val_loss: 0.3207 - val_accuracy: 0.8624\n",
            "Epoch 100/100\n",
            "145/145 [==============================] - 0s 3ms/step - loss: 0.2813 - accuracy: 0.8755 - val_loss: 0.3311 - val_accuracy: 0.8624\n"
          ]
        }
      ],
      "source": [
        "# time for compilation of neural net.\n",
        "model.compile(optimizer = 'adam',\n",
        "             loss = 'binary_crossentropy',\n",
        "             metrics = ['accuracy'])\n",
        "# now we fit our model to training data\n",
        "history = model.fit(X_train,y_train, validation_data=(X_test, y_test),epochs=100)"
      ]
    },
    {
      "cell_type": "code",
      "source": [
        "model.evaluate(X_test,y_test)"
      ],
      "metadata": {
        "colab": {
          "base_uri": "https://localhost:8080/"
        },
        "id": "iz_dFgpaKQBW",
        "outputId": "e5089d7f-fade-4e82-b5b2-f553e685336e"
      },
      "execution_count": 64,
      "outputs": [
        {
          "output_type": "stream",
          "name": "stdout",
          "text": [
            "62/62 [==============================] - 0s 2ms/step - loss: 0.3589 - accuracy: 0.8508\n"
          ]
        },
        {
          "output_type": "execute_result",
          "data": {
            "text/plain": [
              "[0.358946830034256, 0.8507840037345886]"
            ]
          },
          "metadata": {},
          "execution_count": 64
        }
      ]
    },
    {
      "cell_type": "code",
      "source": [
        "y_pred = model.predict(X_test)"
      ],
      "metadata": {
        "colab": {
          "base_uri": "https://localhost:8080/"
        },
        "id": "YaIU049_KqeR",
        "outputId": "16331942-b0e5-43c3-c5f6-7c83799820b6"
      },
      "execution_count": null,
      "outputs": [
        {
          "output_type": "stream",
          "name": "stdout",
          "text": [
            "62/62 [==============================] - 0s 1ms/step\n"
          ]
        }
      ]
    },
    {
      "cell_type": "code",
      "source": [
        "plt.plot(history.history['accuracy']) \n",
        "plt.plot(history.history['val_accuracy']) \n",
        "plt.title('model accuracy') \n",
        "plt.ylabel('accuracy')\n",
        "plt.xlabel('epoch') \n",
        "plt.legend(['train', 'test'], loc='upper left') \n",
        "plt.show()"
      ],
      "metadata": {
        "colab": {
          "base_uri": "https://localhost:8080/",
          "height": 472
        },
        "id": "gcBqEAyhcQ1v",
        "outputId": "1d281f09-b530-456a-d2ac-7ab9e8bd7b89"
      },
      "execution_count": null,
      "outputs": [
        {
          "output_type": "display_data",
          "data": {
            "text/plain": [
              "<Figure size 640x480 with 1 Axes>"
            ],
            "image/png": "[encoded data removed]"
          },
          "metadata": {}
        }
      ]
    },
    {
      "cell_type": "markdown",
      "source": [
        "## Tunning Parameters gen 2"
      ],
      "metadata": {
        "id": "4F24vLgrriWf"
      }
    },
    {
      "cell_type": "code",
      "source": [
        "def create_model_gen2(learn_rate, batch_size):\n",
        "    model = keras.Sequential([\n",
        "        keras.layers.Dense(29, input_shape=(29,), activation='relu'),\n",
        "        keras.layers.Dense(20, activation='relu'),\n",
        "        keras.layers.Dense(10,activation = 'relu'),\n",
        "        keras.layers.Dense(1, activation='sigmoid')\n",
        "    ])\n",
        "    \n",
        "    optimizer = keras.optimizers.Adam(learning_rate=learn_rate)\n",
        "    model.compile(optimizer=optimizer, loss='binary_crossentropy', metrics=['accuracy'])\n",
        "    \n",
        "    return model"
      ],
      "metadata": {
        "id": "iRr4i7f_rmCB"
      },
      "execution_count": null,
      "outputs": []
    },
    {
      "cell_type": "code",
      "source": [
        "model = KerasClassifier(build_fn=create_model_gen2, verbose=0)\n",
        "\n",
        "param_grid = {\n",
        "    'learn_rate': [0.001, 0.01, 0.1],\n",
        "    'batch_size': [8, 16, 32]\n",
        "}\n",
        "\n",
        "grid = GridSearchCV(estimator=model, param_grid=param_grid, n_jobs=-1, cv=3, verbose=1)\n",
        "grid_result = grid.fit(X_train, y_train)\n",
        "\n",
        "print(f'Best score: {grid_result.best_score_} using {grid_result.best_params_}')"
      ],
      "metadata": {
        "colab": {
          "base_uri": "https://localhost:8080/"
        },
        "id": "QMUqNepjrsgn",
        "outputId": "c9b4c67e-ec3b-4a15-c1c2-46fe39e54049"
      },
      "execution_count": null,
      "outputs": [
        {
          "output_type": "stream",
          "name": "stdout",
          "text": [
            "Fitting 3 folds for each of 9 candidates, totalling 27 fits\n"
          ]
        },
        {
          "output_type": "stream",
          "name": "stderr",
          "text": [
            "<ipython-input-42-40db112fe391>:1: DeprecationWarning: KerasClassifier is deprecated, use Sci-Keras (https://github.com/adriangb/scikeras) instead. See https://www.adriangb.com/scikeras/stable/migration.html for help migrating.\n",
            "  model = KerasClassifier(build_fn=create_model_gen2, verbose=0)\n"
          ]
        },
        {
          "output_type": "stream",
          "name": "stdout",
          "text": [
            "Best score: 0.8085406025250753 using {'batch_size': 8, 'learn_rate': 0.01}\n"
          ]
        }
      ]
    },
    {
      "cell_type": "markdown",
      "source": [
        "## Building final model "
      ],
      "metadata": {
        "id": "FUa_sErhjLzO"
      }
    },
    {
      "cell_type": "code",
      "source": [
        "model_ann = keras.Sequential([\n",
        "    keras.layers.Dense(29, input_shape=(29,), activation='relu'),\n",
        "    keras.layers.Dense(20, activation='relu'),\n",
        "    keras.layers.Dense(10,activation = 'relu'),\n",
        "    keras.layers.Dense(1, activation='sigmoid')\n",
        "]\n",
        ")"
      ],
      "metadata": {
        "id": "_S4eEfq3jIl8"
      },
      "execution_count": 39,
      "outputs": []
    },
    {
      "cell_type": "code",
      "source": [
        "optimizer = keras.optimizers.Adam(learning_rate=0.01)\n",
        "model_ann.compile(optimizer=optimizer,\n",
        "              loss='binary_crossentropy',\n",
        "              metrics=['accuracy'])\n",
        "history = model_ann.fit(X_train,y_train, validation_data=(X_test, y_test),epochs=100, batch_size=8)"
      ],
      "metadata": {
        "colab": {
          "base_uri": "https://localhost:8080/"
        },
        "id": "_RPSikXujLiT",
        "outputId": "f27ecba9-3776-4f45-f9cd-4ceb0be5fa83"
      },
      "execution_count": 40,
      "outputs": [
        {
          "output_type": "stream",
          "name": "stdout",
          "text": [
            "Epoch 1/100\n",
            "577/577 [==============================] - 2s 2ms/step - loss: 0.4359 - accuracy: 0.7899 - val_loss: 0.3777 - val_accuracy: 0.8245\n",
            "Epoch 2/100\n",
            "577/577 [==============================] - 1s 2ms/step - loss: 0.3840 - accuracy: 0.8190 - val_loss: 0.3606 - val_accuracy: 0.8336\n",
            "Epoch 3/100\n",
            "577/577 [==============================] - 1s 2ms/step - loss: 0.3747 - accuracy: 0.8252 - val_loss: 0.3591 - val_accuracy: 0.8467\n",
            "Epoch 4/100\n",
            "577/577 [==============================] - 2s 3ms/step - loss: 0.3648 - accuracy: 0.8346 - val_loss: 0.3452 - val_accuracy: 0.8427\n",
            "Epoch 5/100\n",
            "577/577 [==============================] - 1s 2ms/step - loss: 0.3591 - accuracy: 0.8335 - val_loss: 0.3467 - val_accuracy: 0.8447\n",
            "Epoch 6/100\n",
            "577/577 [==============================] - 1s 2ms/step - loss: 0.3606 - accuracy: 0.8363 - val_loss: 0.3481 - val_accuracy: 0.8498\n",
            "Epoch 7/100\n",
            "577/577 [==============================] - 1s 2ms/step - loss: 0.3562 - accuracy: 0.8354 - val_loss: 0.3396 - val_accuracy: 0.8518\n",
            "Epoch 8/100\n",
            "577/577 [==============================] - 1s 2ms/step - loss: 0.3484 - accuracy: 0.8415 - val_loss: 0.3346 - val_accuracy: 0.8563\n",
            "Epoch 9/100\n",
            "577/577 [==============================] - 1s 2ms/step - loss: 0.3445 - accuracy: 0.8428 - val_loss: 0.3353 - val_accuracy: 0.8422\n",
            "Epoch 10/100\n",
            "577/577 [==============================] - 1s 2ms/step - loss: 0.3413 - accuracy: 0.8432 - val_loss: 0.3512 - val_accuracy: 0.8412\n",
            "Epoch 11/100\n",
            "577/577 [==============================] - 1s 2ms/step - loss: 0.3368 - accuracy: 0.8422 - val_loss: 0.3185 - val_accuracy: 0.8518\n",
            "Epoch 12/100\n",
            "577/577 [==============================] - 1s 2ms/step - loss: 0.3363 - accuracy: 0.8435 - val_loss: 0.3377 - val_accuracy: 0.8533\n",
            "Epoch 13/100\n",
            "577/577 [==============================] - 1s 2ms/step - loss: 0.3363 - accuracy: 0.8445 - val_loss: 0.4302 - val_accuracy: 0.8037\n",
            "Epoch 14/100\n",
            "577/577 [==============================] - 2s 3ms/step - loss: 0.3346 - accuracy: 0.8480 - val_loss: 0.3230 - val_accuracy: 0.8594\n",
            "Epoch 15/100\n",
            "577/577 [==============================] - 2s 3ms/step - loss: 0.3330 - accuracy: 0.8458 - val_loss: 0.3228 - val_accuracy: 0.8599\n",
            "Epoch 16/100\n",
            "577/577 [==============================] - 1s 2ms/step - loss: 0.3283 - accuracy: 0.8493 - val_loss: 0.3201 - val_accuracy: 0.8589\n",
            "Epoch 17/100\n",
            "577/577 [==============================] - 1s 2ms/step - loss: 0.3253 - accuracy: 0.8536 - val_loss: 0.3208 - val_accuracy: 0.8579\n",
            "Epoch 18/100\n",
            "577/577 [==============================] - 1s 2ms/step - loss: 0.3261 - accuracy: 0.8532 - val_loss: 0.3159 - val_accuracy: 0.8629\n",
            "Epoch 19/100\n",
            "577/577 [==============================] - 1s 2ms/step - loss: 0.3239 - accuracy: 0.8517 - val_loss: 0.3476 - val_accuracy: 0.8381\n",
            "Epoch 20/100\n",
            "577/577 [==============================] - 1s 2ms/step - loss: 0.3266 - accuracy: 0.8506 - val_loss: 0.3138 - val_accuracy: 0.8563\n",
            "Epoch 21/100\n",
            "577/577 [==============================] - 1s 2ms/step - loss: 0.3247 - accuracy: 0.8554 - val_loss: 0.3203 - val_accuracy: 0.8624\n",
            "Epoch 22/100\n",
            "577/577 [==============================] - 1s 2ms/step - loss: 0.3272 - accuracy: 0.8547 - val_loss: 0.3324 - val_accuracy: 0.8574\n",
            "Epoch 23/100\n",
            "577/577 [==============================] - 1s 2ms/step - loss: 0.3253 - accuracy: 0.8513 - val_loss: 0.3214 - val_accuracy: 0.8624\n",
            "Epoch 24/100\n",
            "577/577 [==============================] - 2s 3ms/step - loss: 0.3222 - accuracy: 0.8565 - val_loss: 0.3150 - val_accuracy: 0.8629\n",
            "Epoch 25/100\n",
            "577/577 [==============================] - 2s 3ms/step - loss: 0.3190 - accuracy: 0.8582 - val_loss: 0.3535 - val_accuracy: 0.8452\n",
            "Epoch 26/100\n",
            "577/577 [==============================] - 1s 2ms/step - loss: 0.3196 - accuracy: 0.8573 - val_loss: 0.3372 - val_accuracy: 0.8533\n",
            "Epoch 27/100\n",
            "577/577 [==============================] - 1s 2ms/step - loss: 0.3200 - accuracy: 0.8560 - val_loss: 0.3155 - val_accuracy: 0.8629\n",
            "Epoch 28/100\n",
            "577/577 [==============================] - 1s 2ms/step - loss: 0.3133 - accuracy: 0.8619 - val_loss: 0.3199 - val_accuracy: 0.8584\n",
            "Epoch 29/100\n",
            "577/577 [==============================] - 1s 2ms/step - loss: 0.3165 - accuracy: 0.8606 - val_loss: 0.3142 - val_accuracy: 0.8624\n",
            "Epoch 30/100\n",
            "577/577 [==============================] - 1s 2ms/step - loss: 0.3161 - accuracy: 0.8606 - val_loss: 0.3089 - val_accuracy: 0.8660\n",
            "Epoch 31/100\n",
            "577/577 [==============================] - 1s 2ms/step - loss: 0.3106 - accuracy: 0.8599 - val_loss: 0.3148 - val_accuracy: 0.8624\n",
            "Epoch 32/100\n",
            "577/577 [==============================] - 1s 2ms/step - loss: 0.3189 - accuracy: 0.8608 - val_loss: 0.3088 - val_accuracy: 0.8624\n",
            "Epoch 33/100\n",
            "577/577 [==============================] - 1s 2ms/step - loss: 0.3143 - accuracy: 0.8627 - val_loss: 0.3108 - val_accuracy: 0.8594\n",
            "Epoch 34/100\n",
            "577/577 [==============================] - 2s 3ms/step - loss: 0.3154 - accuracy: 0.8625 - val_loss: 0.3062 - val_accuracy: 0.8665\n",
            "Epoch 35/100\n",
            "577/577 [==============================] - 2s 3ms/step - loss: 0.3125 - accuracy: 0.8595 - val_loss: 0.3111 - val_accuracy: 0.8670\n",
            "Epoch 36/100\n",
            "577/577 [==============================] - 1s 2ms/step - loss: 0.3116 - accuracy: 0.8636 - val_loss: 0.3226 - val_accuracy: 0.8670\n",
            "Epoch 37/100\n",
            "577/577 [==============================] - 1s 2ms/step - loss: 0.3118 - accuracy: 0.8588 - val_loss: 0.3089 - val_accuracy: 0.8609\n",
            "Epoch 38/100\n",
            "577/577 [==============================] - 1s 2ms/step - loss: 0.3104 - accuracy: 0.8647 - val_loss: 0.3146 - val_accuracy: 0.8695\n",
            "Epoch 39/100\n",
            "577/577 [==============================] - 1s 2ms/step - loss: 0.3083 - accuracy: 0.8584 - val_loss: 0.3220 - val_accuracy: 0.8513\n",
            "Epoch 40/100\n",
            "577/577 [==============================] - 1s 2ms/step - loss: 0.3130 - accuracy: 0.8617 - val_loss: 0.3260 - val_accuracy: 0.8594\n",
            "Epoch 41/100\n",
            "577/577 [==============================] - 1s 2ms/step - loss: 0.3111 - accuracy: 0.8597 - val_loss: 0.3097 - val_accuracy: 0.8649\n",
            "Epoch 42/100\n",
            "577/577 [==============================] - 1s 2ms/step - loss: 0.3096 - accuracy: 0.8625 - val_loss: 0.3132 - val_accuracy: 0.8655\n",
            "Epoch 43/100\n",
            "577/577 [==============================] - 1s 2ms/step - loss: 0.3107 - accuracy: 0.8643 - val_loss: 0.3113 - val_accuracy: 0.8624\n",
            "Epoch 44/100\n",
            "577/577 [==============================] - 1s 2ms/step - loss: 0.3067 - accuracy: 0.8660 - val_loss: 0.3154 - val_accuracy: 0.8569\n",
            "Epoch 45/100\n",
            "577/577 [==============================] - 1s 2ms/step - loss: 0.3075 - accuracy: 0.8632 - val_loss: 0.3086 - val_accuracy: 0.8619\n",
            "Epoch 46/100\n",
            "577/577 [==============================] - 1s 3ms/step - loss: 0.3060 - accuracy: 0.8654 - val_loss: 0.3299 - val_accuracy: 0.8528\n",
            "Epoch 47/100\n",
            "577/577 [==============================] - 1s 2ms/step - loss: 0.3008 - accuracy: 0.8656 - val_loss: 0.3200 - val_accuracy: 0.8660\n",
            "Epoch 48/100\n",
            "577/577 [==============================] - 1s 2ms/step - loss: 0.3128 - accuracy: 0.8645 - val_loss: 0.3266 - val_accuracy: 0.8553\n",
            "Epoch 49/100\n",
            "577/577 [==============================] - 1s 2ms/step - loss: 0.3053 - accuracy: 0.8634 - val_loss: 0.3294 - val_accuracy: 0.8609\n",
            "Epoch 50/100\n",
            "577/577 [==============================] - 1s 2ms/step - loss: 0.3069 - accuracy: 0.8662 - val_loss: 0.3192 - val_accuracy: 0.8589\n",
            "Epoch 51/100\n",
            "577/577 [==============================] - 1s 2ms/step - loss: 0.3063 - accuracy: 0.8662 - val_loss: 0.3301 - val_accuracy: 0.8528\n",
            "Epoch 52/100\n",
            "577/577 [==============================] - 1s 2ms/step - loss: 0.3049 - accuracy: 0.8688 - val_loss: 0.3170 - val_accuracy: 0.8644\n",
            "Epoch 53/100\n",
            "577/577 [==============================] - 1s 2ms/step - loss: 0.3029 - accuracy: 0.8667 - val_loss: 0.3023 - val_accuracy: 0.8619\n",
            "Epoch 54/100\n",
            "577/577 [==============================] - 1s 2ms/step - loss: 0.3020 - accuracy: 0.8627 - val_loss: 0.3367 - val_accuracy: 0.8508\n",
            "Epoch 55/100\n",
            "577/577 [==============================] - 2s 3ms/step - loss: 0.3047 - accuracy: 0.8662 - val_loss: 0.3300 - val_accuracy: 0.8558\n",
            "Epoch 56/100\n",
            "577/577 [==============================] - 2s 3ms/step - loss: 0.3081 - accuracy: 0.8671 - val_loss: 0.3045 - val_accuracy: 0.8589\n",
            "Epoch 57/100\n",
            "577/577 [==============================] - 1s 2ms/step - loss: 0.3054 - accuracy: 0.8647 - val_loss: 0.3231 - val_accuracy: 0.8649\n",
            "Epoch 58/100\n",
            "577/577 [==============================] - 1s 2ms/step - loss: 0.3036 - accuracy: 0.8625 - val_loss: 0.3026 - val_accuracy: 0.8624\n",
            "Epoch 59/100\n",
            "577/577 [==============================] - 1s 2ms/step - loss: 0.3018 - accuracy: 0.8654 - val_loss: 0.3029 - val_accuracy: 0.8609\n",
            "Epoch 60/100\n",
            "577/577 [==============================] - 1s 2ms/step - loss: 0.3077 - accuracy: 0.8597 - val_loss: 0.3200 - val_accuracy: 0.8594\n",
            "Epoch 61/100\n",
            "577/577 [==============================] - 1s 2ms/step - loss: 0.3017 - accuracy: 0.8667 - val_loss: 0.3121 - val_accuracy: 0.8644\n",
            "Epoch 62/100\n",
            "577/577 [==============================] - 1s 2ms/step - loss: 0.2988 - accuracy: 0.8680 - val_loss: 0.3223 - val_accuracy: 0.8614\n",
            "Epoch 63/100\n",
            "577/577 [==============================] - 1s 2ms/step - loss: 0.2963 - accuracy: 0.8680 - val_loss: 0.3123 - val_accuracy: 0.8639\n",
            "Epoch 64/100\n",
            "577/577 [==============================] - 1s 2ms/step - loss: 0.3011 - accuracy: 0.8658 - val_loss: 0.3197 - val_accuracy: 0.8634\n",
            "Epoch 65/100\n",
            "577/577 [==============================] - 2s 3ms/step - loss: 0.3039 - accuracy: 0.8656 - val_loss: 0.3425 - val_accuracy: 0.8498\n",
            "Epoch 66/100\n",
            "577/577 [==============================] - 2s 3ms/step - loss: 0.2993 - accuracy: 0.8684 - val_loss: 0.3341 - val_accuracy: 0.8589\n",
            "Epoch 67/100\n",
            "577/577 [==============================] - 1s 2ms/step - loss: 0.2978 - accuracy: 0.8651 - val_loss: 0.3219 - val_accuracy: 0.8634\n",
            "Epoch 68/100\n",
            "577/577 [==============================] - 1s 2ms/step - loss: 0.2959 - accuracy: 0.8697 - val_loss: 0.3229 - val_accuracy: 0.8670\n",
            "Epoch 69/100\n",
            "577/577 [==============================] - 1s 2ms/step - loss: 0.2985 - accuracy: 0.8697 - val_loss: 0.3238 - val_accuracy: 0.8675\n",
            "Epoch 70/100\n",
            "577/577 [==============================] - 1s 2ms/step - loss: 0.2936 - accuracy: 0.8706 - val_loss: 0.3213 - val_accuracy: 0.8624\n",
            "Epoch 71/100\n",
            "577/577 [==============================] - 1s 2ms/step - loss: 0.2939 - accuracy: 0.8658 - val_loss: 0.3248 - val_accuracy: 0.8609\n",
            "Epoch 72/100\n",
            "577/577 [==============================] - 1s 2ms/step - loss: 0.3006 - accuracy: 0.8649 - val_loss: 0.3238 - val_accuracy: 0.8599\n",
            "Epoch 73/100\n",
            "577/577 [==============================] - 1s 2ms/step - loss: 0.2996 - accuracy: 0.8651 - val_loss: 0.2999 - val_accuracy: 0.8660\n",
            "Epoch 74/100\n",
            "577/577 [==============================] - 1s 2ms/step - loss: 0.2980 - accuracy: 0.8651 - val_loss: 0.3381 - val_accuracy: 0.8639\n",
            "Epoch 75/100\n",
            "577/577 [==============================] - 2s 3ms/step - loss: 0.3000 - accuracy: 0.8645 - val_loss: 0.3102 - val_accuracy: 0.8614\n",
            "Epoch 76/100\n",
            "577/577 [==============================] - 2s 3ms/step - loss: 0.2975 - accuracy: 0.8677 - val_loss: 0.3163 - val_accuracy: 0.8670\n",
            "Epoch 77/100\n",
            "577/577 [==============================] - 1s 2ms/step - loss: 0.2974 - accuracy: 0.8649 - val_loss: 0.3274 - val_accuracy: 0.8639\n",
            "Epoch 78/100\n",
            "577/577 [==============================] - 1s 2ms/step - loss: 0.2970 - accuracy: 0.8660 - val_loss: 0.3244 - val_accuracy: 0.8624\n",
            "Epoch 79/100\n",
            "577/577 [==============================] - 1s 2ms/step - loss: 0.2943 - accuracy: 0.8708 - val_loss: 0.3194 - val_accuracy: 0.8700\n",
            "Epoch 80/100\n",
            "577/577 [==============================] - 1s 2ms/step - loss: 0.2977 - accuracy: 0.8675 - val_loss: 0.3088 - val_accuracy: 0.8675\n",
            "Epoch 81/100\n",
            "577/577 [==============================] - 1s 2ms/step - loss: 0.2956 - accuracy: 0.8703 - val_loss: 0.3045 - val_accuracy: 0.8680\n",
            "Epoch 82/100\n",
            "577/577 [==============================] - 1s 2ms/step - loss: 0.2943 - accuracy: 0.8686 - val_loss: 0.3342 - val_accuracy: 0.8579\n",
            "Epoch 83/100\n",
            "577/577 [==============================] - 1s 2ms/step - loss: 0.2919 - accuracy: 0.8690 - val_loss: 0.3249 - val_accuracy: 0.8619\n",
            "Epoch 84/100\n",
            "577/577 [==============================] - 1s 2ms/step - loss: 0.2981 - accuracy: 0.8688 - val_loss: 0.3095 - val_accuracy: 0.8660\n",
            "Epoch 85/100\n",
            "577/577 [==============================] - 2s 3ms/step - loss: 0.2930 - accuracy: 0.8677 - val_loss: 0.3800 - val_accuracy: 0.8513\n",
            "Epoch 86/100\n",
            "577/577 [==============================] - 2s 3ms/step - loss: 0.2968 - accuracy: 0.8667 - val_loss: 0.3127 - val_accuracy: 0.8665\n",
            "Epoch 87/100\n",
            "577/577 [==============================] - 1s 2ms/step - loss: 0.2936 - accuracy: 0.8706 - val_loss: 0.3382 - val_accuracy: 0.8660\n",
            "Epoch 88/100\n",
            "577/577 [==============================] - 1s 2ms/step - loss: 0.2929 - accuracy: 0.8669 - val_loss: 0.3164 - val_accuracy: 0.8655\n",
            "Epoch 89/100\n",
            "577/577 [==============================] - 1s 2ms/step - loss: 0.2980 - accuracy: 0.8667 - val_loss: 0.3135 - val_accuracy: 0.8614\n",
            "Epoch 90/100\n",
            "577/577 [==============================] - 1s 2ms/step - loss: 0.2909 - accuracy: 0.8701 - val_loss: 0.3186 - val_accuracy: 0.8604\n",
            "Epoch 91/100\n",
            "577/577 [==============================] - 1s 2ms/step - loss: 0.2946 - accuracy: 0.8684 - val_loss: 0.3278 - val_accuracy: 0.8629\n",
            "Epoch 92/100\n",
            "577/577 [==============================] - 1s 2ms/step - loss: 0.2933 - accuracy: 0.8673 - val_loss: 0.3820 - val_accuracy: 0.8518\n",
            "Epoch 93/100\n",
            "577/577 [==============================] - 1s 2ms/step - loss: 0.2932 - accuracy: 0.8695 - val_loss: 0.3325 - val_accuracy: 0.8609\n",
            "Epoch 94/100\n",
            "577/577 [==============================] - 1s 2ms/step - loss: 0.2934 - accuracy: 0.8686 - val_loss: 0.3596 - val_accuracy: 0.8538\n",
            "Epoch 95/100\n",
            "577/577 [==============================] - 2s 3ms/step - loss: 0.2978 - accuracy: 0.8634 - val_loss: 0.3369 - val_accuracy: 0.8619\n",
            "Epoch 96/100\n",
            "577/577 [==============================] - 2s 3ms/step - loss: 0.2882 - accuracy: 0.8740 - val_loss: 0.3503 - val_accuracy: 0.8690\n",
            "Epoch 97/100\n",
            "577/577 [==============================] - 1s 2ms/step - loss: 0.2896 - accuracy: 0.8740 - val_loss: 0.3286 - val_accuracy: 0.8629\n",
            "Epoch 98/100\n",
            "577/577 [==============================] - 1s 2ms/step - loss: 0.2899 - accuracy: 0.8701 - val_loss: 0.3190 - val_accuracy: 0.8639\n",
            "Epoch 99/100\n",
            "577/577 [==============================] - 1s 2ms/step - loss: 0.2948 - accuracy: 0.8686 - val_loss: 0.3286 - val_accuracy: 0.8690\n",
            "Epoch 100/100\n",
            "577/577 [==============================] - 1s 2ms/step - loss: 0.2902 - accuracy: 0.8695 - val_loss: 0.3165 - val_accuracy: 0.8685\n"
          ]
        }
      ]
    },
    {
      "cell_type": "markdown",
      "source": [
        "## Evaluating optimized Model"
      ],
      "metadata": {
        "id": "0km5JBN3teAO"
      }
    },
    {
      "cell_type": "code",
      "source": [
        "model_ann.evaluate(X_test,y_test)"
      ],
      "metadata": {
        "colab": {
          "base_uri": "https://localhost:8080/"
        },
        "id": "z_5bSJgckwsh",
        "outputId": "726ca2aa-596c-44b0-92e7-739f880b75f6"
      },
      "execution_count": 42,
      "outputs": [
        {
          "output_type": "stream",
          "name": "stdout",
          "text": [
            "62/62 [==============================] - 0s 1ms/step - loss: 0.3165 - accuracy: 0.8685\n"
          ]
        },
        {
          "output_type": "execute_result",
          "data": {
            "text/plain": [
              "[0.3164617419242859, 0.8684875965118408]"
            ]
          },
          "metadata": {},
          "execution_count": 42
        }
      ]
    },
    {
      "cell_type": "code",
      "source": [
        "y_pred_ANN = model_ann.predict(X_test)\n",
        "# unscaling the ypred values \n",
        "y_pred_lis = []\n",
        "for i in y_pred_ANN:\n",
        "    if i>0.5:\n",
        "        y_pred_lis.append(1)\n",
        "    else:\n",
        "        y_pred_lis.append(0)\n",
        "print(y_pred_lis)"
      ],
      "metadata": {
        "colab": {
          "base_uri": "https://localhost:8080/"
        },
        "id": "lIG0gyZLkzwh",
        "outputId": "775fbbe6-e23a-4fae-9fc5-eb6475417f23"
      },
      "execution_count": 43,
      "outputs": [
        {
          "output_type": "stream",
          "name": "stdout",
          "text": [
            "62/62 [==============================] - 0s 977us/step\n",
            "[1, 0, 1, 0, 1, 1, 1, 1, 1, 1, 1, 0, 0, 0, 1, 1, 0, 1, 1, 1, 0, 1, 1, 1, 1, 1, 1, 1, 0, 1, 1, 1, 1, 1, 1, 0, 1, 1, 0, 1, 0, 0, 1, 1, 1, 1, 1, 1, 0, 1, 1, 1, 0, 1, 1, 1, 1, 0, 0, 0, 1, 1, 1, 1, 1, 1, 1, 1, 0, 1, 1, 1, 1, 0, 1, 1, 1, 1, 1, 0, 0, 1, 0, 1, 1, 1, 1, 0, 1, 1, 0, 1, 1, 0, 1, 1, 1, 1, 1, 1, 1, 1, 1, 1, 1, 1, 1, 1, 1, 1, 1, 1, 1, 1, 0, 1, 1, 1, 1, 0, 1, 1, 1, 0, 1, 1, 1, 1, 0, 1, 1, 1, 1, 1, 1, 0, 1, 1, 1, 1, 0, 0, 1, 1, 1, 1, 1, 0, 1, 1, 1, 0, 1, 1, 0, 1, 0, 1, 1, 1, 0, 1, 1, 1, 0, 1, 0, 0, 1, 1, 1, 1, 1, 1, 1, 1, 1, 0, 1, 1, 1, 0, 1, 0, 1, 0, 0, 1, 1, 1, 0, 1, 1, 1, 1, 1, 0, 0, 1, 0, 1, 1, 1, 1, 1, 0, 1, 1, 1, 1, 0, 1, 1, 0, 1, 1, 1, 1, 0, 1, 1, 0, 1, 1, 1, 0, 1, 0, 1, 0, 1, 1, 1, 1, 1, 1, 0, 1, 1, 1, 1, 1, 1, 1, 1, 1, 1, 0, 1, 0, 1, 0, 1, 0, 1, 1, 1, 1, 0, 0, 1, 1, 1, 1, 1, 1, 0, 1, 1, 1, 1, 1, 1, 0, 1, 1, 1, 1, 0, 1, 0, 1, 1, 0, 1, 1, 0, 1, 1, 1, 1, 1, 1, 1, 1, 0, 1, 1, 1, 1, 1, 0, 1, 1, 0, 1, 1, 1, 1, 1, 0, 1, 0, 1, 1, 1, 1, 1, 1, 1, 1, 1, 1, 1, 1, 1, 1, 1, 1, 1, 1, 1, 1, 1, 1, 1, 1, 1, 0, 1, 1, 1, 1, 1, 0, 1, 1, 0, 0, 1, 1, 1, 1, 1, 1, 1, 1, 1, 1, 1, 1, 0, 1, 1, 1, 0, 1, 0, 1, 1, 0, 0, 1, 0, 0, 1, 1, 0, 1, 1, 1, 1, 1, 1, 1, 1, 1, 1, 1, 1, 1, 1, 1, 1, 1, 1, 1, 1, 1, 1, 1, 1, 0, 0, 1, 1, 1, 1, 1, 0, 1, 1, 1, 1, 1, 1, 1, 1, 1, 1, 1, 1, 0, 1, 1, 1, 1, 1, 0, 1, 0, 1, 1, 0, 0, 0, 1, 0, 1, 1, 1, 0, 1, 1, 1, 0, 1, 1, 1, 1, 1, 1, 1, 1, 1, 0, 1, 1, 0, 1, 1, 0, 0, 0, 1, 1, 1, 0, 1, 1, 1, 0, 1, 1, 1, 1, 1, 0, 1, 1, 1, 0, 1, 1, 0, 1, 1, 1, 1, 0, 1, 1, 1, 1, 1, 1, 1, 1, 0, 1, 1, 1, 1, 1, 1, 1, 1, 1, 1, 1, 1, 1, 0, 1, 0, 1, 0, 1, 1, 1, 0, 1, 1, 0, 1, 1, 1, 1, 0, 1, 0, 1, 1, 1, 0, 1, 0, 1, 0, 1, 1, 1, 1, 1, 1, 0, 0, 1, 1, 1, 1, 1, 1, 1, 1, 1, 1, 1, 1, 1, 1, 0, 1, 1, 1, 1, 1, 1, 0, 1, 0, 1, 1, 1, 1, 0, 0, 1, 1, 0, 1, 1, 1, 1, 1, 1, 1, 1, 0, 1, 1, 0, 1, 1, 1, 1, 1, 1, 1, 1, 1, 1, 1, 0, 1, 1, 1, 1, 1, 1, 0, 1, 1, 0, 1, 1, 1, 1, 1, 1, 1, 1, 1, 1, 1, 0, 1, 0, 1, 1, 0, 1, 1, 1, 1, 1, 1, 1, 0, 0, 1, 1, 1, 1, 0, 0, 1, 1, 1, 1, 1, 0, 1, 0, 1, 1, 1, 1, 1, 1, 0, 1, 1, 0, 1, 1, 1, 1, 1, 1, 1, 0, 1, 1, 1, 1, 1, 1, 1, 1, 1, 1, 1, 1, 1, 0, 0, 0, 0, 1, 1, 0, 1, 1, 0, 1, 0, 1, 1, 0, 1, 1, 1, 1, 1, 1, 1, 1, 1, 1, 0, 1, 1, 1, 1, 1, 1, 1, 1, 1, 1, 0, 1, 1, 0, 1, 1, 1, 1, 1, 1, 0, 1, 1, 1, 1, 0, 1, 0, 0, 0, 1, 1, 1, 1, 1, 1, 1, 1, 1, 1, 1, 0, 1, 1, 1, 1, 1, 1, 1, 1, 1, 1, 1, 0, 1, 1, 1, 0, 1, 0, 0, 1, 1, 1, 1, 1, 1, 1, 1, 1, 1, 1, 1, 1, 0, 0, 1, 1, 1, 0, 1, 1, 0, 1, 1, 1, 1, 1, 1, 1, 1, 1, 1, 1, 0, 1, 1, 1, 1, 0, 1, 1, 1, 1, 1, 1, 1, 1, 1, 1, 1, 1, 0, 0, 1, 0, 0, 1, 0, 1, 1, 1, 1, 1, 1, 0, 0, 1, 0, 1, 1, 0, 1, 0, 0, 0, 1, 1, 1, 1, 0, 1, 1, 0, 1, 1, 1, 1, 1, 1, 1, 1, 1, 1, 1, 1, 1, 1, 1, 1, 0, 1, 1, 1, 1, 1, 1, 1, 1, 1, 0, 0, 1, 0, 1, 1, 0, 1, 1, 1, 1, 1, 1, 1, 1, 0, 1, 0, 1, 1, 1, 1, 1, 1, 0, 1, 1, 0, 1, 0, 1, 1, 0, 1, 0, 1, 1, 1, 1, 1, 0, 1, 1, 0, 1, 1, 1, 1, 1, 0, 1, 1, 1, 0, 1, 0, 0, 0, 1, 1, 0, 0, 1, 1, 1, 0, 1, 1, 0, 1, 1, 1, 0, 1, 0, 1, 1, 0, 1, 1, 1, 1, 1, 0, 1, 1, 1, 1, 1, 1, 1, 1, 1, 1, 0, 1, 1, 1, 0, 1, 1, 1, 1, 1, 0, 1, 1, 0, 1, 1, 1, 1, 0, 1, 1, 1, 1, 1, 0, 1, 1, 0, 0, 1, 1, 1, 1, 0, 1, 1, 1, 1, 1, 1, 1, 0, 1, 1, 0, 1, 1, 1, 1, 1, 1, 1, 1, 1, 0, 1, 1, 1, 1, 1, 1, 1, 1, 1, 0, 1, 0, 1, 0, 1, 1, 1, 1, 1, 0, 1, 0, 1, 1, 1, 1, 1, 1, 0, 0, 1, 1, 1, 1, 1, 0, 1, 1, 1, 1, 0, 1, 1, 1, 1, 1, 1, 0, 1, 1, 0, 1, 1, 0, 0, 1, 1, 1, 0, 1, 1, 1, 1, 1, 1, 1, 0, 1, 1, 1, 0, 1, 1, 1, 1, 1, 1, 1, 1, 1, 1, 1, 1, 1, 1, 1, 1, 1, 1, 1, 1, 1, 1, 1, 0, 1, 0, 1, 1, 1, 1, 0, 0, 1, 1, 0, 1, 0, 1, 1, 1, 0, 1, 0, 0, 0, 1, 1, 1, 1, 1, 1, 1, 1, 1, 1, 1, 1, 1, 1, 1, 1, 1, 0, 1, 0, 0, 1, 1, 1, 1, 1, 0, 0, 0, 0, 0, 1, 0, 1, 1, 0, 0, 1, 1, 1, 0, 1, 1, 0, 1, 1, 0, 1, 1, 1, 1, 0, 0, 1, 1, 1, 1, 1, 1, 0, 1, 0, 0, 1, 1, 1, 1, 1, 1, 1, 0, 1, 1, 0, 1, 1, 1, 1, 1, 0, 1, 1, 1, 1, 0, 1, 0, 1, 0, 1, 0, 1, 1, 1, 1, 0, 0, 1, 1, 1, 1, 1, 1, 1, 0, 1, 1, 0, 1, 1, 1, 1, 0, 1, 1, 1, 0, 1, 1, 1, 1, 1, 1, 1, 1, 0, 1, 0, 1, 1, 1, 1, 1, 1, 1, 1, 1, 0, 0, 1, 1, 1, 1, 1, 1, 0, 1, 1, 1, 1, 1, 1, 0, 1, 0, 0, 0, 1, 0, 1, 1, 1, 1, 0, 0, 0, 1, 0, 0, 1, 1, 1, 1, 1, 1, 1, 1, 0, 1, 0, 1, 1, 0, 1, 1, 1, 1, 1, 1, 1, 1, 1, 1, 0, 1, 0, 1, 1, 0, 1, 1, 1, 1, 1, 1, 1, 1, 1, 1, 1, 0, 0, 1, 1, 1, 1, 1, 1, 1, 0, 1, 1, 1, 0, 0, 1, 1, 0, 0, 0, 0, 1, 1, 1, 1, 1, 1, 1, 1, 0, 1, 1, 1, 1, 1, 1, 0, 1, 1, 1, 1, 1, 1, 1, 0, 0, 1, 0, 0, 1, 0, 1, 0, 1, 0, 1, 1, 0, 1, 1, 0, 1, 1, 1, 1, 1, 1, 0, 1, 1, 1, 1, 1, 1, 1, 1, 1, 0, 1, 1, 0, 1, 0, 1, 1, 1, 1, 1, 1, 1, 0, 0, 1, 0, 1, 1, 1, 0, 1, 1, 1, 0, 1, 0, 1, 1, 0, 0, 1, 1, 1, 1, 1, 1, 1, 1, 0, 1, 1, 1, 1, 1, 1, 1, 0, 1, 0, 1, 1, 1, 1, 1, 1, 1, 1, 1, 1, 1, 1, 1, 1, 1, 1, 1, 1, 0, 0, 1, 1, 1, 0, 0, 1, 0, 0, 0, 1, 1, 1, 1, 0, 1, 1, 1, 1, 1, 1, 0, 0, 1, 1, 0, 0, 1, 1, 1, 1, 1, 0, 1, 1, 1, 1, 1, 1, 0, 1, 1, 0, 1, 0, 1, 1, 1, 0, 0, 0, 0, 1, 1, 1, 1, 1, 0, 1, 1, 1, 0, 1, 0, 0, 1, 1, 0, 1, 0, 1, 0, 0, 1, 1, 1, 1, 1, 1, 1, 1, 1, 1, 0, 1, 0, 1, 1, 1, 1, 1, 1, 1, 1, 1, 1, 0, 0, 0, 0, 1, 1, 1, 1, 1, 1, 1, 1, 0, 1, 1, 1, 1, 1, 0, 1, 1, 0, 1, 0, 1, 1, 0, 0, 1, 1, 1, 1, 0, 1, 1, 1, 1, 1, 0, 1, 1, 1, 1, 1, 0, 1, 1, 0, 0, 1, 1, 1, 1, 1, 1, 0, 0, 1, 1, 1, 1, 1, 1, 1, 1, 1, 1, 1, 1, 1, 0, 1, 1, 1, 0, 1, 1, 1, 1, 1, 1, 0, 1, 1, 1, 1, 1, 1, 1, 1, 0, 1, 1, 0, 1, 1, 1, 1, 1, 1, 0, 0, 1, 1, 1, 1, 1, 0, 0, 1, 1, 1, 1, 1, 1, 1, 1, 1, 0, 0, 1, 1, 1, 1, 0, 1, 0, 1, 1, 1, 1, 1, 1, 1, 1, 1, 1, 1, 0, 1, 1, 1, 1, 0, 1, 0, 1, 1, 1, 1, 1, 0, 1, 1, 1, 1, 1, 1, 0, 0, 1, 0, 1, 1, 1, 1, 1, 1, 1, 0, 1, 1, 1, 1, 1, 1, 1, 1, 0, 1, 1, 1, 0, 1, 1, 1, 1, 1, 0, 1, 1, 1, 1, 0, 1, 1, 1, 1, 0, 1, 1, 1, 1, 1, 1, 0, 0, 0, 1, 1, 1, 1, 1, 1, 1, 1, 1, 1, 0, 1, 0, 1, 1, 0, 1, 1, 0, 1, 0, 0, 0, 1, 1, 1, 0, 1, 1, 1, 1, 0, 1, 1, 1, 0, 0, 0, 1, 1, 1, 1, 0, 0, 1, 0, 0, 1, 1, 0, 1, 1, 1, 1, 1, 1, 1, 1, 0, 1, 1, 1, 0, 1, 1, 1, 1, 1, 1, 1, 1, 1, 1, 0, 0, 1, 1, 1, 1, 1, 0, 1, 1, 1, 1, 0, 1, 0, 1, 1, 1, 1, 1, 1, 0, 1, 1, 1, 0, 1, 1, 1, 0, 1, 1, 1, 1, 1, 1, 0, 1, 1, 1, 1, 1, 1, 1, 0, 1, 0, 1, 1, 0, 1, 0, 1, 1, 1, 1, 1, 1, 1, 1, 1, 1, 1, 1, 0, 1, 1, 1, 1, 1, 1, 1, 1, 1, 1, 0, 1, 1, 1, 1, 1, 1, 0, 1, 1, 1, 0, 1, 0, 1, 0, 1, 1, 1, 0, 1, 1, 1]\n"
          ]
        }
      ]
    },
    {
      "cell_type": "code",
      "source": [
        "data = {'orignal_churn':y_test, 'predicted_churn':y_pred_lis}\n",
        "df_check = pd.DataFrame(data)\n",
        "df_check.head(10)"
      ],
      "metadata": {
        "colab": {
          "base_uri": "https://localhost:8080/",
          "height": 363
        },
        "id": "dY9BMms2tyhp",
        "outputId": "1b418ef5-e5e7-4cb9-e679-1e4ae1e253ec"
      },
      "execution_count": 44,
      "outputs": [
        {
          "output_type": "execute_result",
          "data": {
            "text/plain": [
              "   orignal_churn  predicted_churn\n",
              "0              1                1\n",
              "1              0                0\n",
              "2              0                1\n",
              "3              1                0\n",
              "4              1                1\n",
              "5              0                1\n",
              "6              1                1\n",
              "7              1                1\n",
              "8              1                1\n",
              "9              1                1"
            ],
            "text/html": [
              "\n",
              "  <div id=\"df-4f546a91-dce4-468b-81f4-db1b72f87719\">\n",
              "    <div class=\"colab-df-container\">\n",
              "      <div>\n",
              "<style scoped>\n",
              "    .dataframe tbody tr th:only-of-type {\n",
              "        vertical-align: middle;\n",
              "    }\n",
              "\n",
              "    .dataframe tbody tr th {\n",
              "        vertical-align: top;\n",
              "    }\n",
              "\n",
              "    .dataframe thead th {\n",
              "        text-align: right;\n",
              "    }\n",
              "</style>\n",
              "<table border=\"1\" class=\"dataframe\">\n",
              "  <thead>\n",
              "    <tr style=\"text-align: right;\">\n",
              "      <th></th>\n",
              "      <th>orignal_churn</th>\n",
              "      <th>predicted_churn</th>\n",
              "    </tr>\n",
              "  </thead>\n",
              "  <tbody>\n",
              "    <tr>\n",
              "      <th>0</th>\n",
              "      <td>1</td>\n",
              "      <td>1</td>\n",
              "    </tr>\n",
              "    <tr>\n",
              "      <th>1</th>\n",
              "      <td>0</td>\n",
              "      <td>0</td>\n",
              "    </tr>\n",
              "    <tr>\n",
              "      <th>2</th>\n",
              "      <td>0</td>\n",
              "      <td>1</td>\n",
              "    </tr>\n",
              "    <tr>\n",
              "      <th>3</th>\n",
              "      <td>1</td>\n",
              "      <td>0</td>\n",
              "    </tr>\n",
              "    <tr>\n",
              "      <th>4</th>\n",
              "      <td>1</td>\n",
              "      <td>1</td>\n",
              "    </tr>\n",
              "    <tr>\n",
              "      <th>5</th>\n",
              "      <td>0</td>\n",
              "      <td>1</td>\n",
              "    </tr>\n",
              "    <tr>\n",
              "      <th>6</th>\n",
              "      <td>1</td>\n",
              "      <td>1</td>\n",
              "    </tr>\n",
              "    <tr>\n",
              "      <th>7</th>\n",
              "      <td>1</td>\n",
              "      <td>1</td>\n",
              "    </tr>\n",
              "    <tr>\n",
              "      <th>8</th>\n",
              "      <td>1</td>\n",
              "      <td>1</td>\n",
              "    </tr>\n",
              "    <tr>\n",
              "      <th>9</th>\n",
              "      <td>1</td>\n",
              "      <td>1</td>\n",
              "    </tr>\n",
              "  </tbody>\n",
              "</table>\n",
              "</div>\n",
              "      <button class=\"colab-df-convert\" onclick=\"convertToInteractive('df-4f546a91-dce4-468b-81f4-db1b72f87719')\"\n",
              "              title=\"Convert this dataframe to an interactive table.\"\n",
              "              style=\"display:none;\">\n",
              "        \n",
              "  <svg xmlns=\"http://www.w3.org/2000/svg\" height=\"24px\"viewBox=\"0 0 24 24\"\n",
              "       width=\"24px\">\n",
              "    <path d=\"M0 0h24v24H0V0z\" fill=\"none\"/>\n",
              "    <path d=\"M18.56 5.44l.94 2.06.94-2.06 2.06-.94-2.06-.94-.94-2.06-.94 2.06-2.06.94zm-11 1L8.5 8.5l.94-2.06 2.06-.94-2.06-.94L8.5 2.5l-.94 2.06-2.06.94zm10 10l.94 2.06.94-2.06 2.06-.94-2.06-.94-.94-2.06-.94 2.06-2.06.94z\"/><path d=\"M17.41 7.96l-1.37-1.37c-.4-.4-.92-.59-1.43-.59-.52 0-1.04.2-1.43.59L10.3 9.45l-7.72 7.72c-.78.78-.78 2.05 0 2.83L4 21.41c.39.39.9.59 1.41.59.51 0 1.02-.2 1.41-.59l7.78-7.78 2.81-2.81c.8-.78.8-2.07 0-2.86zM5.41 20L4 18.59l7.72-7.72 1.47 1.35L5.41 20z\"/>\n",
              "  </svg>\n",
              "      </button>\n",
              "      \n",
              "  <style>\n",
              "    .colab-df-container {\n",
              "      display:flex;\n",
              "      flex-wrap:wrap;\n",
              "      gap: 12px;\n",
              "    }\n",
              "\n",
              "    .colab-df-convert {\n",
              "      background-color: #E8F0FE;\n",
              "      border: none;\n",
              "      border-radius: 50%;\n",
              "      cursor: pointer;\n",
              "      display: none;\n",
              "      fill: #1967D2;\n",
              "      height: 32px;\n",
              "      padding: 0 0 0 0;\n",
              "      width: 32px;\n",
              "    }\n",
              "\n",
              "    .colab-df-convert:hover {\n",
              "      background-color: #E2EBFA;\n",
              "      box-shadow: 0px 1px 2px rgba(60, 64, 67, 0.3), 0px 1px 3px 1px rgba(60, 64, 67, 0.15);\n",
              "      fill: #174EA6;\n",
              "    }\n",
              "\n",
              "    [theme=dark] .colab-df-convert {\n",
              "      background-color: #3B4455;\n",
              "      fill: #D2E3FC;\n",
              "    }\n",
              "\n",
              "    [theme=dark] .colab-df-convert:hover {\n",
              "      background-color: #434B5C;\n",
              "      box-shadow: 0px 1px 3px 1px rgba(0, 0, 0, 0.15);\n",
              "      filter: drop-shadow(0px 1px 2px rgba(0, 0, 0, 0.3));\n",
              "      fill: #FFFFFF;\n",
              "    }\n",
              "  </style>\n",
              "\n",
              "      <script>\n",
              "        const buttonEl =\n",
              "          document.querySelector('#df-4f546a91-dce4-468b-81f4-db1b72f87719 button.colab-df-convert');\n",
              "        buttonEl.style.display =\n",
              "          google.colab.kernel.accessAllowed ? 'block' : 'none';\n",
              "\n",
              "        async function convertToInteractive(key) {\n",
              "          const element = document.querySelector('#df-4f546a91-dce4-468b-81f4-db1b72f87719');\n",
              "          const dataTable =\n",
              "            await google.colab.kernel.invokeFunction('convertToInteractive',\n",
              "                                                     [key], {});\n",
              "          if (!dataTable) return;\n",
              "\n",
              "          const docLinkHtml = 'Like what you see? Visit the ' +\n",
              "            '<a target=\"_blank\" href=https://colab.research.google.com/notebooks/data_table.ipynb>data table notebook</a>'\n",
              "            + ' to learn more about interactive tables.';\n",
              "          element.innerHTML = '';\n",
              "          dataTable['output_type'] = 'display_data';\n",
              "          await google.colab.output.renderOutput(dataTable, element);\n",
              "          const docLink = document.createElement('div');\n",
              "          docLink.innerHTML = docLinkHtml;\n",
              "          element.appendChild(docLink);\n",
              "        }\n",
              "      </script>\n",
              "    </div>\n",
              "  </div>\n",
              "  "
            ]
          },
          "metadata": {},
          "execution_count": 44
        }
      ]
    },
    {
      "cell_type": "code",
      "source": [
        "from sklearn.metrics import confusion_matrix, classification_report, roc_auc_score\n",
        "#print classification_report\n",
        "print(classification_report(y_test,y_pred_lis))\n",
        "# ploting the confusion metrix plot\n",
        "conf_mat = tf.math.confusion_matrix(labels=y_test,predictions=y_pred_lis)\n",
        "plt.figure(figsize = (17,7))\n",
        "sb.heatmap(conf_mat, annot=True,fmt='d')\n",
        "plt.xlabel('Predicted_number')\n",
        "plt.ylabel('True_number')\n",
        "roc_auc = roc_auc_score(y_test, y_pred_ANN)\n",
        "print(\"ROC AUC:\")\n",
        "print(roc_auc)"
      ],
      "metadata": {
        "colab": {
          "base_uri": "https://localhost:8080/",
          "height": 742
        },
        "id": "3vSszBqnt3tP",
        "outputId": "aea808d6-0246-431f-a3c5-8341b5244f3e"
      },
      "execution_count": 45,
      "outputs": [
        {
          "output_type": "stream",
          "name": "stdout",
          "text": [
            "              precision    recall  f1-score   support\n",
            "\n",
            "           0       0.83      0.67      0.74       561\n",
            "           1       0.88      0.95      0.91      1416\n",
            "\n",
            "    accuracy                           0.87      1977\n",
            "   macro avg       0.86      0.81      0.83      1977\n",
            "weighted avg       0.87      0.87      0.86      1977\n",
            "\n",
            "ROC AUC:\n",
            "0.9228501364593089\n"
          ]
        },
        {
          "output_type": "display_data",
          "data": {
            "text/plain": [
              "<Figure size 1700x700 with 2 Axes>"
            ],
            "image/png": "[encoded data removed]"
          },
          "metadata": {}
        }
      ]
    },
    {
      "cell_type": "code",
      "source": [
        "plt.plot(history.history['accuracy']) \n",
        "plt.plot(history.history['val_accuracy']) \n",
        "plt.title('ANN model accuracy') \n",
        "plt.ylabel('accuracy')\n",
        "plt.xlabel('epoch') \n",
        "plt.legend(['train', 'test'], loc='upper left') \n",
        "plt.show()"
      ],
      "metadata": {
        "colab": {
          "base_uri": "https://localhost:8080/",
          "height": 472
        },
        "id": "WyLSeQDpkz3H",
        "outputId": "a50325fe-355f-4e51-ce69-f73df88c0bbc"
      },
      "execution_count": 46,
      "outputs": [
        {
          "output_type": "display_data",
          "data": {
            "text/plain": [
              "<Figure size 640x480 with 1 Axes>"
            ],
            "image/png": "[encoded data removed]"
          },
          "metadata": {}
        }
      ]
    },
    {
      "cell_type": "markdown",
      "source": [
        "# CONVOLUTIONAL NEURAL NETWORK (CNN)"
      ],
      "metadata": {
        "id": "rtwFbL86Maxj"
      }
    },
    {
      "cell_type": "markdown",
      "source": [
        "## Preprocessing Data"
      ],
      "metadata": {
        "id": "IGjsRM5Y2pOj"
      }
    },
    {
      "cell_type": "code",
      "source": [
        "from keras.models import Sequential\n",
        "from keras.layers import Dense, Dropout, Flatten, Conv1D, MaxPooling1D\n",
        "from keras.optimizers import Adam\n",
        "import numpy as np\n",
        "import pandas as pd"
      ],
      "metadata": {
        "id": "_WhjlOjsvaRb"
      },
      "execution_count": 1,
      "outputs": []
    },
    {
      "cell_type": "code",
      "source": [
        "df = pd.read_csv('/content/drive/MyDrive/E-Commerce/dataset/mycsvfile.csv')\n",
        "\n",
        "# One-hot encode categorical variables\n",
        "df = pd.get_dummies(df)"
      ],
      "metadata": {
        "id": "CxY7RDYd25FO"
      },
      "execution_count": 51,
      "outputs": []
    },
    {
      "cell_type": "code",
      "source": [
        "X = df.drop(columns = \"customerstatus\")\n",
        "y = df[\"customerstatus\"].values\n",
        "X_train, X_test, y_train, y_test_cnn = train_test_split(X, y, test_size = 0.3, random_state = 42, stratify =y)\n",
        "col=['totalcharges','avgmonthlylongdistancecharges','monthlycharge','totalrevenue','totallongdistancecharges',\n",
        "     'tenureinmonths','totallongdistancecharges','totalextradatacharges']\n",
        "scaler = StandardScaler()\n",
        "X_train[col] = StandardScaler().fit_transform(X_train[col])\n",
        "X_test[col] = StandardScaler().fit_transform(X_test[col])\n",
        "print(X_train.shape)\n",
        "print(X_test.shape)"
      ],
      "metadata": {
        "colab": {
          "base_uri": "https://localhost:8080/"
        },
        "id": "f9XHDWnY3TRk",
        "outputId": "99dcb98e-a967-4ab0-c982-3aeffa27f825"
      },
      "execution_count": 52,
      "outputs": [
        {
          "output_type": "stream",
          "name": "stdout",
          "text": [
            "(4612, 29)\n",
            "(1977, 29)\n"
          ]
        }
      ]
    },
    {
      "cell_type": "markdown",
      "source": [
        "## Building model without optimization"
      ],
      "metadata": {
        "id": "Jz3o5wDwuTmx"
      }
    },
    {
      "cell_type": "code",
      "source": [
        "model = Sequential()\n",
        "model.add(Conv1D(32, 3, activation='relu', input_shape=(29, 1)))\n",
        "model.add(MaxPooling1D(2))\n",
        "model.add(Conv1D(64, 3, activation='relu'))\n",
        "model.add(MaxPooling1D(2))\n",
        "model.add(Flatten())\n",
        "model.add(Dense(64, activation='relu'))\n",
        "model.add(Dense(1, activation='sigmoid'))"
      ],
      "metadata": {
        "id": "z-diy2JtvEp1"
      },
      "execution_count": null,
      "outputs": []
    },
    {
      "cell_type": "code",
      "source": [
        "model.compile(optimizer='adam', loss='binary_crossentropy', metrics=['accuracy'])\n",
        "\n",
        "history = model.fit(X_train, y_train, epochs=10, batch_size=32, validation_data=(X_test, y_test))"
      ],
      "metadata": {
        "colab": {
          "base_uri": "https://localhost:8080/"
        },
        "id": "zVtjENDuvmaP",
        "outputId": "4f372ed4-e396-490b-9934-897c0218b829"
      },
      "execution_count": null,
      "outputs": [
        {
          "output_type": "stream",
          "name": "stdout",
          "text": [
            "Epoch 1/10\n",
            "145/145 [==============================] - 2s 8ms/step - loss: 0.4759 - accuracy: 0.7684 - val_loss: 0.4034 - val_accuracy: 0.8073\n",
            "Epoch 2/10\n",
            "145/145 [==============================] - 1s 6ms/step - loss: 0.3931 - accuracy: 0.8118 - val_loss: 0.3762 - val_accuracy: 0.8214\n",
            "Epoch 3/10\n",
            "145/145 [==============================] - 1s 6ms/step - loss: 0.3678 - accuracy: 0.8265 - val_loss: 0.3688 - val_accuracy: 0.8260\n",
            "Epoch 4/10\n",
            "145/145 [==============================] - 1s 6ms/step - loss: 0.3584 - accuracy: 0.8369 - val_loss: 0.3571 - val_accuracy: 0.8442\n",
            "Epoch 5/10\n",
            "145/145 [==============================] - 1s 6ms/step - loss: 0.3414 - accuracy: 0.8448 - val_loss: 0.3412 - val_accuracy: 0.8412\n",
            "Epoch 6/10\n",
            "145/145 [==============================] - 1s 6ms/step - loss: 0.3347 - accuracy: 0.8536 - val_loss: 0.3331 - val_accuracy: 0.8513\n",
            "Epoch 7/10\n",
            "145/145 [==============================] - 1s 6ms/step - loss: 0.3291 - accuracy: 0.8526 - val_loss: 0.3325 - val_accuracy: 0.8483\n",
            "Epoch 8/10\n",
            "145/145 [==============================] - 1s 7ms/step - loss: 0.3282 - accuracy: 0.8526 - val_loss: 0.3313 - val_accuracy: 0.8543\n",
            "Epoch 9/10\n",
            "145/145 [==============================] - 1s 9ms/step - loss: 0.3153 - accuracy: 0.8601 - val_loss: 0.3227 - val_accuracy: 0.8538\n",
            "Epoch 10/10\n",
            "145/145 [==============================] - 1s 10ms/step - loss: 0.3118 - accuracy: 0.8658 - val_loss: 0.3267 - val_accuracy: 0.8528\n"
          ]
        }
      ]
    },
    {
      "cell_type": "code",
      "source": [
        "model.evaluate(X_test,y_test)"
      ],
      "metadata": {
        "colab": {
          "base_uri": "https://localhost:8080/"
        },
        "id": "HizZG31hvzKk",
        "outputId": "4b7b6474-09a0-4eaa-9bfe-ef22695fa806"
      },
      "execution_count": 65,
      "outputs": [
        {
          "output_type": "stream",
          "name": "stdout",
          "text": [
            "62/62 [==============================] - 0s 2ms/step - loss: 0.3589 - accuracy: 0.8508\n"
          ]
        },
        {
          "output_type": "execute_result",
          "data": {
            "text/plain": [
              "[0.358946830034256, 0.8507840037345886]"
            ]
          },
          "metadata": {},
          "execution_count": 65
        }
      ]
    },
    {
      "cell_type": "code",
      "source": [
        "plt.plot(history.history['accuracy']) \n",
        "plt.plot(history.history['val_accuracy']) \n",
        "plt.title('model accuracy') \n",
        "plt.ylabel('accuracy')\n",
        "plt.xlabel('epoch') \n",
        "plt.legend(['train', 'test'], loc='upper left') \n",
        "plt.show()"
      ],
      "metadata": {
        "colab": {
          "base_uri": "https://localhost:8080/",
          "height": 472
        },
        "id": "IhwNX-mVv42U",
        "outputId": "c670e7c5-f259-4d33-b20f-153783fa1598"
      },
      "execution_count": null,
      "outputs": [
        {
          "output_type": "display_data",
          "data": {
            "text/plain": [
              "<Figure size 640x480 with 1 Axes>"
            ],
            "image/png": "[encoded data removed]"
          },
          "metadata": {}
        }
      ]
    },
    {
      "cell_type": "markdown",
      "source": [
        "## Tunning Parameters"
      ],
      "metadata": {
        "id": "fNFQTXsRMg2q"
      }
    },
    {
      "cell_type": "code",
      "source": [
        "from sklearn.model_selection import GridSearchCV\n",
        "from keras.wrappers.scikit_learn import KerasClassifier\n",
        "\n",
        "def create_model(num_filters, kernel_size, pool_size, num_dense_layers, dense_layer_size, learning_rate):\n",
        "    model = Sequential()\n",
        "    model.add(Conv1D(num_filters, kernel_size, activation='relu', input_shape=(29, 1)))\n",
        "    model.add(MaxPooling1D(pool_size))\n",
        "    model.add(Conv1D(num_filters*2, kernel_size, activation='relu'))\n",
        "    model.add(MaxPooling1D(pool_size))\n",
        "    model.add(Flatten())\n",
        "    for i in range(num_dense_layers):\n",
        "        model.add(Dense(dense_layer_size, activation='relu'))\n",
        "    model.add(Dense(1, activation='sigmoid'))\n",
        "    optimizer = Adam(learning_rate=learning_rate)\n",
        "    model.compile(optimizer=optimizer, loss='binary_crossentropy', metrics=['accuracy'])\n",
        "    return model\n",
        "\n",
        "model = KerasClassifier(build_fn=create_model, verbose=0)"
      ],
      "metadata": {
        "id": "5wIBf-0EZ9X4",
        "colab": {
          "base_uri": "https://localhost:8080/"
        },
        "outputId": "d3b05947-ebcd-4db1-a8d3-065ced69ce54"
      },
      "execution_count": null,
      "outputs": [
        {
          "output_type": "stream",
          "name": "stderr",
          "text": [
            "<ipython-input-116-c64ec0114bbe>:18: DeprecationWarning: KerasClassifier is deprecated, use Sci-Keras (https://github.com/adriangb/scikeras) instead. See https://www.adriangb.com/scikeras/stable/migration.html for help migrating.\n",
            "  model = KerasClassifier(build_fn=create_model, verbose=0)\n"
          ]
        }
      ]
    },
    {
      "cell_type": "code",
      "source": [
        "num_filters = [32, 64]\n",
        "kernel_size = [3, 5]\n",
        "pool_size = [2, 3]\n",
        "num_dense_layers = [1, 2]\n",
        "dense_layer_size = [32, 64]\n",
        "learning_rate = [0.001, 0.01, 0.1]\n",
        "batch_size = [16, 32]\n",
        "\n",
        "param_grid = dict(num_filters=num_filters, kernel_size=kernel_size, pool_size=pool_size,\n",
        "                  num_dense_layers=num_dense_layers, dense_layer_size=dense_layer_size,\n",
        "                  learning_rate=learning_rate, batch_size=batch_size)\n",
        "\n",
        "grid = GridSearchCV(estimator=model, param_grid=param_grid, n_jobs=-1, cv=3)\n",
        "grid_result = grid.fit(X_train, y_train, epochs=10, validation_data=(X_test, y_test))\n",
        "\n",
        "print(\"Best: %f using %s\" % (grid_result.best_score_, grid_result.best_params_))"
      ],
      "metadata": {
        "colab": {
          "base_uri": "https://localhost:8080/"
        },
        "id": "yFRUIGbxFCGD",
        "outputId": "217851be-60bb-4747-a7a8-0b20b9a7e9e5"
      },
      "execution_count": null,
      "outputs": [
        {
          "metadata": {
            "tags": null
          },
          "name": "stderr",
          "output_type": "stream",
          "text": [
            "/usr/local/lib/python3.9/dist-packages/joblib/externals/loky/process_executor.py:700: UserWarning: A worker stopped while some jobs were given to the executor. This can be caused by a too short worker timeout or by a memory leak.\n",
            "  warnings.warn(\n"
          ]
        },
        {
          "output_type": "stream",
          "name": "stdout",
          "text": [
            "Best: 0.859714 using {'batch_size': 16, 'dense_layer_size': 32, 'kernel_size': 3, 'learning_rate': 0.01, 'num_dense_layers': 2, 'num_filters': 32, 'pool_size': 2}\n"
          ]
        }
      ]
    },
    {
      "cell_type": "markdown",
      "source": [
        "## Building final Model"
      ],
      "metadata": {
        "id": "ByFdGBDHZ9oY"
      }
    },
    {
      "cell_type": "code",
      "source": [
        "model_cnn = Sequential()\n",
        "model_cnn.add(Conv1D(32, 3, activation='relu', input_shape=(29, 1)))\n",
        "model_cnn.add(MaxPooling1D(2))\n",
        "model_cnn.add(Conv1D(64, 3, activation='relu'))\n",
        "model_cnn.add(MaxPooling1D(2))\n",
        "model_cnn.add(Flatten())\n",
        "model_cnn.add(Dense(32, activation='relu'))\n",
        "model_cnn.add(Dense(1, activation='sigmoid'))"
      ],
      "metadata": {
        "id": "AzngjrKFaN9h"
      },
      "execution_count": 6,
      "outputs": []
    },
    {
      "cell_type": "code",
      "source": [
        "optimizer = Adam(learning_rate=0.01)\n",
        "model_cnn.compile(optimizer=optimizer, loss='binary_crossentropy', metrics=['accuracy'])\n",
        "\n",
        "history = model_cnn.fit(X_train, y_train, epochs=10, batch_size=16, validation_data=(X_test, y_test))"
      ],
      "metadata": {
        "colab": {
          "base_uri": "https://localhost:8080/"
        },
        "id": "dUE-MpAclI23",
        "outputId": "f4002d31-2190-4e85-9820-4686b44ec143"
      },
      "execution_count": 7,
      "outputs": [
        {
          "output_type": "stream",
          "name": "stdout",
          "text": [
            "Epoch 1/10\n",
            "289/289 [==============================] - 2s 4ms/step - loss: 0.4794 - accuracy: 0.7617 - val_loss: 0.4533 - val_accuracy: 0.7678\n",
            "Epoch 2/10\n",
            "289/289 [==============================] - 1s 3ms/step - loss: 0.3962 - accuracy: 0.8207 - val_loss: 0.3853 - val_accuracy: 0.8240\n",
            "Epoch 3/10\n",
            "289/289 [==============================] - 2s 8ms/step - loss: 0.3749 - accuracy: 0.8294 - val_loss: 0.3619 - val_accuracy: 0.8376\n",
            "Epoch 4/10\n",
            "289/289 [==============================] - 2s 8ms/step - loss: 0.3571 - accuracy: 0.8419 - val_loss: 0.3440 - val_accuracy: 0.8452\n",
            "Epoch 5/10\n",
            "289/289 [==============================] - 1s 4ms/step - loss: 0.3423 - accuracy: 0.8495 - val_loss: 0.3645 - val_accuracy: 0.8280\n",
            "Epoch 6/10\n",
            "289/289 [==============================] - 1s 3ms/step - loss: 0.3297 - accuracy: 0.8549 - val_loss: 0.3322 - val_accuracy: 0.8523\n",
            "Epoch 7/10\n",
            "289/289 [==============================] - 1s 3ms/step - loss: 0.3324 - accuracy: 0.8545 - val_loss: 0.3166 - val_accuracy: 0.8609\n",
            "Epoch 8/10\n",
            "289/289 [==============================] - 1s 4ms/step - loss: 0.3252 - accuracy: 0.8588 - val_loss: 0.3123 - val_accuracy: 0.8604\n",
            "Epoch 9/10\n",
            "289/289 [==============================] - 1s 3ms/step - loss: 0.3175 - accuracy: 0.8556 - val_loss: 0.3240 - val_accuracy: 0.8543\n",
            "Epoch 10/10\n",
            "289/289 [==============================] - 1s 3ms/step - loss: 0.3175 - accuracy: 0.8571 - val_loss: 0.3090 - val_accuracy: 0.8629\n"
          ]
        }
      ]
    },
    {
      "cell_type": "markdown",
      "source": [
        "##Evaluate optimized Model"
      ],
      "metadata": {
        "id": "sZVMNc85aBDW"
      }
    },
    {
      "cell_type": "code",
      "source": [
        "model_cnn.evaluate(X_test,y_test)"
      ],
      "metadata": {
        "id": "YqHrc1dWaOxS",
        "colab": {
          "base_uri": "https://localhost:8080/"
        },
        "outputId": "42a2b883-db9c-4cc5-f377-8d827bd10910"
      },
      "execution_count": 8,
      "outputs": [
        {
          "output_type": "stream",
          "name": "stdout",
          "text": [
            "62/62 [==============================] - 0s 2ms/step - loss: 0.3090 - accuracy: 0.8629\n"
          ]
        },
        {
          "output_type": "execute_result",
          "data": {
            "text/plain": [
              "[0.30903711915016174, 0.8629236221313477]"
            ]
          },
          "metadata": {},
          "execution_count": 8
        }
      ]
    },
    {
      "cell_type": "code",
      "source": [
        "y_pred_CNN = model_cnn.predict(X_test)\n",
        "# unscaling the ypred values \n",
        "y_pred_lis = []\n",
        "for i in y_pred_CNN:\n",
        "    if i>0.5:\n",
        "        y_pred_lis.append(1)\n",
        "    else:\n",
        "        y_pred_lis.append(0)\n",
        "print(y_pred_lis)"
      ],
      "metadata": {
        "colab": {
          "base_uri": "https://localhost:8080/"
        },
        "id": "56sutJUOlzmP",
        "outputId": "5e0bc5ed-79cd-40e5-a95f-76ce866df0cd"
      },
      "execution_count": 10,
      "outputs": [
        {
          "output_type": "stream",
          "name": "stdout",
          "text": [
            "62/62 [==============================] - 1s 5ms/step\n",
            "[1, 1, 1, 0, 1, 1, 0, 0, 1, 0, 1, 1, 1, 1, 0, 1, 1, 0, 0, 0, 1, 1, 1, 0, 1, 0, 1, 0, 1, 0, 1, 1, 0, 1, 1, 1, 1, 1, 1, 1, 0, 1, 1, 1, 1, 0, 1, 1, 1, 1, 1, 0, 1, 1, 1, 1, 1, 1, 1, 1, 1, 1, 1, 1, 1, 1, 0, 1, 1, 0, 1, 1, 0, 1, 0, 0, 1, 1, 1, 1, 1, 1, 0, 1, 1, 0, 1, 1, 0, 1, 1, 0, 1, 1, 1, 0, 1, 1, 1, 1, 1, 1, 0, 0, 1, 0, 0, 1, 1, 1, 1, 1, 0, 0, 1, 1, 1, 1, 1, 1, 0, 0, 1, 1, 1, 1, 1, 1, 0, 1, 1, 0, 0, 1, 1, 0, 1, 1, 0, 1, 1, 0, 1, 1, 0, 1, 1, 1, 1, 1, 1, 0, 1, 1, 0, 1, 1, 1, 1, 1, 1, 1, 1, 1, 0, 1, 0, 1, 1, 1, 1, 1, 1, 1, 1, 1, 1, 1, 1, 1, 1, 0, 1, 1, 1, 1, 0, 0, 1, 1, 1, 1, 0, 0, 1, 1, 1, 1, 1, 1, 1, 1, 1, 1, 1, 1, 1, 1, 0, 1, 1, 1, 1, 0, 0, 0, 1, 1, 1, 1, 0, 1, 1, 1, 0, 0, 1, 0, 1, 1, 0, 1, 1, 1, 1, 1, 0, 1, 1, 1, 1, 0, 1, 1, 1, 1, 1, 1, 1, 1, 0, 1, 1, 1, 0, 1, 1, 1, 1, 1, 1, 1, 1, 1, 1, 1, 1, 1, 1, 0, 1, 1, 0, 1, 0, 1, 0, 1, 1, 1, 1, 1, 0, 1, 0, 0, 1, 0, 1, 0, 1, 1, 1, 0, 1, 0, 1, 0, 1, 0, 0, 1, 1, 1, 1, 1, 1, 1, 0, 0, 1, 1, 1, 1, 1, 1, 0, 1, 0, 1, 1, 1, 1, 0, 1, 1, 1, 1, 1, 1, 1, 1, 1, 0, 1, 1, 1, 1, 1, 0, 1, 1, 0, 1, 0, 1, 1, 1, 1, 1, 0, 1, 1, 1, 1, 1, 1, 0, 1, 1, 0, 1, 1, 0, 1, 0, 1, 0, 1, 1, 0, 1, 0, 0, 1, 1, 0, 1, 1, 1, 1, 0, 0, 0, 1, 0, 1, 0, 1, 1, 1, 1, 0, 1, 1, 1, 0, 1, 0, 0, 1, 1, 1, 1, 1, 1, 1, 1, 1, 0, 1, 1, 1, 1, 1, 1, 1, 1, 1, 1, 1, 1, 0, 0, 0, 1, 0, 0, 1, 0, 1, 0, 1, 1, 1, 1, 1, 1, 1, 1, 1, 1, 1, 1, 1, 1, 1, 1, 1, 1, 1, 1, 1, 0, 1, 1, 1, 1, 1, 1, 0, 0, 1, 1, 0, 0, 1, 1, 0, 0, 1, 1, 1, 1, 1, 1, 1, 0, 1, 1, 1, 1, 1, 0, 0, 1, 1, 0, 1, 1, 0, 1, 0, 1, 1, 0, 1, 0, 0, 0, 1, 1, 1, 0, 0, 1, 0, 1, 1, 1, 0, 0, 1, 0, 1, 0, 1, 1, 1, 1, 1, 0, 1, 1, 1, 1, 1, 0, 0, 1, 1, 1, 1, 1, 1, 1, 0, 0, 1, 1, 1, 1, 1, 1, 1, 1, 1, 1, 0, 1, 1, 1, 1, 0, 1, 1, 0, 1, 0, 0, 1, 1, 1, 1, 1, 1, 1, 1, 0, 1, 1, 1, 1, 1, 0, 1, 1, 0, 1, 1, 0, 0, 0, 1, 0, 1, 1, 1, 0, 1, 1, 1, 1, 0, 1, 1, 1, 1, 1, 0, 1, 1, 1, 1, 1, 1, 1, 0, 1, 1, 1, 1, 1, 1, 1, 1, 1, 0, 1, 1, 1, 1, 1, 1, 1, 1, 1, 1, 1, 1, 1, 1, 0, 0, 1, 1, 0, 0, 0, 1, 1, 1, 1, 1, 1, 1, 0, 1, 0, 1, 1, 1, 1, 1, 1, 1, 1, 0, 0, 1, 1, 1, 0, 0, 1, 1, 0, 1, 1, 1, 1, 0, 1, 1, 0, 0, 0, 1, 0, 0, 1, 1, 1, 1, 1, 1, 1, 0, 1, 0, 1, 0, 1, 0, 1, 1, 0, 1, 1, 0, 0, 1, 1, 1, 1, 1, 0, 1, 1, 1, 1, 0, 1, 1, 1, 1, 1, 1, 1, 1, 1, 1, 0, 0, 1, 1, 1, 1, 1, 1, 1, 1, 1, 0, 1, 1, 1, 1, 1, 1, 0, 1, 1, 1, 1, 1, 0, 1, 0, 1, 1, 1, 1, 1, 0, 0, 0, 1, 0, 1, 0, 1, 1, 1, 1, 1, 0, 0, 1, 1, 1, 1, 1, 0, 1, 1, 1, 1, 1, 1, 0, 1, 0, 1, 0, 1, 1, 1, 1, 1, 1, 1, 1, 1, 1, 1, 1, 1, 1, 1, 0, 0, 1, 1, 1, 1, 1, 1, 1, 1, 1, 0, 1, 1, 0, 0, 1, 1, 1, 1, 0, 0, 1, 1, 1, 0, 1, 1, 1, 1, 1, 0, 1, 0, 1, 1, 1, 1, 1, 1, 0, 0, 1, 1, 0, 1, 0, 0, 1, 1, 1, 0, 1, 1, 0, 0, 0, 1, 0, 0, 0, 1, 0, 1, 0, 1, 0, 0, 1, 1, 1, 1, 1, 1, 0, 1, 1, 0, 0, 1, 1, 1, 1, 1, 1, 0, 1, 1, 1, 0, 1, 1, 1, 1, 0, 0, 1, 1, 1, 1, 1, 0, 1, 0, 1, 0, 1, 1, 0, 1, 0, 1, 0, 0, 1, 1, 1, 1, 1, 1, 0, 0, 1, 1, 1, 1, 1, 1, 1, 1, 1, 1, 1, 1, 1, 1, 0, 0, 0, 1, 0, 1, 0, 1, 1, 1, 0, 0, 0, 1, 0, 1, 1, 0, 1, 1, 1, 1, 1, 1, 1, 1, 1, 1, 1, 1, 1, 1, 0, 1, 1, 1, 1, 1, 1, 1, 1, 1, 0, 1, 1, 0, 0, 0, 0, 1, 1, 1, 1, 1, 0, 1, 1, 0, 0, 1, 0, 0, 1, 1, 1, 1, 0, 1, 1, 0, 1, 1, 1, 1, 1, 1, 0, 1, 0, 1, 1, 1, 1, 1, 0, 0, 1, 1, 1, 0, 1, 0, 1, 1, 1, 1, 1, 1, 0, 1, 1, 1, 1, 1, 1, 1, 1, 1, 1, 1, 0, 1, 1, 0, 1, 1, 1, 0, 1, 1, 1, 0, 1, 0, 1, 0, 1, 1, 0, 1, 1, 1, 0, 1, 1, 1, 1, 0, 0, 1, 1, 0, 1, 0, 1, 1, 1, 1, 0, 1, 1, 1, 1, 0, 1, 1, 0, 0, 1, 1, 1, 0, 1, 1, 1, 1, 1, 1, 1, 0, 1, 1, 0, 1, 1, 0, 1, 1, 1, 1, 1, 1, 0, 1, 1, 1, 1, 0, 1, 0, 1, 1, 1, 1, 1, 1, 0, 1, 1, 0, 1, 0, 1, 1, 1, 1, 1, 0, 1, 1, 1, 0, 0, 0, 1, 0, 1, 1, 1, 1, 1, 1, 1, 0, 1, 1, 1, 1, 0, 0, 1, 1, 1, 0, 0, 0, 0, 1, 1, 0, 1, 0, 1, 1, 1, 1, 0, 1, 1, 1, 1, 0, 1, 1, 1, 1, 1, 0, 0, 1, 1, 1, 0, 0, 1, 1, 0, 1, 1, 1, 1, 1, 1, 1, 1, 1, 0, 1, 0, 1, 1, 1, 1, 1, 1, 1, 1, 1, 1, 1, 0, 0, 1, 1, 1, 0, 1, 1, 1, 1, 1, 1, 1, 1, 1, 1, 1, 1, 0, 1, 0, 1, 1, 1, 0, 0, 1, 1, 0, 1, 0, 1, 1, 1, 1, 0, 0, 1, 1, 1, 0, 1, 1, 1, 1, 1, 1, 1, 0, 1, 1, 1, 1, 0, 1, 1, 1, 0, 1, 1, 1, 1, 1, 1, 1, 0, 1, 0, 0, 1, 1, 0, 1, 1, 1, 1, 0, 1, 1, 1, 0, 1, 0, 0, 1, 1, 1, 0, 1, 1, 1, 1, 0, 0, 0, 0, 0, 1, 1, 1, 1, 1, 0, 1, 1, 1, 1, 1, 1, 0, 0, 1, 0, 0, 0, 1, 1, 0, 1, 0, 1, 1, 0, 1, 1, 1, 0, 0, 1, 1, 1, 1, 0, 1, 0, 1, 1, 1, 1, 1, 1, 0, 0, 1, 0, 1, 0, 1, 1, 0, 1, 0, 0, 1, 0, 1, 0, 1, 0, 1, 1, 1, 1, 0, 1, 0, 1, 1, 0, 1, 0, 1, 1, 1, 1, 1, 0, 1, 1, 1, 1, 1, 1, 0, 0, 1, 1, 1, 1, 1, 1, 1, 0, 1, 1, 0, 1, 1, 0, 1, 0, 0, 0, 1, 1, 1, 1, 1, 1, 1, 1, 0, 1, 1, 1, 0, 0, 1, 1, 1, 1, 0, 1, 1, 1, 1, 1, 1, 1, 0, 1, 1, 0, 1, 1, 1, 0, 1, 0, 1, 1, 0, 1, 1, 1, 0, 1, 1, 1, 0, 1, 1, 1, 1, 0, 0, 0, 1, 1, 1, 0, 1, 1, 1, 1, 1, 1, 1, 1, 1, 0, 1, 1, 1, 1, 1, 1, 1, 0, 0, 1, 1, 1, 1, 1, 1, 1, 1, 0, 1, 0, 1, 1, 0, 1, 1, 1, 1, 1, 1, 1, 1, 0, 1, 1, 1, 1, 1, 0, 1, 1, 1, 1, 1, 1, 0, 1, 1, 1, 0, 1, 1, 1, 1, 1, 0, 0, 1, 1, 1, 1, 1, 1, 1, 1, 1, 0, 1, 1, 0, 1, 0, 0, 1, 1, 1, 0, 1, 0, 0, 1, 1, 1, 1, 1, 1, 0, 0, 0, 1, 0, 0, 1, 1, 0, 1, 1, 1, 1, 0, 1, 1, 1, 1, 1, 1, 1, 1, 1, 1, 1, 1, 1, 0, 1, 1, 0, 1, 0, 0, 1, 1, 1, 1, 1, 1, 1, 1, 1, 1, 1, 1, 0, 1, 1, 0, 0, 1, 0, 1, 1, 1, 0, 1, 1, 1, 1, 1, 1, 0, 1, 1, 1, 1, 0, 1, 1, 1, 1, 1, 1, 0, 1, 1, 0, 1, 1, 1, 1, 1, 1, 1, 0, 1, 1, 0, 1, 0, 1, 1, 1, 1, 1, 1, 0, 1, 1, 0, 1, 0, 1, 1, 1, 1, 1, 0, 1, 1, 0, 0, 1, 1, 0, 0, 1, 1, 0, 1, 1, 1, 1, 0, 1, 1, 1, 0, 1, 1, 0, 1, 0, 0, 1, 1, 1, 1, 1, 1, 1, 0, 1, 1, 1, 1, 1, 1, 0, 1, 1, 1, 1, 1, 1, 0, 0, 1, 1, 1, 1, 1, 0, 1, 1, 1, 1, 1, 1, 1, 0, 1, 0, 1, 1, 1, 0, 1, 1, 1, 1, 1, 1, 0, 0, 1, 1, 1, 0, 0, 1, 1, 1, 0, 1, 1, 1, 1, 1, 1, 0, 0, 1, 1, 1, 1, 0, 1, 1, 1, 0, 1, 1, 1, 0, 1, 0, 1, 1, 1, 1, 1, 0, 1, 1, 1, 1, 1, 1, 1, 1, 1, 1, 1, 0, 1, 0, 1, 1, 1, 1, 1, 1, 1, 1, 0, 0, 1, 1, 1, 0, 1, 0, 0, 1, 1, 1, 1, 1, 1, 1, 1, 0, 0, 0, 0, 1, 0, 1, 1, 1, 0, 1, 1, 0, 0, 0, 0, 1, 1, 1, 1, 1, 1, 0, 0, 1, 0, 0, 1, 1, 1, 1, 1, 1, 1, 1, 0, 0, 0, 1, 1, 1, 0, 1, 1, 0, 1, 1, 1, 1, 1, 0, 1, 1, 1, 1, 1, 1, 0, 1, 0, 1, 0, 1, 1, 1, 1, 1, 1, 1, 1, 1, 1, 1, 1, 1, 0, 1, 1, 1, 1, 1, 1, 0, 0, 1, 1, 1, 0, 1, 0, 1, 1, 0, 1, 0, 1, 0, 1, 0, 1, 1, 1, 1, 1, 0, 1, 1, 1, 1, 0, 1, 1, 0, 1, 1, 1, 1, 1, 1, 1, 1, 1, 1, 1, 1, 1, 1, 1, 1, 1, 1]\n"
          ]
        }
      ]
    },
    {
      "cell_type": "code",
      "source": [
        "data = {'orignal_churn':y_test, 'predicted_churn':y_pred_lis}\n",
        "df_check = pd.DataFrame(data)\n",
        "df_check.head(10)"
      ],
      "metadata": {
        "colab": {
          "base_uri": "https://localhost:8080/",
          "height": 363
        },
        "id": "57kJaCbwl2c_",
        "outputId": "43100e0e-3505-49b7-c1a0-0a7c2b1e3ce8"
      },
      "execution_count": 11,
      "outputs": [
        {
          "output_type": "execute_result",
          "data": {
            "text/plain": [
              "   orignal_churn  predicted_churn\n",
              "0              1                1\n",
              "1              1                1\n",
              "2              1                1\n",
              "3              0                0\n",
              "4              1                1\n",
              "5              1                1\n",
              "6              0                0\n",
              "7              0                0\n",
              "8              1                1\n",
              "9              0                0"
            ],
            "text/html": [
              "\n",
              "  <div id=\"df-7f1c8768-0238-4b6e-8fb0-110010a33ae0\">\n",
              "    <div class=\"colab-df-container\">\n",
              "      <div>\n",
              "<style scoped>\n",
              "    .dataframe tbody tr th:only-of-type {\n",
              "        vertical-align: middle;\n",
              "    }\n",
              "\n",
              "    .dataframe tbody tr th {\n",
              "        vertical-align: top;\n",
              "    }\n",
              "\n",
              "    .dataframe thead th {\n",
              "        text-align: right;\n",
              "    }\n",
              "</style>\n",
              "<table border=\"1\" class=\"dataframe\">\n",
              "  <thead>\n",
              "    <tr style=\"text-align: right;\">\n",
              "      <th></th>\n",
              "      <th>orignal_churn</th>\n",
              "      <th>predicted_churn</th>\n",
              "    </tr>\n",
              "  </thead>\n",
              "  <tbody>\n",
              "    <tr>\n",
              "      <th>0</th>\n",
              "      <td>1</td>\n",
              "      <td>1</td>\n",
              "    </tr>\n",
              "    <tr>\n",
              "      <th>1</th>\n",
              "      <td>1</td>\n",
              "      <td>1</td>\n",
              "    </tr>\n",
              "    <tr>\n",
              "      <th>2</th>\n",
              "      <td>1</td>\n",
              "      <td>1</td>\n",
              "    </tr>\n",
              "    <tr>\n",
              "      <th>3</th>\n",
              "      <td>0</td>\n",
              "      <td>0</td>\n",
              "    </tr>\n",
              "    <tr>\n",
              "      <th>4</th>\n",
              "      <td>1</td>\n",
              "      <td>1</td>\n",
              "    </tr>\n",
              "    <tr>\n",
              "      <th>5</th>\n",
              "      <td>1</td>\n",
              "      <td>1</td>\n",
              "    </tr>\n",
              "    <tr>\n",
              "      <th>6</th>\n",
              "      <td>0</td>\n",
              "      <td>0</td>\n",
              "    </tr>\n",
              "    <tr>\n",
              "      <th>7</th>\n",
              "      <td>0</td>\n",
              "      <td>0</td>\n",
              "    </tr>\n",
              "    <tr>\n",
              "      <th>8</th>\n",
              "      <td>1</td>\n",
              "      <td>1</td>\n",
              "    </tr>\n",
              "    <tr>\n",
              "      <th>9</th>\n",
              "      <td>0</td>\n",
              "      <td>0</td>\n",
              "    </tr>\n",
              "  </tbody>\n",
              "</table>\n",
              "</div>\n",
              "      <button class=\"colab-df-convert\" onclick=\"convertToInteractive('df-7f1c8768-0238-4b6e-8fb0-110010a33ae0')\"\n",
              "              title=\"Convert this dataframe to an interactive table.\"\n",
              "              style=\"display:none;\">\n",
              "        \n",
              "  <svg xmlns=\"http://www.w3.org/2000/svg\" height=\"24px\"viewBox=\"0 0 24 24\"\n",
              "       width=\"24px\">\n",
              "    <path d=\"M0 0h24v24H0V0z\" fill=\"none\"/>\n",
              "    <path d=\"M18.56 5.44l.94 2.06.94-2.06 2.06-.94-2.06-.94-.94-2.06-.94 2.06-2.06.94zm-11 1L8.5 8.5l.94-2.06 2.06-.94-2.06-.94L8.5 2.5l-.94 2.06-2.06.94zm10 10l.94 2.06.94-2.06 2.06-.94-2.06-.94-.94-2.06-.94 2.06-2.06.94z\"/><path d=\"M17.41 7.96l-1.37-1.37c-.4-.4-.92-.59-1.43-.59-.52 0-1.04.2-1.43.59L10.3 9.45l-7.72 7.72c-.78.78-.78 2.05 0 2.83L4 21.41c.39.39.9.59 1.41.59.51 0 1.02-.2 1.41-.59l7.78-7.78 2.81-2.81c.8-.78.8-2.07 0-2.86zM5.41 20L4 18.59l7.72-7.72 1.47 1.35L5.41 20z\"/>\n",
              "  </svg>\n",
              "      </button>\n",
              "      \n",
              "  <style>\n",
              "    .colab-df-container {\n",
              "      display:flex;\n",
              "      flex-wrap:wrap;\n",
              "      gap: 12px;\n",
              "    }\n",
              "\n",
              "    .colab-df-convert {\n",
              "      background-color: #E8F0FE;\n",
              "      border: none;\n",
              "      border-radius: 50%;\n",
              "      cursor: pointer;\n",
              "      display: none;\n",
              "      fill: #1967D2;\n",
              "      height: 32px;\n",
              "      padding: 0 0 0 0;\n",
              "      width: 32px;\n",
              "    }\n",
              "\n",
              "    .colab-df-convert:hover {\n",
              "      background-color: #E2EBFA;\n",
              "      box-shadow: 0px 1px 2px rgba(60, 64, 67, 0.3), 0px 1px 3px 1px rgba(60, 64, 67, 0.15);\n",
              "      fill: #174EA6;\n",
              "    }\n",
              "\n",
              "    [theme=dark] .colab-df-convert {\n",
              "      background-color: #3B4455;\n",
              "      fill: #D2E3FC;\n",
              "    }\n",
              "\n",
              "    [theme=dark] .colab-df-convert:hover {\n",
              "      background-color: #434B5C;\n",
              "      box-shadow: 0px 1px 3px 1px rgba(0, 0, 0, 0.15);\n",
              "      filter: drop-shadow(0px 1px 2px rgba(0, 0, 0, 0.3));\n",
              "      fill: #FFFFFF;\n",
              "    }\n",
              "  </style>\n",
              "\n",
              "      <script>\n",
              "        const buttonEl =\n",
              "          document.querySelector('#df-7f1c8768-0238-4b6e-8fb0-110010a33ae0 button.colab-df-convert');\n",
              "        buttonEl.style.display =\n",
              "          google.colab.kernel.accessAllowed ? 'block' : 'none';\n",
              "\n",
              "        async function convertToInteractive(key) {\n",
              "          const element = document.querySelector('#df-7f1c8768-0238-4b6e-8fb0-110010a33ae0');\n",
              "          const dataTable =\n",
              "            await google.colab.kernel.invokeFunction('convertToInteractive',\n",
              "                                                     [key], {});\n",
              "          if (!dataTable) return;\n",
              "\n",
              "          const docLinkHtml = 'Like what you see? Visit the ' +\n",
              "            '<a target=\"_blank\" href=https://colab.research.google.com/notebooks/data_table.ipynb>data table notebook</a>'\n",
              "            + ' to learn more about interactive tables.';\n",
              "          element.innerHTML = '';\n",
              "          dataTable['output_type'] = 'display_data';\n",
              "          await google.colab.output.renderOutput(dataTable, element);\n",
              "          const docLink = document.createElement('div');\n",
              "          docLink.innerHTML = docLinkHtml;\n",
              "          element.appendChild(docLink);\n",
              "        }\n",
              "      </script>\n",
              "    </div>\n",
              "  </div>\n",
              "  "
            ]
          },
          "metadata": {},
          "execution_count": 11
        }
      ]
    },
    {
      "cell_type": "code",
      "source": [
        "from sklearn.metrics import confusion_matrix, classification_report, roc_auc_score\n",
        "#print classification_report\n",
        "print(classification_report(y_test,y_pred_lis))\n",
        "# ploting the confusion metrix plot\n",
        "conf_mat = tf.math.confusion_matrix(labels=y_test,predictions=y_pred_lis)\n",
        "plt.figure(figsize = (17,7))\n",
        "sb.heatmap(conf_mat, annot=True,fmt='d')\n",
        "plt.xlabel('Predicted_number')\n",
        "plt.ylabel('True_number')\n",
        "roc_auc = roc_auc_score(y_test, y_pred_CNN)\n",
        "print(\"ROC AUC:\")\n",
        "print(roc_auc)"
      ],
      "metadata": {
        "colab": {
          "base_uri": "https://localhost:8080/",
          "height": 742
        },
        "id": "TIkDhFLwl-m5",
        "outputId": "c82dc5c3-7a3c-440f-a124-14d5c74e050b"
      },
      "execution_count": 12,
      "outputs": [
        {
          "output_type": "stream",
          "name": "stdout",
          "text": [
            "              precision    recall  f1-score   support\n",
            "\n",
            "           0       0.78      0.72      0.75       561\n",
            "           1       0.89      0.92      0.91      1416\n",
            "\n",
            "    accuracy                           0.86      1977\n",
            "   macro avg       0.84      0.82      0.83      1977\n",
            "weighted avg       0.86      0.86      0.86      1977\n",
            "\n",
            "ROC AUC:\n",
            "0.9249272384865604\n"
          ]
        },
        {
          "output_type": "display_data",
          "data": {
            "text/plain": [
              "<Figure size 1700x700 with 2 Axes>"
            ],
            "image/png": "[encoded data removed]"
          },
          "metadata": {}
        }
      ]
    },
    {
      "cell_type": "code",
      "source": [
        "plt.plot(history.history['accuracy']) \n",
        "plt.plot(history.history['val_accuracy']) \n",
        "plt.title('CNN model accuracy') \n",
        "plt.ylabel('accuracy')\n",
        "plt.xlabel('epoch') \n",
        "plt.legend(['train', 'test'], loc='upper left') \n",
        "plt.show()"
      ],
      "metadata": {
        "colab": {
          "base_uri": "https://localhost:8080/",
          "height": 472
        },
        "id": "V78niamBmDy2",
        "outputId": "48af260b-5461-4e75-da58-fbd467507dd1"
      },
      "execution_count": 13,
      "outputs": [
        {
          "output_type": "display_data",
          "data": {
            "text/plain": [
              "<Figure size 640x480 with 1 Axes>"
            ],
            "image/png": "[encoded data removed]"
          },
          "metadata": {}
        }
      ]
    },
    {
      "cell_type": "markdown",
      "source": [
        "# LONG SHORT-TERM MEMORY (LSTM)"
      ],
      "metadata": {
        "id": "Px6Fy58Avblk"
      }
    },
    {
      "cell_type": "markdown",
      "source": [
        "## Preprocessing Data"
      ],
      "metadata": {
        "id": "ZU9e7MbFvoHr"
      }
    },
    {
      "cell_type": "code",
      "source": [
        "import pandas as pd\n",
        "import numpy as np\n",
        "from sklearn.model_selection import train_test_split\n",
        "from sklearn.preprocessing import MinMaxScaler"
      ],
      "metadata": {
        "id": "C0Zp9Lcvv1_0"
      },
      "execution_count": 14,
      "outputs": []
    },
    {
      "cell_type": "code",
      "source": [
        "df = pd.read_csv('/content/drive/MyDrive/E-Commerce/dataset/mycsvfile.csv')"
      ],
      "metadata": {
        "id": "hYp0Mc4jv-sL"
      },
      "execution_count": 54,
      "outputs": []
    },
    {
      "cell_type": "code",
      "source": [
        "X = df.drop(columns = \"customerstatus\")\n",
        "y = df[\"customerstatus\"].values\n",
        "X_train, X_test, y_train, y_test_lstm = train_test_split(X, y, test_size = 0.3, random_state = 42, stratify =y)\n",
        "col=['totalcharges','avgmonthlylongdistancecharges','monthlycharge','totalrevenue','totallongdistancecharges',\n",
        "     'tenureinmonths','totallongdistancecharges','totalextradatacharges']\n",
        "scaler = StandardScaler()\n",
        "X_train[col] = StandardScaler().fit_transform(X_train[col])\n",
        "X_test[col] = StandardScaler().fit_transform(X_test[col])\n",
        "\n",
        "print(X_train.shape)\n",
        "print(X_test.shape)"
      ],
      "metadata": {
        "colab": {
          "base_uri": "https://localhost:8080/"
        },
        "id": "2KwUSCkZwRby",
        "outputId": "f07c20a5-0b6c-45dd-f2e4-81071ae6ec31"
      },
      "execution_count": 55,
      "outputs": [
        {
          "output_type": "stream",
          "name": "stdout",
          "text": [
            "(4612, 29)\n",
            "(1977, 29)\n"
          ]
        }
      ]
    },
    {
      "cell_type": "code",
      "source": [
        "X_train = np.array(X_train).reshape((X_train.shape[0], 1, X_train.shape[1]))\n",
        "X_test = np.array(X_test).reshape((X_test.shape[0], 1, X_test.shape[1]))\n",
        "print(X_train.shape)\n",
        "print(X_test.shape)"
      ],
      "metadata": {
        "colab": {
          "base_uri": "https://localhost:8080/"
        },
        "id": "SoiJrbCwweyF",
        "outputId": "38159759-ba61-458a-839f-e8b70744f2e0"
      },
      "execution_count": 17,
      "outputs": [
        {
          "output_type": "stream",
          "name": "stdout",
          "text": [
            "(4612, 1, 29)\n",
            "(1977, 1, 29)\n"
          ]
        }
      ]
    },
    {
      "cell_type": "markdown",
      "source": [
        "## Building Model Without Optimization"
      ],
      "metadata": {
        "id": "agCG0idHw7zT"
      }
    },
    {
      "cell_type": "code",
      "source": [
        "from keras.models import Sequential\n",
        "from keras.layers import Dense, LSTM, Dropout\n",
        "\n",
        "model = Sequential()\n",
        "model.add(LSTM(128, input_shape=(X_train.shape[1], X_train.shape[2]), return_sequences=True))\n",
        "model.add(Dropout(0.2))\n",
        "model.add(LSTM(64))\n",
        "model.add(Dropout(0.2))\n",
        "model.add(Dense(1, activation='sigmoid'))"
      ],
      "metadata": {
        "id": "0kADowGmw_i0"
      },
      "execution_count": 18,
      "outputs": []
    },
    {
      "cell_type": "code",
      "source": [
        "model.compile(loss='binary_crossentropy', optimizer='adam', metrics=['accuracy'])\n",
        "history = model.fit(X_train, y_train, epochs=50, batch_size=64, validation_data=(X_test, y_test), verbose=2, shuffle=False)"
      ],
      "metadata": {
        "colab": {
          "base_uri": "https://localhost:8080/"
        },
        "id": "vZB_9nYzxTg0",
        "outputId": "4f29436e-b4c2-4e51-c1ab-42814312d6f6"
      },
      "execution_count": 21,
      "outputs": [
        {
          "output_type": "stream",
          "name": "stdout",
          "text": [
            "Epoch 1/50\n",
            "73/73 - 5s - loss: 0.5402 - accuracy: 0.7316 - val_loss: 0.4388 - val_accuracy: 0.7876 - 5s/epoch - 66ms/step\n",
            "Epoch 2/50\n",
            "73/73 - 1s - loss: 0.4173 - accuracy: 0.8020 - val_loss: 0.3909 - val_accuracy: 0.8123 - 699ms/epoch - 10ms/step\n",
            "Epoch 3/50\n",
            "73/73 - 0s - loss: 0.3818 - accuracy: 0.8259 - val_loss: 0.3706 - val_accuracy: 0.8250 - 494ms/epoch - 7ms/step\n",
            "Epoch 4/50\n",
            "73/73 - 0s - loss: 0.3646 - accuracy: 0.8322 - val_loss: 0.3584 - val_accuracy: 0.8351 - 487ms/epoch - 7ms/step\n",
            "Epoch 5/50\n",
            "73/73 - 0s - loss: 0.3524 - accuracy: 0.8348 - val_loss: 0.3462 - val_accuracy: 0.8422 - 492ms/epoch - 7ms/step\n",
            "Epoch 6/50\n",
            "73/73 - 1s - loss: 0.3459 - accuracy: 0.8393 - val_loss: 0.3491 - val_accuracy: 0.8397 - 505ms/epoch - 7ms/step\n",
            "Epoch 7/50\n",
            "73/73 - 0s - loss: 0.3432 - accuracy: 0.8441 - val_loss: 0.3442 - val_accuracy: 0.8407 - 465ms/epoch - 6ms/step\n",
            "Epoch 8/50\n",
            "73/73 - 0s - loss: 0.3369 - accuracy: 0.8463 - val_loss: 0.3432 - val_accuracy: 0.8452 - 483ms/epoch - 7ms/step\n",
            "Epoch 9/50\n",
            "73/73 - 0s - loss: 0.3313 - accuracy: 0.8495 - val_loss: 0.3390 - val_accuracy: 0.8432 - 480ms/epoch - 7ms/step\n",
            "Epoch 10/50\n",
            "73/73 - 1s - loss: 0.3319 - accuracy: 0.8513 - val_loss: 0.3386 - val_accuracy: 0.8427 - 578ms/epoch - 8ms/step\n",
            "Epoch 11/50\n",
            "73/73 - 0s - loss: 0.3264 - accuracy: 0.8523 - val_loss: 0.3349 - val_accuracy: 0.8432 - 461ms/epoch - 6ms/step\n",
            "Epoch 12/50\n",
            "73/73 - 1s - loss: 0.3275 - accuracy: 0.8513 - val_loss: 0.3338 - val_accuracy: 0.8467 - 859ms/epoch - 12ms/step\n",
            "Epoch 13/50\n",
            "73/73 - 1s - loss: 0.3208 - accuracy: 0.8569 - val_loss: 0.3369 - val_accuracy: 0.8412 - 506ms/epoch - 7ms/step\n",
            "Epoch 14/50\n",
            "73/73 - 0s - loss: 0.3189 - accuracy: 0.8586 - val_loss: 0.3349 - val_accuracy: 0.8422 - 489ms/epoch - 7ms/step\n",
            "Epoch 15/50\n",
            "73/73 - 1s - loss: 0.3218 - accuracy: 0.8508 - val_loss: 0.3350 - val_accuracy: 0.8462 - 563ms/epoch - 8ms/step\n",
            "Epoch 16/50\n",
            "73/73 - 0s - loss: 0.3131 - accuracy: 0.8612 - val_loss: 0.3302 - val_accuracy: 0.8472 - 468ms/epoch - 6ms/step\n",
            "Epoch 17/50\n",
            "73/73 - 0s - loss: 0.3145 - accuracy: 0.8584 - val_loss: 0.3276 - val_accuracy: 0.8498 - 435ms/epoch - 6ms/step\n",
            "Epoch 18/50\n",
            "73/73 - 1s - loss: 0.3121 - accuracy: 0.8601 - val_loss: 0.3292 - val_accuracy: 0.8477 - 534ms/epoch - 7ms/step\n",
            "Epoch 19/50\n",
            "73/73 - 0s - loss: 0.3094 - accuracy: 0.8588 - val_loss: 0.3301 - val_accuracy: 0.8457 - 488ms/epoch - 7ms/step\n",
            "Epoch 20/50\n",
            "73/73 - 0s - loss: 0.3094 - accuracy: 0.8619 - val_loss: 0.3250 - val_accuracy: 0.8498 - 438ms/epoch - 6ms/step\n",
            "Epoch 21/50\n",
            "73/73 - 0s - loss: 0.3060 - accuracy: 0.8632 - val_loss: 0.3240 - val_accuracy: 0.8533 - 424ms/epoch - 6ms/step\n",
            "Epoch 22/50\n",
            "73/73 - 1s - loss: 0.3041 - accuracy: 0.8634 - val_loss: 0.3247 - val_accuracy: 0.8513 - 675ms/epoch - 9ms/step\n",
            "Epoch 23/50\n",
            "73/73 - 1s - loss: 0.3087 - accuracy: 0.8619 - val_loss: 0.3280 - val_accuracy: 0.8467 - 667ms/epoch - 9ms/step\n",
            "Epoch 24/50\n",
            "73/73 - 1s - loss: 0.3010 - accuracy: 0.8677 - val_loss: 0.3235 - val_accuracy: 0.8543 - 732ms/epoch - 10ms/step\n",
            "Epoch 25/50\n",
            "73/73 - 1s - loss: 0.3021 - accuracy: 0.8617 - val_loss: 0.3312 - val_accuracy: 0.8452 - 762ms/epoch - 10ms/step\n",
            "Epoch 26/50\n",
            "73/73 - 1s - loss: 0.2978 - accuracy: 0.8625 - val_loss: 0.3314 - val_accuracy: 0.8498 - 529ms/epoch - 7ms/step\n",
            "Epoch 27/50\n",
            "73/73 - 0s - loss: 0.2914 - accuracy: 0.8693 - val_loss: 0.3277 - val_accuracy: 0.8493 - 482ms/epoch - 7ms/step\n",
            "Epoch 28/50\n",
            "73/73 - 1s - loss: 0.2994 - accuracy: 0.8651 - val_loss: 0.3239 - val_accuracy: 0.8528 - 525ms/epoch - 7ms/step\n",
            "Epoch 29/50\n",
            "73/73 - 0s - loss: 0.2962 - accuracy: 0.8690 - val_loss: 0.3267 - val_accuracy: 0.8483 - 477ms/epoch - 7ms/step\n",
            "Epoch 30/50\n",
            "73/73 - 0s - loss: 0.2902 - accuracy: 0.8699 - val_loss: 0.3315 - val_accuracy: 0.8472 - 490ms/epoch - 7ms/step\n",
            "Epoch 31/50\n",
            "73/73 - 0s - loss: 0.2908 - accuracy: 0.8710 - val_loss: 0.3290 - val_accuracy: 0.8513 - 458ms/epoch - 6ms/step\n",
            "Epoch 32/50\n",
            "73/73 - 0s - loss: 0.2883 - accuracy: 0.8723 - val_loss: 0.3289 - val_accuracy: 0.8488 - 486ms/epoch - 7ms/step\n",
            "Epoch 33/50\n",
            "73/73 - 1s - loss: 0.2884 - accuracy: 0.8669 - val_loss: 0.3298 - val_accuracy: 0.8508 - 582ms/epoch - 8ms/step\n",
            "Epoch 34/50\n",
            "73/73 - 0s - loss: 0.2863 - accuracy: 0.8723 - val_loss: 0.3261 - val_accuracy: 0.8538 - 434ms/epoch - 6ms/step\n",
            "Epoch 35/50\n",
            "73/73 - 1s - loss: 0.2858 - accuracy: 0.8732 - val_loss: 0.3317 - val_accuracy: 0.8513 - 567ms/epoch - 8ms/step\n",
            "Epoch 36/50\n",
            "73/73 - 0s - loss: 0.2831 - accuracy: 0.8719 - val_loss: 0.3349 - val_accuracy: 0.8528 - 472ms/epoch - 6ms/step\n",
            "Epoch 37/50\n",
            "73/73 - 0s - loss: 0.2797 - accuracy: 0.8712 - val_loss: 0.3404 - val_accuracy: 0.8483 - 459ms/epoch - 6ms/step\n",
            "Epoch 38/50\n",
            "73/73 - 0s - loss: 0.2814 - accuracy: 0.8701 - val_loss: 0.3389 - val_accuracy: 0.8488 - 469ms/epoch - 6ms/step\n",
            "Epoch 39/50\n",
            "73/73 - 0s - loss: 0.2793 - accuracy: 0.8729 - val_loss: 0.3399 - val_accuracy: 0.8472 - 470ms/epoch - 6ms/step\n",
            "Epoch 40/50\n",
            "73/73 - 1s - loss: 0.2757 - accuracy: 0.8753 - val_loss: 0.3437 - val_accuracy: 0.8483 - 577ms/epoch - 8ms/step\n",
            "Epoch 41/50\n",
            "73/73 - 0s - loss: 0.2761 - accuracy: 0.8734 - val_loss: 0.3495 - val_accuracy: 0.8472 - 474ms/epoch - 6ms/step\n",
            "Epoch 42/50\n",
            "73/73 - 0s - loss: 0.2804 - accuracy: 0.8710 - val_loss: 0.3425 - val_accuracy: 0.8523 - 486ms/epoch - 7ms/step\n",
            "Epoch 43/50\n",
            "73/73 - 0s - loss: 0.2737 - accuracy: 0.8768 - val_loss: 0.3447 - val_accuracy: 0.8493 - 464ms/epoch - 6ms/step\n",
            "Epoch 44/50\n",
            "73/73 - 0s - loss: 0.2738 - accuracy: 0.8751 - val_loss: 0.3518 - val_accuracy: 0.8498 - 479ms/epoch - 7ms/step\n",
            "Epoch 45/50\n",
            "73/73 - 0s - loss: 0.2766 - accuracy: 0.8738 - val_loss: 0.3487 - val_accuracy: 0.8498 - 482ms/epoch - 7ms/step\n",
            "Epoch 46/50\n",
            "73/73 - 1s - loss: 0.2662 - accuracy: 0.8786 - val_loss: 0.3501 - val_accuracy: 0.8472 - 633ms/epoch - 9ms/step\n",
            "Epoch 47/50\n",
            "73/73 - 1s - loss: 0.2700 - accuracy: 0.8775 - val_loss: 0.3609 - val_accuracy: 0.8493 - 705ms/epoch - 10ms/step\n",
            "Epoch 48/50\n",
            "73/73 - 1s - loss: 0.2679 - accuracy: 0.8797 - val_loss: 0.3524 - val_accuracy: 0.8513 - 684ms/epoch - 9ms/step\n",
            "Epoch 49/50\n",
            "73/73 - 1s - loss: 0.2693 - accuracy: 0.8801 - val_loss: 0.3535 - val_accuracy: 0.8528 - 656ms/epoch - 9ms/step\n",
            "Epoch 50/50\n",
            "73/73 - 1s - loss: 0.2672 - accuracy: 0.8816 - val_loss: 0.3506 - val_accuracy: 0.8498 - 623ms/epoch - 9ms/step\n"
          ]
        }
      ]
    },
    {
      "cell_type": "code",
      "source": [
        "model.evaluate(X_test,y_test)"
      ],
      "metadata": {
        "colab": {
          "base_uri": "https://localhost:8080/"
        },
        "id": "btjNqnD_xhCo",
        "outputId": "fc83077a-8b05-421b-abc7-ac90c3fe553e"
      },
      "execution_count": 22,
      "outputs": [
        {
          "output_type": "stream",
          "name": "stdout",
          "text": [
            "62/62 [==============================] - 0s 2ms/step - loss: 0.3506 - accuracy: 0.8498\n"
          ]
        },
        {
          "output_type": "execute_result",
          "data": {
            "text/plain": [
              "[0.3506271541118622, 0.8497723937034607]"
            ]
          },
          "metadata": {},
          "execution_count": 22
        }
      ]
    },
    {
      "cell_type": "code",
      "source": [
        "plt.plot(history.history['accuracy']) \n",
        "plt.plot(history.history['val_accuracy']) \n",
        "plt.title('model accuracy') \n",
        "plt.ylabel('accuracy')\n",
        "plt.xlabel('epoch') \n",
        "plt.legend(['train', 'test'], loc='upper left') \n",
        "plt.show()"
      ],
      "metadata": {
        "colab": {
          "base_uri": "https://localhost:8080/",
          "height": 472
        },
        "id": "ySsHlNOuxprE",
        "outputId": "eb9e7687-40be-482e-d145-0540571b296c"
      },
      "execution_count": 23,
      "outputs": [
        {
          "output_type": "display_data",
          "data": {
            "text/plain": [
              "<Figure size 640x480 with 1 Axes>"
            ],
            "image/png": "[encoded data removed]"
          },
          "metadata": {}
        }
      ]
    },
    {
      "cell_type": "markdown",
      "source": [
        "## Tunning Parameters"
      ],
      "metadata": {
        "id": "jc9NjoroyDPY"
      }
    },
    {
      "cell_type": "code",
      "source": [
        "def create_model(n_lstm, dropout_rate, learn_rate):\n",
        "    model = Sequential()\n",
        "    model.add(LSTM(n_lstm, input_shape=(X_train.shape[1], X_train.shape[2]), return_sequences=True))\n",
        "    model.add(Dropout(dropout_rate))\n",
        "    model.add(LSTM(n_lstm))\n",
        "    model.add(Dropout(dropout_rate))\n",
        "    model.add(Dense(1, activation='sigmoid'))\n",
        "    optimizer = keras.optimizers.Adam(learning_rate=learn_rate)\n",
        "    model.compile(loss='binary_crossentropy', optimizer=optimizer, metrics=['accuracy'])\n",
        "    return model"
      ],
      "metadata": {
        "id": "QLvJqG49yGxy"
      },
      "execution_count": 26,
      "outputs": []
    },
    {
      "cell_type": "code",
      "source": [
        "model = KerasClassifier(build_fn=create_model, verbose=0)\n",
        "\n",
        "param_grid = {\n",
        "    'n_lstm': [32, 64, 128, 256],\n",
        "    'batch_size': [32, 64, 128],\n",
        "    'dropout_rate': [0.0, 0.1, 0.2],\n",
        "    'learn_rate': [0.001, 0.01, 0.1]\n",
        "}\n",
        "\n",
        "grid = GridSearchCV(estimator=model, param_grid=param_grid, cv=3, verbose=1)\n",
        "grid_result = grid.fit(X_train, y_train)\n",
        "\n",
        "print(\"Best: %f using %s\" % (grid_result.best_score_, grid_result.best_params_))"
      ],
      "metadata": {
        "colab": {
          "base_uri": "https://localhost:8080/"
        },
        "id": "3jDcmgYWmgUq",
        "outputId": "6ada7b07-796c-4e46-f92a-e558cb6e4528"
      },
      "execution_count": 27,
      "outputs": [
        {
          "output_type": "stream",
          "name": "stderr",
          "text": [
            "<ipython-input-27-eee95ca2e06f>:1: DeprecationWarning: KerasClassifier is deprecated, use Sci-Keras (https://github.com/adriangb/scikeras) instead. See https://www.adriangb.com/scikeras/stable/migration.html for help migrating.\n",
            "  model = KerasClassifier(build_fn=create_model, verbose=0)\n"
          ]
        },
        {
          "output_type": "stream",
          "name": "stdout",
          "text": [
            "Fitting 3 folds for each of 108 candidates, totalling 324 fits\n",
            "Best: 0.823285 using {'batch_size': 32, 'dropout_rate': 0.0, 'learn_rate': 0.01, 'n_lstm': 64}\n"
          ]
        }
      ]
    },
    {
      "cell_type": "markdown",
      "source": [
        "## Building Final Model"
      ],
      "metadata": {
        "id": "1fxs4aoUyHhY"
      }
    },
    {
      "cell_type": "code",
      "source": [
        "from keras.models import Sequential\n",
        "from keras.layers import Dense, LSTM, Dropout\n",
        "\n",
        "model_lstm = Sequential()\n",
        "model_lstm.add(LSTM(64, input_shape=(X_train.shape[1], X_train.shape[2]), return_sequences=True))\n",
        "model_lstm.add(Dropout(0.0))\n",
        "model_lstm.add(LSTM(64))\n",
        "model_lstm.add(Dropout(0.0))\n",
        "model_lstm.add(Dense(1, activation='sigmoid'))"
      ],
      "metadata": {
        "id": "0WYpjv-jvNe8"
      },
      "execution_count": 19,
      "outputs": []
    },
    {
      "cell_type": "code",
      "source": [
        "optimizer = Adam(learning_rate=0.01)\n",
        "model_lstm.compile(loss='binary_crossentropy', optimizer= optimizer, metrics=['accuracy'])\n",
        "history = model_lstm.fit(X_train, y_train, epochs=50, batch_size=32, validation_data=(X_test, y_test), verbose=2, shuffle=False)"
      ],
      "metadata": {
        "colab": {
          "base_uri": "https://localhost:8080/"
        },
        "id": "V29-oJJbvRCA",
        "outputId": "a36013c0-1a75-4e4c-ae4a-c14b72962bdd"
      },
      "execution_count": 20,
      "outputs": [
        {
          "output_type": "stream",
          "name": "stdout",
          "text": [
            "Epoch 1/50\n",
            "145/145 - 5s - loss: 0.4315 - accuracy: 0.7940 - val_loss: 0.3781 - val_accuracy: 0.8336 - 5s/epoch - 35ms/step\n",
            "Epoch 2/50\n",
            "145/145 - 1s - loss: 0.3731 - accuracy: 0.8296 - val_loss: 0.3571 - val_accuracy: 0.8457 - 745ms/epoch - 5ms/step\n",
            "Epoch 3/50\n",
            "145/145 - 1s - loss: 0.3627 - accuracy: 0.8324 - val_loss: 0.3574 - val_accuracy: 0.8462 - 706ms/epoch - 5ms/step\n",
            "Epoch 4/50\n",
            "145/145 - 1s - loss: 0.3553 - accuracy: 0.8382 - val_loss: 0.3562 - val_accuracy: 0.8331 - 744ms/epoch - 5ms/step\n",
            "Epoch 5/50\n",
            "145/145 - 1s - loss: 0.3527 - accuracy: 0.8361 - val_loss: 0.3561 - val_accuracy: 0.8392 - 650ms/epoch - 4ms/step\n",
            "Epoch 6/50\n",
            "145/145 - 1s - loss: 0.3488 - accuracy: 0.8378 - val_loss: 0.3531 - val_accuracy: 0.8427 - 623ms/epoch - 4ms/step\n",
            "Epoch 7/50\n",
            "145/145 - 1s - loss: 0.3382 - accuracy: 0.8450 - val_loss: 0.3496 - val_accuracy: 0.8472 - 647ms/epoch - 4ms/step\n",
            "Epoch 8/50\n",
            "145/145 - 1s - loss: 0.3420 - accuracy: 0.8448 - val_loss: 0.3573 - val_accuracy: 0.8442 - 716ms/epoch - 5ms/step\n",
            "Epoch 9/50\n",
            "145/145 - 1s - loss: 0.3338 - accuracy: 0.8478 - val_loss: 0.3536 - val_accuracy: 0.8452 - 645ms/epoch - 4ms/step\n",
            "Epoch 10/50\n",
            "145/145 - 1s - loss: 0.3343 - accuracy: 0.8482 - val_loss: 0.3456 - val_accuracy: 0.8437 - 666ms/epoch - 5ms/step\n",
            "Epoch 11/50\n",
            "145/145 - 1s - loss: 0.3256 - accuracy: 0.8532 - val_loss: 0.3438 - val_accuracy: 0.8538 - 676ms/epoch - 5ms/step\n",
            "Epoch 12/50\n",
            "145/145 - 1s - loss: 0.3250 - accuracy: 0.8556 - val_loss: 0.3439 - val_accuracy: 0.8493 - 674ms/epoch - 5ms/step\n",
            "Epoch 13/50\n",
            "145/145 - 1s - loss: 0.3218 - accuracy: 0.8584 - val_loss: 0.3487 - val_accuracy: 0.8467 - 786ms/epoch - 5ms/step\n",
            "Epoch 14/50\n",
            "145/145 - 1s - loss: 0.3308 - accuracy: 0.8469 - val_loss: 0.3422 - val_accuracy: 0.8467 - 986ms/epoch - 7ms/step\n",
            "Epoch 15/50\n",
            "145/145 - 1s - loss: 0.3233 - accuracy: 0.8504 - val_loss: 0.3382 - val_accuracy: 0.8569 - 1s/epoch - 9ms/step\n",
            "Epoch 16/50\n",
            "145/145 - 1s - loss: 0.3220 - accuracy: 0.8543 - val_loss: 0.3407 - val_accuracy: 0.8392 - 1s/epoch - 7ms/step\n",
            "Epoch 17/50\n",
            "145/145 - 1s - loss: 0.3180 - accuracy: 0.8530 - val_loss: 0.3453 - val_accuracy: 0.8584 - 1s/epoch - 9ms/step\n",
            "Epoch 18/50\n",
            "145/145 - 1s - loss: 0.3254 - accuracy: 0.8487 - val_loss: 0.3373 - val_accuracy: 0.8543 - 988ms/epoch - 7ms/step\n",
            "Epoch 19/50\n",
            "145/145 - 1s - loss: 0.3175 - accuracy: 0.8586 - val_loss: 0.3368 - val_accuracy: 0.8553 - 647ms/epoch - 4ms/step\n",
            "Epoch 20/50\n",
            "145/145 - 1s - loss: 0.3119 - accuracy: 0.8547 - val_loss: 0.3377 - val_accuracy: 0.8614 - 551ms/epoch - 4ms/step\n",
            "Epoch 21/50\n",
            "145/145 - 1s - loss: 0.3123 - accuracy: 0.8601 - val_loss: 0.3385 - val_accuracy: 0.8584 - 633ms/epoch - 4ms/step\n",
            "Epoch 22/50\n",
            "145/145 - 1s - loss: 0.3091 - accuracy: 0.8599 - val_loss: 0.3338 - val_accuracy: 0.8599 - 571ms/epoch - 4ms/step\n",
            "Epoch 23/50\n",
            "145/145 - 1s - loss: 0.3082 - accuracy: 0.8597 - val_loss: 0.3364 - val_accuracy: 0.8503 - 663ms/epoch - 5ms/step\n",
            "Epoch 24/50\n",
            "145/145 - 1s - loss: 0.3088 - accuracy: 0.8604 - val_loss: 0.3353 - val_accuracy: 0.8528 - 684ms/epoch - 5ms/step\n",
            "Epoch 25/50\n",
            "145/145 - 1s - loss: 0.3103 - accuracy: 0.8591 - val_loss: 0.3370 - val_accuracy: 0.8518 - 592ms/epoch - 4ms/step\n",
            "Epoch 26/50\n",
            "145/145 - 1s - loss: 0.3113 - accuracy: 0.8612 - val_loss: 0.3367 - val_accuracy: 0.8543 - 610ms/epoch - 4ms/step\n",
            "Epoch 27/50\n",
            "145/145 - 1s - loss: 0.3089 - accuracy: 0.8608 - val_loss: 0.3369 - val_accuracy: 0.8548 - 678ms/epoch - 5ms/step\n",
            "Epoch 28/50\n",
            "145/145 - 1s - loss: 0.3103 - accuracy: 0.8614 - val_loss: 0.3363 - val_accuracy: 0.8538 - 736ms/epoch - 5ms/step\n",
            "Epoch 29/50\n",
            "145/145 - 1s - loss: 0.3056 - accuracy: 0.8641 - val_loss: 0.3376 - val_accuracy: 0.8528 - 717ms/epoch - 5ms/step\n",
            "Epoch 30/50\n",
            "145/145 - 1s - loss: 0.3078 - accuracy: 0.8623 - val_loss: 0.3384 - val_accuracy: 0.8462 - 680ms/epoch - 5ms/step\n",
            "Epoch 31/50\n",
            "145/145 - 1s - loss: 0.2997 - accuracy: 0.8662 - val_loss: 0.3397 - val_accuracy: 0.8508 - 713ms/epoch - 5ms/step\n",
            "Epoch 32/50\n",
            "145/145 - 1s - loss: 0.3006 - accuracy: 0.8645 - val_loss: 0.3426 - val_accuracy: 0.8462 - 817ms/epoch - 6ms/step\n",
            "Epoch 33/50\n",
            "145/145 - 1s - loss: 0.2996 - accuracy: 0.8632 - val_loss: 0.3395 - val_accuracy: 0.8508 - 843ms/epoch - 6ms/step\n",
            "Epoch 34/50\n",
            "145/145 - 1s - loss: 0.3004 - accuracy: 0.8651 - val_loss: 0.3459 - val_accuracy: 0.8472 - 853ms/epoch - 6ms/step\n",
            "Epoch 35/50\n",
            "145/145 - 1s - loss: 0.2987 - accuracy: 0.8664 - val_loss: 0.3470 - val_accuracy: 0.8442 - 669ms/epoch - 5ms/step\n",
            "Epoch 36/50\n",
            "145/145 - 1s - loss: 0.3010 - accuracy: 0.8654 - val_loss: 0.3503 - val_accuracy: 0.8432 - 633ms/epoch - 4ms/step\n",
            "Epoch 37/50\n",
            "145/145 - 1s - loss: 0.2992 - accuracy: 0.8643 - val_loss: 0.3498 - val_accuracy: 0.8427 - 713ms/epoch - 5ms/step\n",
            "Epoch 38/50\n",
            "145/145 - 1s - loss: 0.2999 - accuracy: 0.8664 - val_loss: 0.3496 - val_accuracy: 0.8467 - 675ms/epoch - 5ms/step\n",
            "Epoch 39/50\n",
            "145/145 - 1s - loss: 0.2949 - accuracy: 0.8688 - val_loss: 0.3530 - val_accuracy: 0.8427 - 669ms/epoch - 5ms/step\n",
            "Epoch 40/50\n",
            "145/145 - 1s - loss: 0.2895 - accuracy: 0.8706 - val_loss: 0.3573 - val_accuracy: 0.8392 - 586ms/epoch - 4ms/step\n",
            "Epoch 41/50\n",
            "145/145 - 1s - loss: 0.2972 - accuracy: 0.8651 - val_loss: 0.3611 - val_accuracy: 0.8407 - 594ms/epoch - 4ms/step\n",
            "Epoch 42/50\n",
            "145/145 - 1s - loss: 0.2887 - accuracy: 0.8706 - val_loss: 0.3568 - val_accuracy: 0.8488 - 578ms/epoch - 4ms/step\n",
            "Epoch 43/50\n",
            "145/145 - 1s - loss: 0.2957 - accuracy: 0.8680 - val_loss: 0.3663 - val_accuracy: 0.8336 - 643ms/epoch - 4ms/step\n",
            "Epoch 44/50\n",
            "145/145 - 1s - loss: 0.2860 - accuracy: 0.8721 - val_loss: 0.3625 - val_accuracy: 0.8442 - 703ms/epoch - 5ms/step\n",
            "Epoch 45/50\n",
            "145/145 - 1s - loss: 0.2904 - accuracy: 0.8677 - val_loss: 0.3649 - val_accuracy: 0.8457 - 717ms/epoch - 5ms/step\n",
            "Epoch 46/50\n",
            "145/145 - 1s - loss: 0.2880 - accuracy: 0.8710 - val_loss: 0.3657 - val_accuracy: 0.8437 - 1s/epoch - 8ms/step\n",
            "Epoch 47/50\n",
            "145/145 - 1s - loss: 0.2884 - accuracy: 0.8712 - val_loss: 0.3553 - val_accuracy: 0.8376 - 584ms/epoch - 4ms/step\n",
            "Epoch 48/50\n",
            "145/145 - 1s - loss: 0.2900 - accuracy: 0.8660 - val_loss: 0.3615 - val_accuracy: 0.8503 - 853ms/epoch - 6ms/step\n",
            "Epoch 49/50\n",
            "145/145 - 2s - loss: 0.2838 - accuracy: 0.8732 - val_loss: 0.3686 - val_accuracy: 0.8412 - 2s/epoch - 14ms/step\n",
            "Epoch 50/50\n",
            "145/145 - 1s - loss: 0.2804 - accuracy: 0.8732 - val_loss: 0.3677 - val_accuracy: 0.8472 - 873ms/epoch - 6ms/step\n"
          ]
        }
      ]
    },
    {
      "cell_type": "markdown",
      "source": [
        "## Evaluating Optimized Model"
      ],
      "metadata": {
        "id": "TVwPLj4wyVeC"
      }
    },
    {
      "cell_type": "code",
      "source": [
        "model_lstm.evaluate(X_test,y_test)"
      ],
      "metadata": {
        "colab": {
          "base_uri": "https://localhost:8080/"
        },
        "id": "ng_3k_uVvXu9",
        "outputId": "26fd13da-a655-4f97-ee5c-9c70f93b479d"
      },
      "execution_count": 21,
      "outputs": [
        {
          "output_type": "stream",
          "name": "stdout",
          "text": [
            "62/62 [==============================] - 0s 2ms/step - loss: 0.3677 - accuracy: 0.8472\n"
          ]
        },
        {
          "output_type": "execute_result",
          "data": {
            "text/plain": [
              "[0.36772239208221436, 0.8472433090209961]"
            ]
          },
          "metadata": {},
          "execution_count": 21
        }
      ]
    },
    {
      "cell_type": "code",
      "source": [
        "y_pred_LSTM = model_lstm.predict(X_test)\n",
        "# unscaling the ypred values \n",
        "y_pred_lis = []\n",
        "for i in y_pred_LSTM:\n",
        "    if i>0.5:\n",
        "        y_pred_lis.append(1)\n",
        "    else:\n",
        "        y_pred_lis.append(0)\n",
        "print(y_pred_lis)"
      ],
      "metadata": {
        "colab": {
          "base_uri": "https://localhost:8080/"
        },
        "id": "Zr81cw9qztYX",
        "outputId": "7963c0e7-6700-4979-f948-c949b8abb1a7"
      },
      "execution_count": 22,
      "outputs": [
        {
          "output_type": "stream",
          "name": "stdout",
          "text": [
            "62/62 [==============================] - 1s 2ms/step\n",
            "[1, 1, 1, 0, 1, 1, 1, 0, 1, 0, 1, 1, 1, 1, 0, 1, 1, 0, 0, 0, 1, 1, 1, 0, 1, 0, 1, 0, 1, 0, 1, 1, 1, 1, 1, 1, 1, 1, 1, 1, 0, 1, 1, 1, 1, 0, 1, 1, 1, 1, 1, 0, 1, 1, 1, 0, 1, 1, 1, 1, 1, 1, 1, 1, 1, 1, 0, 1, 0, 0, 1, 1, 0, 1, 0, 0, 1, 1, 1, 1, 0, 1, 0, 1, 1, 0, 1, 1, 1, 1, 1, 0, 1, 1, 1, 0, 1, 1, 1, 1, 1, 1, 0, 1, 0, 1, 0, 1, 1, 0, 1, 1, 0, 0, 1, 1, 1, 1, 1, 1, 0, 0, 0, 1, 0, 1, 1, 1, 0, 1, 1, 1, 0, 1, 1, 0, 1, 1, 0, 1, 1, 0, 1, 1, 0, 1, 1, 1, 1, 1, 0, 0, 1, 1, 0, 1, 1, 1, 1, 1, 1, 1, 1, 1, 0, 1, 0, 1, 1, 1, 1, 1, 1, 1, 1, 1, 1, 1, 1, 1, 1, 0, 1, 1, 1, 1, 0, 0, 1, 0, 1, 1, 0, 0, 0, 1, 1, 1, 1, 1, 1, 1, 1, 1, 0, 1, 1, 0, 0, 1, 1, 1, 1, 0, 0, 1, 1, 0, 1, 1, 0, 1, 1, 0, 1, 0, 0, 0, 1, 1, 0, 1, 1, 1, 1, 1, 0, 0, 1, 1, 1, 0, 1, 1, 1, 1, 1, 1, 1, 1, 0, 1, 1, 1, 0, 1, 1, 1, 0, 0, 1, 1, 1, 1, 1, 1, 1, 1, 1, 0, 1, 1, 0, 1, 1, 1, 0, 1, 1, 1, 1, 1, 0, 0, 1, 0, 1, 0, 1, 0, 1, 1, 1, 0, 1, 0, 1, 1, 1, 0, 0, 1, 1, 1, 1, 1, 1, 1, 0, 0, 1, 1, 1, 1, 1, 1, 0, 1, 0, 1, 1, 0, 1, 0, 1, 1, 1, 1, 1, 1, 0, 1, 1, 1, 1, 1, 1, 1, 1, 1, 1, 1, 0, 0, 0, 1, 1, 1, 1, 1, 1, 1, 1, 1, 1, 1, 1, 1, 0, 1, 0, 1, 1, 0, 1, 0, 1, 0, 1, 1, 0, 1, 0, 0, 1, 1, 0, 1, 1, 1, 1, 0, 0, 0, 1, 0, 1, 0, 1, 1, 1, 0, 0, 1, 1, 1, 1, 1, 0, 0, 1, 0, 1, 1, 1, 1, 1, 1, 0, 1, 1, 1, 1, 1, 1, 0, 1, 1, 1, 0, 1, 1, 1, 1, 0, 0, 0, 1, 1, 0, 0, 0, 1, 1, 1, 1, 0, 1, 1, 1, 1, 1, 1, 0, 1, 1, 1, 1, 1, 1, 0, 1, 1, 0, 1, 1, 0, 1, 1, 1, 0, 0, 1, 1, 0, 0, 1, 1, 0, 0, 1, 1, 1, 1, 1, 1, 1, 1, 0, 0, 1, 1, 1, 0, 0, 0, 1, 0, 1, 1, 0, 1, 0, 1, 1, 0, 1, 1, 1, 0, 1, 1, 1, 0, 0, 1, 0, 1, 1, 1, 1, 0, 1, 0, 1, 0, 0, 1, 1, 1, 1, 0, 1, 1, 1, 1, 1, 0, 0, 1, 1, 1, 1, 1, 1, 0, 0, 0, 1, 1, 1, 1, 1, 1, 1, 1, 0, 1, 0, 1, 1, 1, 1, 0, 1, 0, 0, 1, 0, 0, 1, 1, 1, 1, 1, 1, 1, 1, 0, 1, 1, 1, 1, 1, 0, 1, 1, 0, 1, 1, 0, 0, 1, 1, 1, 1, 1, 1, 0, 1, 1, 1, 1, 0, 1, 1, 1, 1, 1, 0, 1, 1, 1, 1, 1, 1, 0, 0, 1, 1, 1, 1, 1, 1, 1, 1, 1, 0, 1, 1, 0, 1, 1, 1, 0, 1, 1, 1, 1, 1, 1, 1, 1, 0, 1, 1, 0, 0, 0, 0, 1, 1, 1, 1, 1, 1, 0, 0, 0, 1, 1, 1, 1, 1, 1, 1, 1, 0, 0, 1, 1, 1, 0, 1, 1, 1, 0, 1, 1, 1, 0, 0, 0, 1, 1, 0, 0, 0, 0, 0, 1, 1, 1, 1, 1, 1, 0, 0, 1, 0, 1, 0, 1, 0, 1, 1, 0, 1, 1, 0, 1, 1, 1, 1, 1, 1, 0, 1, 1, 1, 1, 0, 1, 1, 1, 1, 1, 0, 1, 1, 1, 1, 1, 0, 1, 1, 1, 1, 1, 1, 1, 1, 1, 0, 1, 1, 1, 1, 0, 1, 0, 1, 1, 1, 1, 1, 0, 1, 0, 1, 1, 1, 1, 1, 1, 0, 0, 1, 1, 1, 0, 1, 1, 1, 1, 1, 0, 0, 1, 1, 1, 1, 0, 0, 1, 1, 0, 1, 1, 1, 0, 1, 0, 1, 0, 1, 1, 1, 1, 1, 1, 1, 1, 1, 1, 1, 1, 1, 1, 1, 1, 1, 1, 1, 1, 1, 1, 1, 1, 1, 1, 1, 1, 1, 0, 0, 1, 1, 1, 1, 0, 0, 0, 1, 1, 0, 1, 1, 1, 1, 1, 0, 1, 0, 1, 1, 0, 1, 1, 1, 1, 1, 1, 1, 0, 1, 0, 0, 1, 1, 1, 1, 1, 1, 1, 0, 0, 1, 0, 0, 0, 1, 0, 1, 0, 1, 0, 0, 1, 1, 1, 1, 1, 1, 0, 1, 1, 0, 0, 1, 1, 1, 1, 1, 1, 0, 1, 1, 1, 0, 1, 1, 1, 1, 0, 0, 1, 1, 0, 1, 0, 0, 0, 0, 1, 0, 1, 1, 1, 1, 0, 1, 0, 0, 1, 1, 1, 1, 1, 1, 0, 0, 0, 1, 1, 1, 1, 1, 1, 1, 1, 1, 0, 1, 1, 1, 0, 1, 0, 1, 0, 1, 1, 1, 1, 1, 0, 0, 0, 1, 0, 1, 1, 0, 1, 1, 1, 1, 0, 1, 1, 1, 1, 1, 1, 1, 1, 1, 0, 1, 1, 1, 1, 1, 1, 1, 1, 1, 0, 1, 0, 0, 1, 0, 0, 1, 1, 1, 1, 1, 0, 1, 0, 1, 0, 1, 0, 0, 1, 1, 1, 1, 0, 1, 0, 1, 1, 1, 1, 1, 1, 1, 0, 1, 0, 0, 1, 1, 1, 1, 0, 0, 0, 1, 1, 0, 0, 0, 1, 1, 1, 1, 1, 1, 1, 0, 0, 1, 1, 1, 1, 1, 1, 1, 1, 1, 0, 1, 1, 1, 1, 1, 0, 0, 1, 1, 1, 0, 1, 0, 1, 0, 1, 1, 0, 1, 1, 1, 1, 1, 1, 1, 1, 0, 0, 1, 0, 0, 1, 0, 1, 1, 1, 0, 1, 1, 1, 1, 1, 0, 1, 1, 1, 0, 1, 1, 0, 1, 1, 1, 1, 1, 1, 1, 1, 0, 1, 1, 0, 1, 1, 0, 1, 1, 1, 1, 1, 1, 0, 1, 1, 1, 1, 0, 1, 0, 1, 1, 1, 1, 1, 1, 0, 1, 1, 0, 1, 0, 1, 1, 1, 1, 1, 0, 1, 1, 0, 1, 1, 0, 1, 0, 1, 1, 1, 1, 0, 1, 1, 0, 1, 1, 1, 1, 0, 0, 1, 1, 1, 1, 1, 0, 1, 1, 1, 0, 1, 0, 1, 1, 0, 1, 1, 1, 1, 0, 1, 1, 1, 1, 1, 1, 1, 0, 0, 1, 1, 1, 0, 0, 1, 1, 0, 1, 1, 1, 1, 0, 1, 1, 1, 1, 0, 1, 1, 1, 1, 1, 0, 1, 1, 1, 1, 1, 1, 1, 1, 0, 1, 1, 1, 1, 1, 1, 1, 1, 1, 1, 1, 1, 1, 0, 1, 1, 0, 1, 0, 1, 1, 1, 0, 0, 1, 1, 0, 1, 1, 1, 1, 1, 1, 0, 1, 1, 1, 1, 0, 1, 1, 1, 1, 1, 1, 1, 0, 1, 1, 0, 1, 0, 1, 1, 1, 0, 1, 1, 1, 1, 1, 1, 1, 0, 1, 1, 0, 1, 0, 0, 1, 1, 1, 1, 0, 1, 1, 1, 0, 1, 0, 1, 1, 1, 1, 0, 1, 1, 0, 1, 0, 1, 0, 1, 0, 1, 1, 0, 1, 1, 0, 0, 1, 1, 1, 1, 1, 0, 0, 1, 0, 0, 0, 1, 1, 0, 1, 1, 1, 1, 0, 1, 1, 1, 0, 0, 1, 1, 1, 1, 1, 1, 0, 1, 1, 1, 1, 1, 1, 1, 1, 1, 0, 1, 0, 0, 1, 0, 1, 0, 0, 1, 1, 0, 0, 1, 0, 1, 1, 1, 1, 1, 1, 0, 1, 1, 0, 1, 0, 0, 1, 1, 1, 0, 0, 1, 1, 1, 1, 1, 1, 1, 0, 1, 1, 1, 1, 1, 1, 1, 0, 1, 1, 0, 1, 0, 0, 1, 0, 1, 0, 1, 1, 1, 1, 0, 1, 1, 1, 0, 1, 1, 1, 0, 0, 0, 1, 1, 1, 1, 1, 1, 1, 1, 1, 0, 1, 0, 1, 1, 0, 0, 1, 1, 0, 1, 0, 0, 1, 0, 1, 1, 1, 0, 1, 1, 1, 1, 1, 1, 1, 1, 0, 0, 0, 1, 1, 0, 1, 1, 1, 1, 1, 1, 1, 1, 1, 1, 0, 1, 1, 1, 1, 1, 1, 1, 0, 0, 1, 1, 0, 1, 1, 1, 1, 1, 0, 1, 0, 1, 1, 0, 1, 1, 1, 1, 1, 0, 1, 1, 0, 1, 1, 1, 1, 1, 1, 1, 0, 0, 1, 1, 0, 0, 1, 1, 0, 0, 0, 0, 1, 1, 1, 0, 1, 1, 1, 1, 1, 1, 0, 1, 1, 1, 0, 1, 0, 1, 0, 0, 0, 1, 1, 1, 0, 1, 0, 0, 1, 1, 0, 0, 1, 0, 0, 0, 1, 1, 0, 0, 1, 0, 0, 1, 1, 1, 1, 1, 1, 1, 1, 1, 1, 1, 1, 1, 1, 1, 1, 1, 1, 0, 1, 1, 0, 1, 0, 0, 1, 1, 1, 1, 0, 1, 1, 1, 1, 1, 1, 1, 0, 1, 1, 0, 0, 1, 0, 1, 0, 1, 0, 1, 1, 1, 1, 1, 0, 0, 1, 1, 1, 0, 0, 0, 1, 1, 1, 1, 0, 0, 1, 1, 0, 1, 1, 1, 1, 1, 1, 1, 0, 1, 1, 0, 1, 0, 1, 1, 1, 1, 1, 1, 0, 1, 1, 0, 1, 0, 1, 1, 1, 1, 1, 0, 1, 0, 1, 0, 1, 1, 0, 0, 0, 1, 0, 1, 1, 1, 0, 0, 1, 1, 1, 0, 1, 1, 0, 1, 0, 0, 1, 1, 1, 1, 1, 1, 1, 0, 1, 1, 1, 1, 1, 1, 0, 1, 1, 0, 1, 1, 1, 0, 0, 1, 1, 1, 1, 1, 0, 1, 1, 1, 1, 1, 1, 1, 0, 1, 0, 1, 1, 1, 0, 0, 1, 1, 1, 0, 1, 0, 0, 1, 0, 1, 0, 1, 1, 1, 1, 1, 0, 1, 1, 1, 1, 0, 0, 0, 1, 0, 1, 1, 0, 1, 1, 1, 1, 1, 1, 1, 0, 1, 1, 1, 1, 1, 1, 1, 1, 1, 1, 1, 1, 1, 1, 1, 1, 1, 1, 1, 0, 1, 0, 1, 1, 1, 1, 1, 1, 1, 1, 0, 1, 1, 1, 1, 0, 1, 0, 0, 1, 1, 1, 1, 1, 1, 1, 1, 0, 1, 0, 0, 1, 1, 1, 1, 1, 0, 1, 1, 0, 0, 0, 0, 1, 1, 1, 1, 1, 1, 0, 0, 1, 0, 0, 1, 1, 1, 1, 1, 1, 1, 1, 0, 1, 0, 1, 1, 0, 0, 1, 1, 0, 1, 1, 1, 1, 1, 0, 1, 1, 1, 1, 1, 1, 1, 1, 0, 1, 0, 1, 1, 1, 1, 1, 0, 1, 1, 1, 1, 1, 1, 1, 0, 1, 0, 1, 1, 1, 1, 0, 0, 1, 1, 1, 0, 1, 0, 1, 1, 0, 1, 0, 1, 1, 1, 0, 1, 1, 1, 1, 1, 0, 1, 1, 0, 1, 1, 1, 1, 0, 1, 1, 1, 1, 1, 1, 1, 1, 1, 0, 1, 1, 0, 1, 1, 1, 1, 1]\n"
          ]
        }
      ]
    },
    {
      "cell_type": "code",
      "source": [
        "data = {'orignal_churn':y_test, 'predicted_churn':y_pred_lis}\n",
        "df_check = pd.DataFrame(data)\n",
        "df_check.head(10)"
      ],
      "metadata": {
        "colab": {
          "base_uri": "https://localhost:8080/",
          "height": 363
        },
        "id": "diFmYvv0zvam",
        "outputId": "e85537f9-139f-42f7-beb7-b3b060994c45"
      },
      "execution_count": 23,
      "outputs": [
        {
          "output_type": "execute_result",
          "data": {
            "text/plain": [
              "   orignal_churn  predicted_churn\n",
              "0              1                1\n",
              "1              1                1\n",
              "2              1                1\n",
              "3              0                0\n",
              "4              1                1\n",
              "5              1                1\n",
              "6              0                1\n",
              "7              0                0\n",
              "8              1                1\n",
              "9              0                0"
            ],
            "text/html": [
              "\n",
              "  <div id=\"df-49e407a0-38ac-4af1-9d2c-3293b151c75c\">\n",
              "    <div class=\"colab-df-container\">\n",
              "      <div>\n",
              "<style scoped>\n",
              "    .dataframe tbody tr th:only-of-type {\n",
              "        vertical-align: middle;\n",
              "    }\n",
              "\n",
              "    .dataframe tbody tr th {\n",
              "        vertical-align: top;\n",
              "    }\n",
              "\n",
              "    .dataframe thead th {\n",
              "        text-align: right;\n",
              "    }\n",
              "</style>\n",
              "<table border=\"1\" class=\"dataframe\">\n",
              "  <thead>\n",
              "    <tr style=\"text-align: right;\">\n",
              "      <th></th>\n",
              "      <th>orignal_churn</th>\n",
              "      <th>predicted_churn</th>\n",
              "    </tr>\n",
              "  </thead>\n",
              "  <tbody>\n",
              "    <tr>\n",
              "      <th>0</th>\n",
              "      <td>1</td>\n",
              "      <td>1</td>\n",
              "    </tr>\n",
              "    <tr>\n",
              "      <th>1</th>\n",
              "      <td>1</td>\n",
              "      <td>1</td>\n",
              "    </tr>\n",
              "    <tr>\n",
              "      <th>2</th>\n",
              "      <td>1</td>\n",
              "      <td>1</td>\n",
              "    </tr>\n",
              "    <tr>\n",
              "      <th>3</th>\n",
              "      <td>0</td>\n",
              "      <td>0</td>\n",
              "    </tr>\n",
              "    <tr>\n",
              "      <th>4</th>\n",
              "      <td>1</td>\n",
              "      <td>1</td>\n",
              "    </tr>\n",
              "    <tr>\n",
              "      <th>5</th>\n",
              "      <td>1</td>\n",
              "      <td>1</td>\n",
              "    </tr>\n",
              "    <tr>\n",
              "      <th>6</th>\n",
              "      <td>0</td>\n",
              "      <td>1</td>\n",
              "    </tr>\n",
              "    <tr>\n",
              "      <th>7</th>\n",
              "      <td>0</td>\n",
              "      <td>0</td>\n",
              "    </tr>\n",
              "    <tr>\n",
              "      <th>8</th>\n",
              "      <td>1</td>\n",
              "      <td>1</td>\n",
              "    </tr>\n",
              "    <tr>\n",
              "      <th>9</th>\n",
              "      <td>0</td>\n",
              "      <td>0</td>\n",
              "    </tr>\n",
              "  </tbody>\n",
              "</table>\n",
              "</div>\n",
              "      <button class=\"colab-df-convert\" onclick=\"convertToInteractive('df-49e407a0-38ac-4af1-9d2c-3293b151c75c')\"\n",
              "              title=\"Convert this dataframe to an interactive table.\"\n",
              "              style=\"display:none;\">\n",
              "        \n",
              "  <svg xmlns=\"http://www.w3.org/2000/svg\" height=\"24px\"viewBox=\"0 0 24 24\"\n",
              "       width=\"24px\">\n",
              "    <path d=\"M0 0h24v24H0V0z\" fill=\"none\"/>\n",
              "    <path d=\"M18.56 5.44l.94 2.06.94-2.06 2.06-.94-2.06-.94-.94-2.06-.94 2.06-2.06.94zm-11 1L8.5 8.5l.94-2.06 2.06-.94-2.06-.94L8.5 2.5l-.94 2.06-2.06.94zm10 10l.94 2.06.94-2.06 2.06-.94-2.06-.94-.94-2.06-.94 2.06-2.06.94z\"/><path d=\"M17.41 7.96l-1.37-1.37c-.4-.4-.92-.59-1.43-.59-.52 0-1.04.2-1.43.59L10.3 9.45l-7.72 7.72c-.78.78-.78 2.05 0 2.83L4 21.41c.39.39.9.59 1.41.59.51 0 1.02-.2 1.41-.59l7.78-7.78 2.81-2.81c.8-.78.8-2.07 0-2.86zM5.41 20L4 18.59l7.72-7.72 1.47 1.35L5.41 20z\"/>\n",
              "  </svg>\n",
              "      </button>\n",
              "      \n",
              "  <style>\n",
              "    .colab-df-container {\n",
              "      display:flex;\n",
              "      flex-wrap:wrap;\n",
              "      gap: 12px;\n",
              "    }\n",
              "\n",
              "    .colab-df-convert {\n",
              "      background-color: #E8F0FE;\n",
              "      border: none;\n",
              "      border-radius: 50%;\n",
              "      cursor: pointer;\n",
              "      display: none;\n",
              "      fill: #1967D2;\n",
              "      height: 32px;\n",
              "      padding: 0 0 0 0;\n",
              "      width: 32px;\n",
              "    }\n",
              "\n",
              "    .colab-df-convert:hover {\n",
              "      background-color: #E2EBFA;\n",
              "      box-shadow: 0px 1px 2px rgba(60, 64, 67, 0.3), 0px 1px 3px 1px rgba(60, 64, 67, 0.15);\n",
              "      fill: #174EA6;\n",
              "    }\n",
              "\n",
              "    [theme=dark] .colab-df-convert {\n",
              "      background-color: #3B4455;\n",
              "      fill: #D2E3FC;\n",
              "    }\n",
              "\n",
              "    [theme=dark] .colab-df-convert:hover {\n",
              "      background-color: #434B5C;\n",
              "      box-shadow: 0px 1px 3px 1px rgba(0, 0, 0, 0.15);\n",
              "      filter: drop-shadow(0px 1px 2px rgba(0, 0, 0, 0.3));\n",
              "      fill: #FFFFFF;\n",
              "    }\n",
              "  </style>\n",
              "\n",
              "      <script>\n",
              "        const buttonEl =\n",
              "          document.querySelector('#df-49e407a0-38ac-4af1-9d2c-3293b151c75c button.colab-df-convert');\n",
              "        buttonEl.style.display =\n",
              "          google.colab.kernel.accessAllowed ? 'block' : 'none';\n",
              "\n",
              "        async function convertToInteractive(key) {\n",
              "          const element = document.querySelector('#df-49e407a0-38ac-4af1-9d2c-3293b151c75c');\n",
              "          const dataTable =\n",
              "            await google.colab.kernel.invokeFunction('convertToInteractive',\n",
              "                                                     [key], {});\n",
              "          if (!dataTable) return;\n",
              "\n",
              "          const docLinkHtml = 'Like what you see? Visit the ' +\n",
              "            '<a target=\"_blank\" href=https://colab.research.google.com/notebooks/data_table.ipynb>data table notebook</a>'\n",
              "            + ' to learn more about interactive tables.';\n",
              "          element.innerHTML = '';\n",
              "          dataTable['output_type'] = 'display_data';\n",
              "          await google.colab.output.renderOutput(dataTable, element);\n",
              "          const docLink = document.createElement('div');\n",
              "          docLink.innerHTML = docLinkHtml;\n",
              "          element.appendChild(docLink);\n",
              "        }\n",
              "      </script>\n",
              "    </div>\n",
              "  </div>\n",
              "  "
            ]
          },
          "metadata": {},
          "execution_count": 23
        }
      ]
    },
    {
      "cell_type": "code",
      "source": [
        "from sklearn.metrics import confusion_matrix, classification_report, roc_auc_score\n",
        "#print classification_report\n",
        "print(classification_report(y_test,y_pred_lis))\n",
        "# ploting the confusion metrix plot\n",
        "conf_mat = tf.math.confusion_matrix(labels=y_test,predictions=y_pred_lis)\n",
        "plt.figure(figsize = (17,7))\n",
        "sb.heatmap(conf_mat, annot=True,fmt='d')\n",
        "plt.xlabel('Predicted_number')\n",
        "plt.ylabel('True_number')\n",
        "roc_auc = roc_auc_score(y_test, y_pred_LSTM)\n",
        "print(\"ROC AUC:\")\n",
        "print(roc_auc)"
      ],
      "metadata": {
        "colab": {
          "base_uri": "https://localhost:8080/",
          "height": 742
        },
        "id": "8PahO-I5zy2y",
        "outputId": "a1c2c205-c375-478f-b3fb-f5c4e09cbb46"
      },
      "execution_count": 24,
      "outputs": [
        {
          "output_type": "stream",
          "name": "stdout",
          "text": [
            "              precision    recall  f1-score   support\n",
            "\n",
            "           0       0.73      0.73      0.73       561\n",
            "           1       0.89      0.89      0.89      1416\n",
            "\n",
            "    accuracy                           0.85      1977\n",
            "   macro avg       0.81      0.81      0.81      1977\n",
            "weighted avg       0.85      0.85      0.85      1977\n",
            "\n",
            "ROC AUC:\n",
            "0.9042575556159802\n"
          ]
        },
        {
          "output_type": "display_data",
          "data": {
            "text/plain": [
              "<Figure size 1700x700 with 2 Axes>"
            ],
            "image/png": "[encoded data removed]"
          },
          "metadata": {}
        }
      ]
    },
    {
      "cell_type": "code",
      "source": [
        "plt.plot(history.history['accuracy']) \n",
        "plt.plot(history.history['val_accuracy']) \n",
        "plt.title('LSTM model accuracy') \n",
        "plt.ylabel('accuracy')\n",
        "plt.xlabel('epoch') \n",
        "plt.legend(['train', 'test'], loc='upper left') \n",
        "plt.show()"
      ],
      "metadata": {
        "colab": {
          "base_uri": "https://localhost:8080/",
          "height": 472
        },
        "id": "6dQSFCJWz1qF",
        "outputId": "33e8d76f-09c3-4400-fbad-c8446d354f51"
      },
      "execution_count": 25,
      "outputs": [
        {
          "output_type": "display_data",
          "data": {
            "text/plain": [
              "<Figure size 640x480 with 1 Axes>"
            ],
            "image/png": "[encoded data removed]"
          },
          "metadata": {}
        }
      ]
    },
    {
      "cell_type": "markdown",
      "source": [
        "# Result"
      ],
      "metadata": {
        "id": "n_w9QGRYTgUU"
      }
    },
    {
      "cell_type": "code",
      "source": [
        "from sklearn.metrics import roc_curve, auc\n",
        "import matplotlib.pyplot as plt\n",
        "\n",
        "fpr_lstm, tpr_lstm, _ = roc_curve(y_test_lstm, y_pred_LSTM)\n",
        "roc_auc_lstm = auc(fpr_lstm, tpr_lstm)\n",
        "\n",
        "fpr_cnn, tpr_cnn, _ = roc_curve(y_test_cnn, y_pred_CNN)\n",
        "roc_auc_cnn = auc(fpr_cnn, tpr_cnn)\n",
        "\n",
        "fpr_ann, tpr_ann, _ = roc_curve(y_test_ann, y_pred_ANN)\n",
        "roc_auc_ann = auc(fpr_ann, tpr_ann)\n",
        "\n",
        "# Plot ROC curves for all models\n",
        "plt.figure(figsize=(8, 6))\n",
        "plt.plot(fpr_lstm, tpr_lstm, color='darkorange', lw=2, label='LSTM (AUC = %0.2f)' % roc_auc_lstm)\n",
        "plt.plot(fpr_cnn, tpr_cnn, color='green', lw=2, label='CNN (AUC = %0.2f)' % roc_auc_cnn)\n",
        "plt.plot(fpr_ann, tpr_ann, color='blue', lw=2, label='ANN (AUC = %0.2f)' % roc_auc_ann)\n",
        "plt.xlim([0.0, 1.0])\n",
        "plt.ylim([0.0, 1.05])\n",
        "plt.xlabel('False Positive Rate')\n",
        "plt.ylabel('True Positive Rate')\n",
        "plt.title('Receiver Operating Characteristic Curve')\n",
        "plt.legend(loc=\"lower right\")\n",
        "plt.show()"
      ],
      "metadata": {
        "colab": {
          "base_uri": "https://localhost:8080/",
          "height": 564
        },
        "id": "WWReKwGFTqfq",
        "outputId": "baf12be5-0c6c-48d1-9817-5632cae69199"
      },
      "execution_count": 58,
      "outputs": [
        {
          "output_type": "display_data",
          "data": {
            "text/plain": [
              "<Figure size 800x600 with 1 Axes>"
            ],
            "image/png": "[encoded data removed]"
          },
          "metadata": {}
        }
      ]
    }
  ],
  "metadata": {
    "colab": {
      "provenance": [],
      "toc_visible": true,
      "mount_file_id": "1kyGhRMy7oKh4_f_wzc6EWlJSbF719T4l",
      "authorship_tag": "ABX9TyPEhvZYjHVmxxM6aSw1ZkE3",
      "include_colab_link": true
    },
    "kernelspec": {
      "display_name": "Python 3",
      "name": "python3"
    },
    "language_info": {
      "name": "python"
    }
  },
  "nbformat": 4,
  "nbformat_minor": 0
}