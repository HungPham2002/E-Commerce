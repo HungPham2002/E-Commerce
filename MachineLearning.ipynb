{
  "cells": [
    {
      "cell_type": "markdown",
      "metadata": {
        "id": "view-in-github",
        "colab_type": "text"
      },
      "source": [
        "<a href=\"https://colab.research.google.com/github/HungPham2002/ECommerce-Customer-Churn-Prediction/blob/main/MachineLearning.ipynb\" target=\"_parent\"><img src=\"https://colab.research.google.com/assets/colab-badge.svg\" alt=\"Open In Colab\"/></a>"
      ]
    },
    {
      "cell_type": "markdown",
      "metadata": {
        "id": "kbSbe6pDbpMH"
      },
      "source": [
        "#SETTING UP THE ENVIRONMENT"
      ]
    },
    {
      "cell_type": "markdown",
      "metadata": {
        "id": "Q9mq9lGydxp3"
      },
      "source": [
        "## LIBRARIES"
      ]
    },
    {
      "cell_type": "code",
      "execution_count": 1,
      "metadata": {
        "id": "26xys7kDa_E5"
      },
      "outputs": [],
      "source": [
        "import numpy as np\n",
        "import pandas as pd\n",
        "import matplotlib.pyplot as plt\n",
        "# from pandas_profiling import ProfileReport as report\n",
        "%matplotlib inline\n",
        "import seaborn as sns\n",
        "import plotly\n",
        "import plotly.graph_objs as go\n",
        "import plotly.express as px\n",
        "import plotly.graph_objects as go\n",
        "from plotly import offline\n",
        "from plotly.subplots import make_subplots\n",
        "import warnings\n",
        "warnings.filterwarnings('ignore')\n",
        "import pickle\n",
        "import tensorflow as tf\n",
        "import seaborn as sb"
      ]
    },
    {
      "cell_type": "markdown",
      "metadata": {
        "id": "BjBszuDcciQa"
      },
      "source": [
        "##Model Building Libraries"
      ]
    },
    {
      "cell_type": "code",
      "execution_count": 29,
      "metadata": {
        "id": "P7XYhOJsca_C"
      },
      "outputs": [],
      "source": [
        "from sklearn.preprocessing import LabelEncoder\n",
        "from sklearn.preprocessing import StandardScaler\n",
        "from sklearn.model_selection import train_test_split\n",
        "\n",
        "from sklearn.tree import DecisionTreeClassifier\n",
        "from sklearn.ensemble import RandomForestClassifier\n",
        "from sklearn.ensemble import ExtraTreesClassifier\n",
        "from sklearn.linear_model import LogisticRegression\n",
        "\n",
        "from sklearn.metrics import accuracy_score\n",
        "from xgboost import XGBClassifier\n",
        "from sklearn import metrics\n",
        "from sklearn.metrics import roc_curve\n",
        "from sklearn.metrics import recall_score, confusion_matrix, precision_score, f1_score, accuracy_score, classification_report\n",
        "\n",
        "from sklearn.ensemble import VotingClassifier\n",
        "from sklearn.metrics import confusion_matrix, accuracy_score\n",
        "from sklearn.metrics import f1_score, precision_score, recall_score, fbeta_score\n",
        "from statsmodels.stats.outliers_influence import variance_inflation_factor\n",
        "from sklearn.model_selection import cross_val_score\n",
        "from sklearn.model_selection import GridSearchCV\n",
        "from sklearn.model_selection import ShuffleSplit\n",
        "from sklearn.model_selection import KFold\n",
        "from sklearn import feature_selection\n",
        "from sklearn import model_selection\n",
        "from sklearn import metrics\n",
        "from sklearn.metrics import classification_report, precision_recall_curve\n",
        "from sklearn.metrics import auc, roc_auc_score, roc_curve\n",
        "from sklearn.metrics import make_scorer, recall_score, log_loss\n",
        "from sklearn.metrics import average_precision_score\n",
        "from sklearn.metrics import accuracy_score, precision_score, recall_score\n",
        "from sklearn.metrics import classification_report, confusion_matrix\n",
        "#!pip install scikit-plot\n",
        "from sklearn.metrics import roc_curve, auc"
      ]
    },
    {
      "cell_type": "markdown",
      "metadata": {
        "id": "tK-JUlLiebNj"
      },
      "source": [
        "# LOADING THE DATASET"
      ]
    },
    {
      "cell_type": "code",
      "execution_count": 3,
      "metadata": {
        "id": "OOjAHM8veddD"
      },
      "outputs": [],
      "source": [
        "df = pd.read_csv('/content/drive/MyDrive/E-Commerce/dataset/telecom_customer_churn.csv')"
      ]
    },
    {
      "cell_type": "markdown",
      "metadata": {
        "id": "95ubSCJclLHq"
      },
      "source": [
        "# DATA PREPROCESSING (CLEAN DATA)"
      ]
    },
    {
      "cell_type": "code",
      "execution_count": 4,
      "metadata": {
        "id": "JYfl022NlRfC",
        "colab": {
          "base_uri": "https://localhost:8080/",
          "height": 287
        },
        "outputId": "072fbbb5-b0ca-4a42-f751-b1fcb38f9829"
      },
      "outputs": [
        {
          "output_type": "error",
          "ename": "AttributeError",
          "evalue": "ignored",
          "traceback": [
            "\u001b[0;31m---------------------------------------------------------------------------\u001b[0m",
            "\u001b[0;31mAttributeError\u001b[0m                            Traceback (most recent call last)",
            "\u001b[0;32m<ipython-input-4-f9a7584e785c>\u001b[0m in \u001b[0;36m<cell line: 1>\u001b[0;34m()\u001b[0m\n\u001b[0;32m----> 1\u001b[0;31m \u001b[0mdf\u001b[0m\u001b[0;34m.\u001b[0m\u001b[0mprofile_report\u001b[0m\u001b[0;34m(\u001b[0m\u001b[0;34m)\u001b[0m\u001b[0;34m\u001b[0m\u001b[0;34m\u001b[0m\u001b[0m\n\u001b[0m",
            "\u001b[0;32m/usr/local/lib/python3.10/dist-packages/pandas/core/generic.py\u001b[0m in \u001b[0;36m__getattr__\u001b[0;34m(self, name)\u001b[0m\n\u001b[1;32m   5900\u001b[0m         ):\n\u001b[1;32m   5901\u001b[0m             \u001b[0;32mreturn\u001b[0m \u001b[0mself\u001b[0m\u001b[0;34m[\u001b[0m\u001b[0mname\u001b[0m\u001b[0;34m]\u001b[0m\u001b[0;34m\u001b[0m\u001b[0;34m\u001b[0m\u001b[0m\n\u001b[0;32m-> 5902\u001b[0;31m         \u001b[0;32mreturn\u001b[0m \u001b[0mobject\u001b[0m\u001b[0;34m.\u001b[0m\u001b[0m__getattribute__\u001b[0m\u001b[0;34m(\u001b[0m\u001b[0mself\u001b[0m\u001b[0;34m,\u001b[0m \u001b[0mname\u001b[0m\u001b[0;34m)\u001b[0m\u001b[0;34m\u001b[0m\u001b[0;34m\u001b[0m\u001b[0m\n\u001b[0m\u001b[1;32m   5903\u001b[0m \u001b[0;34m\u001b[0m\u001b[0m\n\u001b[1;32m   5904\u001b[0m     \u001b[0;32mdef\u001b[0m \u001b[0m__setattr__\u001b[0m\u001b[0;34m(\u001b[0m\u001b[0mself\u001b[0m\u001b[0;34m,\u001b[0m \u001b[0mname\u001b[0m\u001b[0;34m:\u001b[0m \u001b[0mstr\u001b[0m\u001b[0;34m,\u001b[0m \u001b[0mvalue\u001b[0m\u001b[0;34m)\u001b[0m \u001b[0;34m->\u001b[0m \u001b[0;32mNone\u001b[0m\u001b[0;34m:\u001b[0m\u001b[0;34m\u001b[0m\u001b[0;34m\u001b[0m\u001b[0m\n",
            "\u001b[0;31mAttributeError\u001b[0m: 'DataFrame' object has no attribute 'profile_report'"
          ]
        }
      ],
      "source": [
        "df.profile_report()"
      ]
    },
    {
      "cell_type": "code",
      "execution_count": 5,
      "metadata": {
        "id": "QQofVy_n8YQV"
      },
      "outputs": [],
      "source": [
        "# Dealing with nulls\n",
        "df.columns=df.columns.str.replace(\" \",\"\").str.lower()\n",
        "df.avgmonthlylongdistancecharges=df.avgmonthlylongdistancecharges.fillna(0.0)\n",
        "df.multiplelines=df.multiplelines.fillna('no phone service')\n",
        "no_internet=['internettype','onlinesecurity','onlinebackup','deviceprotectionplan','premiumtechsupport','streamingtv',\n",
        "             'streamingmovies','streamingmusic','unlimiteddata']\n",
        "df[no_internet]=df[no_internet].fillna('no internet service')\n",
        "df.avgmonthlygbdownload=df.avgmonthlygbdownload.fillna(0)\n",
        "###\n",
        "# Since the company provides two main services, i.e., Phone Service and Internet Service, it is not necessary for every customer to avail of both services.\n",
        "# This can result in null values in the dataset when customers do not use a particular service.\n",
        "# replaced the null values in features related to phone service with \"No phone service\" for customers who only use internet services.\n",
        "# Similarly, for features related to internet services, null values were replaced with \"No internet service\" for customers who only use phone services.\n",
        "# Replacing null values helps increase the completeness of the dataset and makes it easier to analyze and process the data."
      ]
    },
    {
      "cell_type": "code",
      "execution_count": 6,
      "metadata": {
        "id": "kIX3PKUWA0wD"
      },
      "outputs": [],
      "source": [
        "# Droping features that are of no importance for the my objective, I have dropped geographical features after finding no correlation with other features,\n",
        "# and also the columns like churn category and churn reason are out of the scope of machine learning model\n",
        "df=df.drop(columns=['customerid','churncategory','churnreason','totalrefunds','zipcode','longitude','latitude','city'])"
      ]
    },
    {
      "cell_type": "code",
      "execution_count": 7,
      "metadata": {
        "colab": {
          "base_uri": "https://localhost:8080/"
        },
        "id": "00HjRbLVCpOx",
        "outputId": "ec494089-0a70-45c8-e5f7-5befe07f959b"
      },
      "outputs": [
        {
          "output_type": "execute_result",
          "data": {
            "text/plain": [
              "(7043, 30)"
            ]
          },
          "metadata": {},
          "execution_count": 7
        }
      ],
      "source": [
        "df.shape"
      ]
    },
    {
      "cell_type": "code",
      "execution_count": 8,
      "metadata": {
        "colab": {
          "base_uri": "https://localhost:8080/"
        },
        "id": "TmqebBYjCrgO",
        "outputId": "b3625583-a44e-4219-87ef-418d92628fad"
      },
      "outputs": [
        {
          "output_type": "execute_result",
          "data": {
            "text/plain": [
              "gender                           0\n",
              "age                              0\n",
              "married                          0\n",
              "numberofdependents               0\n",
              "numberofreferrals                0\n",
              "tenureinmonths                   0\n",
              "offer                            0\n",
              "phoneservice                     0\n",
              "avgmonthlylongdistancecharges    0\n",
              "multiplelines                    0\n",
              "internetservice                  0\n",
              "internettype                     0\n",
              "avgmonthlygbdownload             0\n",
              "onlinesecurity                   0\n",
              "onlinebackup                     0\n",
              "deviceprotectionplan             0\n",
              "premiumtechsupport               0\n",
              "streamingtv                      0\n",
              "streamingmovies                  0\n",
              "streamingmusic                   0\n",
              "unlimiteddata                    0\n",
              "contract                         0\n",
              "paperlessbilling                 0\n",
              "paymentmethod                    0\n",
              "monthlycharge                    0\n",
              "totalcharges                     0\n",
              "totalextradatacharges            0\n",
              "totallongdistancecharges         0\n",
              "totalrevenue                     0\n",
              "customerstatus                   0\n",
              "dtype: int64"
            ]
          },
          "metadata": {},
          "execution_count": 8
        }
      ],
      "source": [
        "df.isnull().sum()"
      ]
    },
    {
      "cell_type": "code",
      "execution_count": 9,
      "metadata": {
        "id": "-qrmiZuADl_j"
      },
      "outputs": [],
      "source": [
        "# To avoid the biasness in the predictions i have dropped the customers information that joined the company recently\n",
        "df=df.loc[~df.customerstatus.str.contains('Join')]\n",
        "df.reset_index(drop=True,inplace=True)"
      ]
    },
    {
      "cell_type": "code",
      "execution_count": 10,
      "metadata": {
        "colab": {
          "base_uri": "https://localhost:8080/"
        },
        "id": "2Cv6GBq4Es4X",
        "outputId": "f082cf4b-1b5e-4109-c8c7-69c182202854"
      },
      "outputs": [
        {
          "output_type": "execute_result",
          "data": {
            "text/plain": [
              "(6589, 30)"
            ]
          },
          "metadata": {},
          "execution_count": 10
        }
      ],
      "source": [
        "df.shape"
      ]
    },
    {
      "cell_type": "markdown",
      "metadata": {
        "id": "FCjZbm0IQ1Rd"
      },
      "source": [
        "## Feature Transformation and Feature Scaling"
      ]
    },
    {
      "cell_type": "code",
      "execution_count": null,
      "metadata": {
        "id": "QdJQ23MuQ-ZN"
      },
      "outputs": [],
      "source": [
        "# Features having two uniques were replaced by 1 and 0 (yes/no,...).\n",
        "# Features having more than two uniques were encoded using label encoder\n",
        "# Continous features were standarized using sk-learn scaler method"
      ]
    },
    {
      "cell_type": "code",
      "execution_count": 11,
      "metadata": {
        "colab": {
          "base_uri": "https://localhost:8080/"
        },
        "id": "vqXm3LiKR_8m",
        "outputId": "1918287d-8bf5-48aa-b967-957f27bb9a83"
      },
      "outputs": [
        {
          "output_type": "stream",
          "name": "stdout",
          "text": [
            "5 columns were label encoded.\n"
          ]
        }
      ],
      "source": [
        "#Create a label encoder object\n",
        "le = LabelEncoder()\n",
        "# Label Encoding will be used for columns with 2 or less unique\n",
        "\n",
        "le_count = 0\n",
        "for col in df.columns[1:]:\n",
        "    if df[col].dtype == 'object':\n",
        "        if len(list(df[col].unique())) <= 2:\n",
        "            le.fit(df[col])\n",
        "            df[col] = le.transform(df[col])\n",
        "            le_count += 1\n",
        "print('{} columns were label encoded.'.format(le_count))"
      ]
    },
    {
      "cell_type": "code",
      "execution_count": 12,
      "metadata": {
        "id": "YAAV7UB-SFoL"
      },
      "outputs": [],
      "source": [
        "df['gender'] = [1 if each == 'Female' else 0 for each in df['gender']]"
      ]
    },
    {
      "cell_type": "code",
      "execution_count": 13,
      "metadata": {
        "colab": {
          "base_uri": "https://localhost:8080/",
          "height": 369
        },
        "id": "JR0hoOaPSImz",
        "outputId": "10520375-9465-4759-d35b-b93e608817de"
      },
      "outputs": [
        {
          "output_type": "execute_result",
          "data": {
            "text/plain": [
              "   gender  age  married  numberofdependents  numberofreferrals  \\\n",
              "0       1   37        1                   0                  2   \n",
              "1       0   46        0                   0                  0   \n",
              "2       0   50        0                   0                  0   \n",
              "3       0   78        1                   0                  1   \n",
              "4       1   75        1                   0                  3   \n",
              "\n",
              "   tenureinmonths    offer  phoneservice  avgmonthlylongdistancecharges  \\\n",
              "0               9     None             1                          42.39   \n",
              "1               9     None             1                          10.69   \n",
              "2               4  Offer E             1                          33.65   \n",
              "3              13  Offer D             1                          27.82   \n",
              "4               3     None             1                           7.38   \n",
              "\n",
              "  multiplelines  ...  unlimiteddata        contract  paperlessbilling  \\\n",
              "0            No  ...            Yes        One Year                 1   \n",
              "1           Yes  ...             No  Month-to-Month                 0   \n",
              "2            No  ...            Yes  Month-to-Month                 1   \n",
              "3            No  ...            Yes  Month-to-Month                 1   \n",
              "4            No  ...            Yes  Month-to-Month                 1   \n",
              "\n",
              "     paymentmethod monthlycharge totalcharges totalextradatacharges  \\\n",
              "0      Credit Card          65.6       593.30                     0   \n",
              "1      Credit Card          -4.0       542.40                    10   \n",
              "2  Bank Withdrawal          73.9       280.85                     0   \n",
              "3  Bank Withdrawal          98.0      1237.85                     0   \n",
              "4      Credit Card          83.9       267.40                     0   \n",
              "\n",
              "  totallongdistancecharges totalrevenue customerstatus  \n",
              "0                   381.51       974.81              1  \n",
              "1                    96.21       610.28              1  \n",
              "2                   134.60       415.45              0  \n",
              "3                   361.66      1599.51              0  \n",
              "4                    22.14       289.54              0  \n",
              "\n",
              "[5 rows x 30 columns]"
            ],
            "text/html": [
              "\n",
              "\n",
              "  <div id=\"df-c2075630-afb4-486f-a0e9-db9ebecbf144\">\n",
              "    <div class=\"colab-df-container\">\n",
              "      <div>\n",
              "<style scoped>\n",
              "    .dataframe tbody tr th:only-of-type {\n",
              "        vertical-align: middle;\n",
              "    }\n",
              "\n",
              "    .dataframe tbody tr th {\n",
              "        vertical-align: top;\n",
              "    }\n",
              "\n",
              "    .dataframe thead th {\n",
              "        text-align: right;\n",
              "    }\n",
              "</style>\n",
              "<table border=\"1\" class=\"dataframe\">\n",
              "  <thead>\n",
              "    <tr style=\"text-align: right;\">\n",
              "      <th></th>\n",
              "      <th>gender</th>\n",
              "      <th>age</th>\n",
              "      <th>married</th>\n",
              "      <th>numberofdependents</th>\n",
              "      <th>numberofreferrals</th>\n",
              "      <th>tenureinmonths</th>\n",
              "      <th>offer</th>\n",
              "      <th>phoneservice</th>\n",
              "      <th>avgmonthlylongdistancecharges</th>\n",
              "      <th>multiplelines</th>\n",
              "      <th>...</th>\n",
              "      <th>unlimiteddata</th>\n",
              "      <th>contract</th>\n",
              "      <th>paperlessbilling</th>\n",
              "      <th>paymentmethod</th>\n",
              "      <th>monthlycharge</th>\n",
              "      <th>totalcharges</th>\n",
              "      <th>totalextradatacharges</th>\n",
              "      <th>totallongdistancecharges</th>\n",
              "      <th>totalrevenue</th>\n",
              "      <th>customerstatus</th>\n",
              "    </tr>\n",
              "  </thead>\n",
              "  <tbody>\n",
              "    <tr>\n",
              "      <th>0</th>\n",
              "      <td>1</td>\n",
              "      <td>37</td>\n",
              "      <td>1</td>\n",
              "      <td>0</td>\n",
              "      <td>2</td>\n",
              "      <td>9</td>\n",
              "      <td>None</td>\n",
              "      <td>1</td>\n",
              "      <td>42.39</td>\n",
              "      <td>No</td>\n",
              "      <td>...</td>\n",
              "      <td>Yes</td>\n",
              "      <td>One Year</td>\n",
              "      <td>1</td>\n",
              "      <td>Credit Card</td>\n",
              "      <td>65.6</td>\n",
              "      <td>593.30</td>\n",
              "      <td>0</td>\n",
              "      <td>381.51</td>\n",
              "      <td>974.81</td>\n",
              "      <td>1</td>\n",
              "    </tr>\n",
              "    <tr>\n",
              "      <th>1</th>\n",
              "      <td>0</td>\n",
              "      <td>46</td>\n",
              "      <td>0</td>\n",
              "      <td>0</td>\n",
              "      <td>0</td>\n",
              "      <td>9</td>\n",
              "      <td>None</td>\n",
              "      <td>1</td>\n",
              "      <td>10.69</td>\n",
              "      <td>Yes</td>\n",
              "      <td>...</td>\n",
              "      <td>No</td>\n",
              "      <td>Month-to-Month</td>\n",
              "      <td>0</td>\n",
              "      <td>Credit Card</td>\n",
              "      <td>-4.0</td>\n",
              "      <td>542.40</td>\n",
              "      <td>10</td>\n",
              "      <td>96.21</td>\n",
              "      <td>610.28</td>\n",
              "      <td>1</td>\n",
              "    </tr>\n",
              "    <tr>\n",
              "      <th>2</th>\n",
              "      <td>0</td>\n",
              "      <td>50</td>\n",
              "      <td>0</td>\n",
              "      <td>0</td>\n",
              "      <td>0</td>\n",
              "      <td>4</td>\n",
              "      <td>Offer E</td>\n",
              "      <td>1</td>\n",
              "      <td>33.65</td>\n",
              "      <td>No</td>\n",
              "      <td>...</td>\n",
              "      <td>Yes</td>\n",
              "      <td>Month-to-Month</td>\n",
              "      <td>1</td>\n",
              "      <td>Bank Withdrawal</td>\n",
              "      <td>73.9</td>\n",
              "      <td>280.85</td>\n",
              "      <td>0</td>\n",
              "      <td>134.60</td>\n",
              "      <td>415.45</td>\n",
              "      <td>0</td>\n",
              "    </tr>\n",
              "    <tr>\n",
              "      <th>3</th>\n",
              "      <td>0</td>\n",
              "      <td>78</td>\n",
              "      <td>1</td>\n",
              "      <td>0</td>\n",
              "      <td>1</td>\n",
              "      <td>13</td>\n",
              "      <td>Offer D</td>\n",
              "      <td>1</td>\n",
              "      <td>27.82</td>\n",
              "      <td>No</td>\n",
              "      <td>...</td>\n",
              "      <td>Yes</td>\n",
              "      <td>Month-to-Month</td>\n",
              "      <td>1</td>\n",
              "      <td>Bank Withdrawal</td>\n",
              "      <td>98.0</td>\n",
              "      <td>1237.85</td>\n",
              "      <td>0</td>\n",
              "      <td>361.66</td>\n",
              "      <td>1599.51</td>\n",
              "      <td>0</td>\n",
              "    </tr>\n",
              "    <tr>\n",
              "      <th>4</th>\n",
              "      <td>1</td>\n",
              "      <td>75</td>\n",
              "      <td>1</td>\n",
              "      <td>0</td>\n",
              "      <td>3</td>\n",
              "      <td>3</td>\n",
              "      <td>None</td>\n",
              "      <td>1</td>\n",
              "      <td>7.38</td>\n",
              "      <td>No</td>\n",
              "      <td>...</td>\n",
              "      <td>Yes</td>\n",
              "      <td>Month-to-Month</td>\n",
              "      <td>1</td>\n",
              "      <td>Credit Card</td>\n",
              "      <td>83.9</td>\n",
              "      <td>267.40</td>\n",
              "      <td>0</td>\n",
              "      <td>22.14</td>\n",
              "      <td>289.54</td>\n",
              "      <td>0</td>\n",
              "    </tr>\n",
              "  </tbody>\n",
              "</table>\n",
              "<p>5 rows × 30 columns</p>\n",
              "</div>\n",
              "      <button class=\"colab-df-convert\" onclick=\"convertToInteractive('df-c2075630-afb4-486f-a0e9-db9ebecbf144')\"\n",
              "              title=\"Convert this dataframe to an interactive table.\"\n",
              "              style=\"display:none;\">\n",
              "\n",
              "  <svg xmlns=\"http://www.w3.org/2000/svg\" height=\"24px\"viewBox=\"0 0 24 24\"\n",
              "       width=\"24px\">\n",
              "    <path d=\"M0 0h24v24H0V0z\" fill=\"none\"/>\n",
              "    <path d=\"M18.56 5.44l.94 2.06.94-2.06 2.06-.94-2.06-.94-.94-2.06-.94 2.06-2.06.94zm-11 1L8.5 8.5l.94-2.06 2.06-.94-2.06-.94L8.5 2.5l-.94 2.06-2.06.94zm10 10l.94 2.06.94-2.06 2.06-.94-2.06-.94-.94-2.06-.94 2.06-2.06.94z\"/><path d=\"M17.41 7.96l-1.37-1.37c-.4-.4-.92-.59-1.43-.59-.52 0-1.04.2-1.43.59L10.3 9.45l-7.72 7.72c-.78.78-.78 2.05 0 2.83L4 21.41c.39.39.9.59 1.41.59.51 0 1.02-.2 1.41-.59l7.78-7.78 2.81-2.81c.8-.78.8-2.07 0-2.86zM5.41 20L4 18.59l7.72-7.72 1.47 1.35L5.41 20z\"/>\n",
              "  </svg>\n",
              "      </button>\n",
              "\n",
              "\n",
              "\n",
              "    <div id=\"df-87f4368e-25ea-4dfe-a9d1-d5b6ba21dd85\">\n",
              "      <button class=\"colab-df-quickchart\" onclick=\"quickchart('df-87f4368e-25ea-4dfe-a9d1-d5b6ba21dd85')\"\n",
              "              title=\"Suggest charts.\"\n",
              "              style=\"display:none;\">\n",
              "\n",
              "<svg xmlns=\"http://www.w3.org/2000/svg\" height=\"24px\"viewBox=\"0 0 24 24\"\n",
              "     width=\"24px\">\n",
              "    <g>\n",
              "        <path d=\"M19 3H5c-1.1 0-2 .9-2 2v14c0 1.1.9 2 2 2h14c1.1 0 2-.9 2-2V5c0-1.1-.9-2-2-2zM9 17H7v-7h2v7zm4 0h-2V7h2v10zm4 0h-2v-4h2v4z\"/>\n",
              "    </g>\n",
              "</svg>\n",
              "      </button>\n",
              "    </div>\n",
              "\n",
              "<style>\n",
              "  .colab-df-quickchart {\n",
              "    background-color: #E8F0FE;\n",
              "    border: none;\n",
              "    border-radius: 50%;\n",
              "    cursor: pointer;\n",
              "    display: none;\n",
              "    fill: #1967D2;\n",
              "    height: 32px;\n",
              "    padding: 0 0 0 0;\n",
              "    width: 32px;\n",
              "  }\n",
              "\n",
              "  .colab-df-quickchart:hover {\n",
              "    background-color: #E2EBFA;\n",
              "    box-shadow: 0px 1px 2px rgba(60, 64, 67, 0.3), 0px 1px 3px 1px rgba(60, 64, 67, 0.15);\n",
              "    fill: #174EA6;\n",
              "  }\n",
              "\n",
              "  [theme=dark] .colab-df-quickchart {\n",
              "    background-color: #3B4455;\n",
              "    fill: #D2E3FC;\n",
              "  }\n",
              "\n",
              "  [theme=dark] .colab-df-quickchart:hover {\n",
              "    background-color: #434B5C;\n",
              "    box-shadow: 0px 1px 3px 1px rgba(0, 0, 0, 0.15);\n",
              "    filter: drop-shadow(0px 1px 2px rgba(0, 0, 0, 0.3));\n",
              "    fill: #FFFFFF;\n",
              "  }\n",
              "</style>\n",
              "\n",
              "    <script>\n",
              "      async function quickchart(key) {\n",
              "        const containerElement = document.querySelector('#' + key);\n",
              "        const charts = await google.colab.kernel.invokeFunction(\n",
              "            'suggestCharts', [key], {});\n",
              "      }\n",
              "    </script>\n",
              "\n",
              "      <script>\n",
              "\n",
              "function displayQuickchartButton(domScope) {\n",
              "  let quickchartButtonEl =\n",
              "    domScope.querySelector('#df-87f4368e-25ea-4dfe-a9d1-d5b6ba21dd85 button.colab-df-quickchart');\n",
              "  quickchartButtonEl.style.display =\n",
              "    google.colab.kernel.accessAllowed ? 'block' : 'none';\n",
              "}\n",
              "\n",
              "        displayQuickchartButton(document);\n",
              "      </script>\n",
              "      <style>\n",
              "    .colab-df-container {\n",
              "      display:flex;\n",
              "      flex-wrap:wrap;\n",
              "      gap: 12px;\n",
              "    }\n",
              "\n",
              "    .colab-df-convert {\n",
              "      background-color: #E8F0FE;\n",
              "      border: none;\n",
              "      border-radius: 50%;\n",
              "      cursor: pointer;\n",
              "      display: none;\n",
              "      fill: #1967D2;\n",
              "      height: 32px;\n",
              "      padding: 0 0 0 0;\n",
              "      width: 32px;\n",
              "    }\n",
              "\n",
              "    .colab-df-convert:hover {\n",
              "      background-color: #E2EBFA;\n",
              "      box-shadow: 0px 1px 2px rgba(60, 64, 67, 0.3), 0px 1px 3px 1px rgba(60, 64, 67, 0.15);\n",
              "      fill: #174EA6;\n",
              "    }\n",
              "\n",
              "    [theme=dark] .colab-df-convert {\n",
              "      background-color: #3B4455;\n",
              "      fill: #D2E3FC;\n",
              "    }\n",
              "\n",
              "    [theme=dark] .colab-df-convert:hover {\n",
              "      background-color: #434B5C;\n",
              "      box-shadow: 0px 1px 3px 1px rgba(0, 0, 0, 0.15);\n",
              "      filter: drop-shadow(0px 1px 2px rgba(0, 0, 0, 0.3));\n",
              "      fill: #FFFFFF;\n",
              "    }\n",
              "  </style>\n",
              "\n",
              "      <script>\n",
              "        const buttonEl =\n",
              "          document.querySelector('#df-c2075630-afb4-486f-a0e9-db9ebecbf144 button.colab-df-convert');\n",
              "        buttonEl.style.display =\n",
              "          google.colab.kernel.accessAllowed ? 'block' : 'none';\n",
              "\n",
              "        async function convertToInteractive(key) {\n",
              "          const element = document.querySelector('#df-c2075630-afb4-486f-a0e9-db9ebecbf144');\n",
              "          const dataTable =\n",
              "            await google.colab.kernel.invokeFunction('convertToInteractive',\n",
              "                                                     [key], {});\n",
              "          if (!dataTable) return;\n",
              "\n",
              "          const docLinkHtml = 'Like what you see? Visit the ' +\n",
              "            '<a target=\"_blank\" href=https://colab.research.google.com/notebooks/data_table.ipynb>data table notebook</a>'\n",
              "            + ' to learn more about interactive tables.';\n",
              "          element.innerHTML = '';\n",
              "          dataTable['output_type'] = 'display_data';\n",
              "          await google.colab.output.renderOutput(dataTable, element);\n",
              "          const docLink = document.createElement('div');\n",
              "          docLink.innerHTML = docLinkHtml;\n",
              "          element.appendChild(docLink);\n",
              "        }\n",
              "      </script>\n",
              "    </div>\n",
              "  </div>\n"
            ]
          },
          "metadata": {},
          "execution_count": 13
        }
      ],
      "source": [
        "df.head()"
      ]
    },
    {
      "cell_type": "code",
      "execution_count": 14,
      "metadata": {
        "colab": {
          "base_uri": "https://localhost:8080/",
          "height": 299
        },
        "id": "s0ieWUHqTDxT",
        "outputId": "3e7881ba-9c39-4afe-9d10-532a9319a83e"
      },
      "outputs": [
        {
          "output_type": "execute_result",
          "data": {
            "text/plain": [
              "   gender  age  married  numberofdependents  numberofreferrals  \\\n",
              "0       1   37        1                   0                  2   \n",
              "1       0   46        0                   0                  0   \n",
              "2       0   50        0                   0                  0   \n",
              "3       0   78        1                   0                  1   \n",
              "4       1   75        1                   0                  3   \n",
              "\n",
              "   tenureinmonths  offer  phoneservice  avgmonthlylongdistancecharges  \\\n",
              "0               9      0             1                          42.39   \n",
              "1               9      0             1                          10.69   \n",
              "2               4      5             1                          33.65   \n",
              "3              13      4             1                          27.82   \n",
              "4               3      0             1                           7.38   \n",
              "\n",
              "   multiplelines  ...  unlimiteddata  contract  paperlessbilling  \\\n",
              "0              0  ...              1         1                 1   \n",
              "1              1  ...              0         0                 0   \n",
              "2              0  ...              1         0                 1   \n",
              "3              0  ...              1         0                 1   \n",
              "4              0  ...              1         0                 1   \n",
              "\n",
              "   paymentmethod  monthlycharge  totalcharges  totalextradatacharges  \\\n",
              "0              1           65.6        593.30                      0   \n",
              "1              1           -4.0        542.40                     10   \n",
              "2              0           73.9        280.85                      0   \n",
              "3              0           98.0       1237.85                      0   \n",
              "4              1           83.9        267.40                      0   \n",
              "\n",
              "   totallongdistancecharges  totalrevenue  customerstatus  \n",
              "0                    381.51        974.81               1  \n",
              "1                     96.21        610.28               1  \n",
              "2                    134.60        415.45               0  \n",
              "3                    361.66       1599.51               0  \n",
              "4                     22.14        289.54               0  \n",
              "\n",
              "[5 rows x 30 columns]"
            ],
            "text/html": [
              "\n",
              "\n",
              "  <div id=\"df-e785dbb0-4930-41c9-a7d0-325e605644ad\">\n",
              "    <div class=\"colab-df-container\">\n",
              "      <div>\n",
              "<style scoped>\n",
              "    .dataframe tbody tr th:only-of-type {\n",
              "        vertical-align: middle;\n",
              "    }\n",
              "\n",
              "    .dataframe tbody tr th {\n",
              "        vertical-align: top;\n",
              "    }\n",
              "\n",
              "    .dataframe thead th {\n",
              "        text-align: right;\n",
              "    }\n",
              "</style>\n",
              "<table border=\"1\" class=\"dataframe\">\n",
              "  <thead>\n",
              "    <tr style=\"text-align: right;\">\n",
              "      <th></th>\n",
              "      <th>gender</th>\n",
              "      <th>age</th>\n",
              "      <th>married</th>\n",
              "      <th>numberofdependents</th>\n",
              "      <th>numberofreferrals</th>\n",
              "      <th>tenureinmonths</th>\n",
              "      <th>offer</th>\n",
              "      <th>phoneservice</th>\n",
              "      <th>avgmonthlylongdistancecharges</th>\n",
              "      <th>multiplelines</th>\n",
              "      <th>...</th>\n",
              "      <th>unlimiteddata</th>\n",
              "      <th>contract</th>\n",
              "      <th>paperlessbilling</th>\n",
              "      <th>paymentmethod</th>\n",
              "      <th>monthlycharge</th>\n",
              "      <th>totalcharges</th>\n",
              "      <th>totalextradatacharges</th>\n",
              "      <th>totallongdistancecharges</th>\n",
              "      <th>totalrevenue</th>\n",
              "      <th>customerstatus</th>\n",
              "    </tr>\n",
              "  </thead>\n",
              "  <tbody>\n",
              "    <tr>\n",
              "      <th>0</th>\n",
              "      <td>1</td>\n",
              "      <td>37</td>\n",
              "      <td>1</td>\n",
              "      <td>0</td>\n",
              "      <td>2</td>\n",
              "      <td>9</td>\n",
              "      <td>0</td>\n",
              "      <td>1</td>\n",
              "      <td>42.39</td>\n",
              "      <td>0</td>\n",
              "      <td>...</td>\n",
              "      <td>1</td>\n",
              "      <td>1</td>\n",
              "      <td>1</td>\n",
              "      <td>1</td>\n",
              "      <td>65.6</td>\n",
              "      <td>593.30</td>\n",
              "      <td>0</td>\n",
              "      <td>381.51</td>\n",
              "      <td>974.81</td>\n",
              "      <td>1</td>\n",
              "    </tr>\n",
              "    <tr>\n",
              "      <th>1</th>\n",
              "      <td>0</td>\n",
              "      <td>46</td>\n",
              "      <td>0</td>\n",
              "      <td>0</td>\n",
              "      <td>0</td>\n",
              "      <td>9</td>\n",
              "      <td>0</td>\n",
              "      <td>1</td>\n",
              "      <td>10.69</td>\n",
              "      <td>1</td>\n",
              "      <td>...</td>\n",
              "      <td>0</td>\n",
              "      <td>0</td>\n",
              "      <td>0</td>\n",
              "      <td>1</td>\n",
              "      <td>-4.0</td>\n",
              "      <td>542.40</td>\n",
              "      <td>10</td>\n",
              "      <td>96.21</td>\n",
              "      <td>610.28</td>\n",
              "      <td>1</td>\n",
              "    </tr>\n",
              "    <tr>\n",
              "      <th>2</th>\n",
              "      <td>0</td>\n",
              "      <td>50</td>\n",
              "      <td>0</td>\n",
              "      <td>0</td>\n",
              "      <td>0</td>\n",
              "      <td>4</td>\n",
              "      <td>5</td>\n",
              "      <td>1</td>\n",
              "      <td>33.65</td>\n",
              "      <td>0</td>\n",
              "      <td>...</td>\n",
              "      <td>1</td>\n",
              "      <td>0</td>\n",
              "      <td>1</td>\n",
              "      <td>0</td>\n",
              "      <td>73.9</td>\n",
              "      <td>280.85</td>\n",
              "      <td>0</td>\n",
              "      <td>134.60</td>\n",
              "      <td>415.45</td>\n",
              "      <td>0</td>\n",
              "    </tr>\n",
              "    <tr>\n",
              "      <th>3</th>\n",
              "      <td>0</td>\n",
              "      <td>78</td>\n",
              "      <td>1</td>\n",
              "      <td>0</td>\n",
              "      <td>1</td>\n",
              "      <td>13</td>\n",
              "      <td>4</td>\n",
              "      <td>1</td>\n",
              "      <td>27.82</td>\n",
              "      <td>0</td>\n",
              "      <td>...</td>\n",
              "      <td>1</td>\n",
              "      <td>0</td>\n",
              "      <td>1</td>\n",
              "      <td>0</td>\n",
              "      <td>98.0</td>\n",
              "      <td>1237.85</td>\n",
              "      <td>0</td>\n",
              "      <td>361.66</td>\n",
              "      <td>1599.51</td>\n",
              "      <td>0</td>\n",
              "    </tr>\n",
              "    <tr>\n",
              "      <th>4</th>\n",
              "      <td>1</td>\n",
              "      <td>75</td>\n",
              "      <td>1</td>\n",
              "      <td>0</td>\n",
              "      <td>3</td>\n",
              "      <td>3</td>\n",
              "      <td>0</td>\n",
              "      <td>1</td>\n",
              "      <td>7.38</td>\n",
              "      <td>0</td>\n",
              "      <td>...</td>\n",
              "      <td>1</td>\n",
              "      <td>0</td>\n",
              "      <td>1</td>\n",
              "      <td>1</td>\n",
              "      <td>83.9</td>\n",
              "      <td>267.40</td>\n",
              "      <td>0</td>\n",
              "      <td>22.14</td>\n",
              "      <td>289.54</td>\n",
              "      <td>0</td>\n",
              "    </tr>\n",
              "  </tbody>\n",
              "</table>\n",
              "<p>5 rows × 30 columns</p>\n",
              "</div>\n",
              "      <button class=\"colab-df-convert\" onclick=\"convertToInteractive('df-e785dbb0-4930-41c9-a7d0-325e605644ad')\"\n",
              "              title=\"Convert this dataframe to an interactive table.\"\n",
              "              style=\"display:none;\">\n",
              "\n",
              "  <svg xmlns=\"http://www.w3.org/2000/svg\" height=\"24px\"viewBox=\"0 0 24 24\"\n",
              "       width=\"24px\">\n",
              "    <path d=\"M0 0h24v24H0V0z\" fill=\"none\"/>\n",
              "    <path d=\"M18.56 5.44l.94 2.06.94-2.06 2.06-.94-2.06-.94-.94-2.06-.94 2.06-2.06.94zm-11 1L8.5 8.5l.94-2.06 2.06-.94-2.06-.94L8.5 2.5l-.94 2.06-2.06.94zm10 10l.94 2.06.94-2.06 2.06-.94-2.06-.94-.94-2.06-.94 2.06-2.06.94z\"/><path d=\"M17.41 7.96l-1.37-1.37c-.4-.4-.92-.59-1.43-.59-.52 0-1.04.2-1.43.59L10.3 9.45l-7.72 7.72c-.78.78-.78 2.05 0 2.83L4 21.41c.39.39.9.59 1.41.59.51 0 1.02-.2 1.41-.59l7.78-7.78 2.81-2.81c.8-.78.8-2.07 0-2.86zM5.41 20L4 18.59l7.72-7.72 1.47 1.35L5.41 20z\"/>\n",
              "  </svg>\n",
              "      </button>\n",
              "\n",
              "\n",
              "\n",
              "    <div id=\"df-6ee149de-8b02-40df-8a12-918443612ee1\">\n",
              "      <button class=\"colab-df-quickchart\" onclick=\"quickchart('df-6ee149de-8b02-40df-8a12-918443612ee1')\"\n",
              "              title=\"Suggest charts.\"\n",
              "              style=\"display:none;\">\n",
              "\n",
              "<svg xmlns=\"http://www.w3.org/2000/svg\" height=\"24px\"viewBox=\"0 0 24 24\"\n",
              "     width=\"24px\">\n",
              "    <g>\n",
              "        <path d=\"M19 3H5c-1.1 0-2 .9-2 2v14c0 1.1.9 2 2 2h14c1.1 0 2-.9 2-2V5c0-1.1-.9-2-2-2zM9 17H7v-7h2v7zm4 0h-2V7h2v10zm4 0h-2v-4h2v4z\"/>\n",
              "    </g>\n",
              "</svg>\n",
              "      </button>\n",
              "    </div>\n",
              "\n",
              "<style>\n",
              "  .colab-df-quickchart {\n",
              "    background-color: #E8F0FE;\n",
              "    border: none;\n",
              "    border-radius: 50%;\n",
              "    cursor: pointer;\n",
              "    display: none;\n",
              "    fill: #1967D2;\n",
              "    height: 32px;\n",
              "    padding: 0 0 0 0;\n",
              "    width: 32px;\n",
              "  }\n",
              "\n",
              "  .colab-df-quickchart:hover {\n",
              "    background-color: #E2EBFA;\n",
              "    box-shadow: 0px 1px 2px rgba(60, 64, 67, 0.3), 0px 1px 3px 1px rgba(60, 64, 67, 0.15);\n",
              "    fill: #174EA6;\n",
              "  }\n",
              "\n",
              "  [theme=dark] .colab-df-quickchart {\n",
              "    background-color: #3B4455;\n",
              "    fill: #D2E3FC;\n",
              "  }\n",
              "\n",
              "  [theme=dark] .colab-df-quickchart:hover {\n",
              "    background-color: #434B5C;\n",
              "    box-shadow: 0px 1px 3px 1px rgba(0, 0, 0, 0.15);\n",
              "    filter: drop-shadow(0px 1px 2px rgba(0, 0, 0, 0.3));\n",
              "    fill: #FFFFFF;\n",
              "  }\n",
              "</style>\n",
              "\n",
              "    <script>\n",
              "      async function quickchart(key) {\n",
              "        const containerElement = document.querySelector('#' + key);\n",
              "        const charts = await google.colab.kernel.invokeFunction(\n",
              "            'suggestCharts', [key], {});\n",
              "      }\n",
              "    </script>\n",
              "\n",
              "      <script>\n",
              "\n",
              "function displayQuickchartButton(domScope) {\n",
              "  let quickchartButtonEl =\n",
              "    domScope.querySelector('#df-6ee149de-8b02-40df-8a12-918443612ee1 button.colab-df-quickchart');\n",
              "  quickchartButtonEl.style.display =\n",
              "    google.colab.kernel.accessAllowed ? 'block' : 'none';\n",
              "}\n",
              "\n",
              "        displayQuickchartButton(document);\n",
              "      </script>\n",
              "      <style>\n",
              "    .colab-df-container {\n",
              "      display:flex;\n",
              "      flex-wrap:wrap;\n",
              "      gap: 12px;\n",
              "    }\n",
              "\n",
              "    .colab-df-convert {\n",
              "      background-color: #E8F0FE;\n",
              "      border: none;\n",
              "      border-radius: 50%;\n",
              "      cursor: pointer;\n",
              "      display: none;\n",
              "      fill: #1967D2;\n",
              "      height: 32px;\n",
              "      padding: 0 0 0 0;\n",
              "      width: 32px;\n",
              "    }\n",
              "\n",
              "    .colab-df-convert:hover {\n",
              "      background-color: #E2EBFA;\n",
              "      box-shadow: 0px 1px 2px rgba(60, 64, 67, 0.3), 0px 1px 3px 1px rgba(60, 64, 67, 0.15);\n",
              "      fill: #174EA6;\n",
              "    }\n",
              "\n",
              "    [theme=dark] .colab-df-convert {\n",
              "      background-color: #3B4455;\n",
              "      fill: #D2E3FC;\n",
              "    }\n",
              "\n",
              "    [theme=dark] .colab-df-convert:hover {\n",
              "      background-color: #434B5C;\n",
              "      box-shadow: 0px 1px 3px 1px rgba(0, 0, 0, 0.15);\n",
              "      filter: drop-shadow(0px 1px 2px rgba(0, 0, 0, 0.3));\n",
              "      fill: #FFFFFF;\n",
              "    }\n",
              "  </style>\n",
              "\n",
              "      <script>\n",
              "        const buttonEl =\n",
              "          document.querySelector('#df-e785dbb0-4930-41c9-a7d0-325e605644ad button.colab-df-convert');\n",
              "        buttonEl.style.display =\n",
              "          google.colab.kernel.accessAllowed ? 'block' : 'none';\n",
              "\n",
              "        async function convertToInteractive(key) {\n",
              "          const element = document.querySelector('#df-e785dbb0-4930-41c9-a7d0-325e605644ad');\n",
              "          const dataTable =\n",
              "            await google.colab.kernel.invokeFunction('convertToInteractive',\n",
              "                                                     [key], {});\n",
              "          if (!dataTable) return;\n",
              "\n",
              "          const docLinkHtml = 'Like what you see? Visit the ' +\n",
              "            '<a target=\"_blank\" href=https://colab.research.google.com/notebooks/data_table.ipynb>data table notebook</a>'\n",
              "            + ' to learn more about interactive tables.';\n",
              "          element.innerHTML = '';\n",
              "          dataTable['output_type'] = 'display_data';\n",
              "          await google.colab.output.renderOutput(dataTable, element);\n",
              "          const docLink = document.createElement('div');\n",
              "          docLink.innerHTML = docLinkHtml;\n",
              "          element.appendChild(docLink);\n",
              "        }\n",
              "      </script>\n",
              "    </div>\n",
              "  </div>\n"
            ]
          },
          "metadata": {},
          "execution_count": 14
        }
      ],
      "source": [
        "def encode_data(dataframe):\n",
        "    if dataframe.dtype == \"object\":\n",
        "        dataframe = LabelEncoder().fit_transform(dataframe)\n",
        "    return dataframe\n",
        "\n",
        "data = df.apply(lambda x: encode_data(x))\n",
        "data.head()"
      ]
    },
    {
      "cell_type": "markdown",
      "metadata": {
        "id": "0XtUxkelVVsO"
      },
      "source": [
        "## Splitting the Dataset into test and train"
      ]
    },
    {
      "cell_type": "code",
      "execution_count": 15,
      "metadata": {
        "id": "e2BdY_a8VXKy"
      },
      "outputs": [],
      "source": [
        "X = data.drop(columns = \"customerstatus\")\n",
        "y = data[\"customerstatus\"].values"
      ]
    },
    {
      "cell_type": "code",
      "execution_count": 16,
      "metadata": {
        "id": "0nPZyg5NVdYk"
      },
      "outputs": [],
      "source": [
        "X_train, X_test, y_train, y_test = train_test_split(X, y, test_size = 0.3, random_state = 4, stratify =y)"
      ]
    },
    {
      "cell_type": "code",
      "execution_count": 17,
      "metadata": {
        "id": "Qr_-bkZsVfjp"
      },
      "outputs": [],
      "source": [
        "col=['totalcharges','avgmonthlylongdistancecharges','monthlycharge','totalrevenue','totallongdistancecharges',\n",
        "     'tenureinmonths','totallongdistancecharges','totalextradatacharges']"
      ]
    },
    {
      "cell_type": "code",
      "execution_count": 18,
      "metadata": {
        "id": "eV_HUFN-Vh1N"
      },
      "outputs": [],
      "source": [
        "scaler = StandardScaler()\n",
        "X_train[col] = StandardScaler().fit_transform(X_train[col])\n",
        "X_test[col] = StandardScaler().fit_transform(X_test[col])"
      ]
    },
    {
      "cell_type": "code",
      "execution_count": 19,
      "metadata": {
        "colab": {
          "base_uri": "https://localhost:8080/"
        },
        "id": "6S77PecQpjqL",
        "outputId": "3361565a-bb90-4df4-f05d-60c40f581f6a"
      },
      "outputs": [
        {
          "output_type": "stream",
          "name": "stdout",
          "text": [
            "(4612, 29)\n",
            "(1977, 29)\n"
          ]
        }
      ],
      "source": [
        "print(X_train.shape)\n",
        "print(X_test.shape)"
      ]
    },
    {
      "cell_type": "code",
      "execution_count": null,
      "metadata": {
        "id": "mRXtJm0CU114"
      },
      "outputs": [],
      "source": [
        "data.to_csv('/content/drive/MyDrive/E-Commerce/dataset/mycsvfile.csv',index=False)"
      ]
    },
    {
      "cell_type": "markdown",
      "metadata": {
        "id": "p7GdwWFGWZ40"
      },
      "source": [
        "# BUILDING MODEL WITHOUT OPTIMIZATION"
      ]
    },
    {
      "cell_type": "code",
      "execution_count": null,
      "metadata": {
        "id": "PAAJM9bzWhW7"
      },
      "outputs": [],
      "source": [
        "# At first i have just used the base models and have evaluated them to check how they are performing\n",
        "models = []\n",
        "models.append(('Logistic Regression', LogisticRegression()))\n",
        "models.append(('Random Forest', RandomForestClassifier()))\n",
        "models.append(('Decision Tree Classifier', DecisionTreeClassifier()))"
      ]
    },
    {
      "cell_type": "code",
      "execution_count": null,
      "metadata": {
        "colab": {
          "base_uri": "https://localhost:8080/",
          "height": 143
        },
        "id": "AgoNTb60XP7D",
        "outputId": "502c4352-9754-4098-f727-3e40e2616668"
      },
      "outputs": [
        {
          "output_type": "execute_result",
          "data": {
            "text/plain": [
              "                  Algorithm  ROC AUC  Accuracy  Precision  f1 Score\n",
              "1             Random Forest    86.60     92.14      88.16     91.29\n",
              "0       Logistic Regression    83.93     90.66      89.02     88.74\n",
              "2  Decision Tree Classifier    81.03     77.48      87.62     86.91"
            ],
            "text/html": [
              "\n",
              "\n",
              "  <div id=\"df-9219d001-4217-44bb-a9c3-055e2d5411fe\">\n",
              "    <div class=\"colab-df-container\">\n",
              "      <div>\n",
              "<style scoped>\n",
              "    .dataframe tbody tr th:only-of-type {\n",
              "        vertical-align: middle;\n",
              "    }\n",
              "\n",
              "    .dataframe tbody tr th {\n",
              "        vertical-align: top;\n",
              "    }\n",
              "\n",
              "    .dataframe thead th {\n",
              "        text-align: right;\n",
              "    }\n",
              "</style>\n",
              "<table border=\"1\" class=\"dataframe\">\n",
              "  <thead>\n",
              "    <tr style=\"text-align: right;\">\n",
              "      <th></th>\n",
              "      <th>Algorithm</th>\n",
              "      <th>ROC AUC</th>\n",
              "      <th>Accuracy</th>\n",
              "      <th>Precision</th>\n",
              "      <th>f1 Score</th>\n",
              "    </tr>\n",
              "  </thead>\n",
              "  <tbody>\n",
              "    <tr>\n",
              "      <th>1</th>\n",
              "      <td>Random Forest</td>\n",
              "      <td>86.60</td>\n",
              "      <td>92.14</td>\n",
              "      <td>88.16</td>\n",
              "      <td>91.29</td>\n",
              "    </tr>\n",
              "    <tr>\n",
              "      <th>0</th>\n",
              "      <td>Logistic Regression</td>\n",
              "      <td>83.93</td>\n",
              "      <td>90.66</td>\n",
              "      <td>89.02</td>\n",
              "      <td>88.74</td>\n",
              "    </tr>\n",
              "    <tr>\n",
              "      <th>2</th>\n",
              "      <td>Decision Tree Classifier</td>\n",
              "      <td>81.03</td>\n",
              "      <td>77.48</td>\n",
              "      <td>87.62</td>\n",
              "      <td>86.91</td>\n",
              "    </tr>\n",
              "  </tbody>\n",
              "</table>\n",
              "</div>\n",
              "      <button class=\"colab-df-convert\" onclick=\"convertToInteractive('df-9219d001-4217-44bb-a9c3-055e2d5411fe')\"\n",
              "              title=\"Convert this dataframe to an interactive table.\"\n",
              "              style=\"display:none;\">\n",
              "\n",
              "  <svg xmlns=\"http://www.w3.org/2000/svg\" height=\"24px\"viewBox=\"0 0 24 24\"\n",
              "       width=\"24px\">\n",
              "    <path d=\"M0 0h24v24H0V0z\" fill=\"none\"/>\n",
              "    <path d=\"M18.56 5.44l.94 2.06.94-2.06 2.06-.94-2.06-.94-.94-2.06-.94 2.06-2.06.94zm-11 1L8.5 8.5l.94-2.06 2.06-.94-2.06-.94L8.5 2.5l-.94 2.06-2.06.94zm10 10l.94 2.06.94-2.06 2.06-.94-2.06-.94-.94-2.06-.94 2.06-2.06.94z\"/><path d=\"M17.41 7.96l-1.37-1.37c-.4-.4-.92-.59-1.43-.59-.52 0-1.04.2-1.43.59L10.3 9.45l-7.72 7.72c-.78.78-.78 2.05 0 2.83L4 21.41c.39.39.9.59 1.41.59.51 0 1.02-.2 1.41-.59l7.78-7.78 2.81-2.81c.8-.78.8-2.07 0-2.86zM5.41 20L4 18.59l7.72-7.72 1.47 1.35L5.41 20z\"/>\n",
              "  </svg>\n",
              "      </button>\n",
              "\n",
              "\n",
              "\n",
              "    <div id=\"df-ad0aabf8-0e7e-4e4e-93f4-8cc7f7588408\">\n",
              "      <button class=\"colab-df-quickchart\" onclick=\"quickchart('df-ad0aabf8-0e7e-4e4e-93f4-8cc7f7588408')\"\n",
              "              title=\"Suggest charts.\"\n",
              "              style=\"display:none;\">\n",
              "\n",
              "<svg xmlns=\"http://www.w3.org/2000/svg\" height=\"24px\"viewBox=\"0 0 24 24\"\n",
              "     width=\"24px\">\n",
              "    <g>\n",
              "        <path d=\"M19 3H5c-1.1 0-2 .9-2 2v14c0 1.1.9 2 2 2h14c1.1 0 2-.9 2-2V5c0-1.1-.9-2-2-2zM9 17H7v-7h2v7zm4 0h-2V7h2v10zm4 0h-2v-4h2v4z\"/>\n",
              "    </g>\n",
              "</svg>\n",
              "      </button>\n",
              "    </div>\n",
              "\n",
              "<style>\n",
              "  .colab-df-quickchart {\n",
              "    background-color: #E8F0FE;\n",
              "    border: none;\n",
              "    border-radius: 50%;\n",
              "    cursor: pointer;\n",
              "    display: none;\n",
              "    fill: #1967D2;\n",
              "    height: 32px;\n",
              "    padding: 0 0 0 0;\n",
              "    width: 32px;\n",
              "  }\n",
              "\n",
              "  .colab-df-quickchart:hover {\n",
              "    background-color: #E2EBFA;\n",
              "    box-shadow: 0px 1px 2px rgba(60, 64, 67, 0.3), 0px 1px 3px 1px rgba(60, 64, 67, 0.15);\n",
              "    fill: #174EA6;\n",
              "  }\n",
              "\n",
              "  [theme=dark] .colab-df-quickchart {\n",
              "    background-color: #3B4455;\n",
              "    fill: #D2E3FC;\n",
              "  }\n",
              "\n",
              "  [theme=dark] .colab-df-quickchart:hover {\n",
              "    background-color: #434B5C;\n",
              "    box-shadow: 0px 1px 3px 1px rgba(0, 0, 0, 0.15);\n",
              "    filter: drop-shadow(0px 1px 2px rgba(0, 0, 0, 0.3));\n",
              "    fill: #FFFFFF;\n",
              "  }\n",
              "</style>\n",
              "\n",
              "    <script>\n",
              "      async function quickchart(key) {\n",
              "        const containerElement = document.querySelector('#' + key);\n",
              "        const charts = await google.colab.kernel.invokeFunction(\n",
              "            'suggestCharts', [key], {});\n",
              "      }\n",
              "    </script>\n",
              "\n",
              "      <script>\n",
              "\n",
              "function displayQuickchartButton(domScope) {\n",
              "  let quickchartButtonEl =\n",
              "    domScope.querySelector('#df-ad0aabf8-0e7e-4e4e-93f4-8cc7f7588408 button.colab-df-quickchart');\n",
              "  quickchartButtonEl.style.display =\n",
              "    google.colab.kernel.accessAllowed ? 'block' : 'none';\n",
              "}\n",
              "\n",
              "        displayQuickchartButton(document);\n",
              "      </script>\n",
              "      <style>\n",
              "    .colab-df-container {\n",
              "      display:flex;\n",
              "      flex-wrap:wrap;\n",
              "      gap: 12px;\n",
              "    }\n",
              "\n",
              "    .colab-df-convert {\n",
              "      background-color: #E8F0FE;\n",
              "      border: none;\n",
              "      border-radius: 50%;\n",
              "      cursor: pointer;\n",
              "      display: none;\n",
              "      fill: #1967D2;\n",
              "      height: 32px;\n",
              "      padding: 0 0 0 0;\n",
              "      width: 32px;\n",
              "    }\n",
              "\n",
              "    .colab-df-convert:hover {\n",
              "      background-color: #E2EBFA;\n",
              "      box-shadow: 0px 1px 2px rgba(60, 64, 67, 0.3), 0px 1px 3px 1px rgba(60, 64, 67, 0.15);\n",
              "      fill: #174EA6;\n",
              "    }\n",
              "\n",
              "    [theme=dark] .colab-df-convert {\n",
              "      background-color: #3B4455;\n",
              "      fill: #D2E3FC;\n",
              "    }\n",
              "\n",
              "    [theme=dark] .colab-df-convert:hover {\n",
              "      background-color: #434B5C;\n",
              "      box-shadow: 0px 1px 3px 1px rgba(0, 0, 0, 0.15);\n",
              "      filter: drop-shadow(0px 1px 2px rgba(0, 0, 0, 0.3));\n",
              "      fill: #FFFFFF;\n",
              "    }\n",
              "  </style>\n",
              "\n",
              "      <script>\n",
              "        const buttonEl =\n",
              "          document.querySelector('#df-9219d001-4217-44bb-a9c3-055e2d5411fe button.colab-df-convert');\n",
              "        buttonEl.style.display =\n",
              "          google.colab.kernel.accessAllowed ? 'block' : 'none';\n",
              "\n",
              "        async function convertToInteractive(key) {\n",
              "          const element = document.querySelector('#df-9219d001-4217-44bb-a9c3-055e2d5411fe');\n",
              "          const dataTable =\n",
              "            await google.colab.kernel.invokeFunction('convertToInteractive',\n",
              "                                                     [key], {});\n",
              "          if (!dataTable) return;\n",
              "\n",
              "          const docLinkHtml = 'Like what you see? Visit the ' +\n",
              "            '<a target=\"_blank\" href=https://colab.research.google.com/notebooks/data_table.ipynb>data table notebook</a>'\n",
              "            + ' to learn more about interactive tables.';\n",
              "          element.innerHTML = '';\n",
              "          dataTable['output_type'] = 'display_data';\n",
              "          await google.colab.output.renderOutput(dataTable, element);\n",
              "          const docLink = document.createElement('div');\n",
              "          docLink.innerHTML = docLinkHtml;\n",
              "          element.appendChild(docLink);\n",
              "        }\n",
              "      </script>\n",
              "    </div>\n",
              "  </div>\n"
            ]
          },
          "metadata": {},
          "execution_count": 24
        }
      ],
      "source": [
        "acc_results =[]\n",
        "auc_results =[]\n",
        "pre_results =[]\n",
        "f1_results =[]\n",
        "names = []\n",
        "\n",
        "result_col = [\"Algorithm\", \"ROC AUC\", \"Accuracy\", \"Precision\", \"f1 Score\"]\n",
        "model_results = pd.DataFrame(columns = result_col)\n",
        "\n",
        "i=0\n",
        "# K- fold cross validation\n",
        "\n",
        "for name, model in models:\n",
        "    names.append(name)\n",
        "    # kfold = model_selection.KFold(n_splits=10)\n",
        "\n",
        "    cv_acc_results = model_selection.cross_val_score(model, X_train, y_train,\n",
        "                     scoring=\"accuracy\")\n",
        "    cv_auc_results = model_selection.cross_val_score(model, X_train, y_train,\n",
        "                     scoring=\"roc_auc\")\n",
        "    cv_pre_results = model_selection.cross_val_score(model, X_train, y_train,\n",
        "                     scoring=\"precision\")\n",
        "    cv_f1_results = model_selection.cross_val_score(model, X_train, y_train,\n",
        "                     scoring=\"f1\")\n",
        "    acc_results.append(cv_acc_results)\n",
        "    auc_results.append(cv_auc_results)\n",
        "    pre_results.append(cv_pre_results)\n",
        "    f1_results.append(cv_f1_results)\n",
        "\n",
        "    model_results.loc[i] = [name,\n",
        "                           round(cv_acc_results.mean()*100,2),\n",
        "                           round(cv_auc_results.mean()*100,2),\n",
        "                           round(cv_pre_results.mean()*100,2),\n",
        "                           round(cv_f1_results.mean()*100,2)]\n",
        "    i+=1\n",
        "\n",
        "model_results.sort_values(by = ['ROC AUC'], ascending=False)"
      ]
    },
    {
      "cell_type": "markdown",
      "metadata": {
        "id": "BLyckCimZbq-"
      },
      "source": [
        "# FINDING GOOD HYPER PARAMETERS ON ABOVE MODELS INDIVIDUALLY"
      ]
    },
    {
      "cell_type": "markdown",
      "metadata": {
        "id": "-PTUCtlKoeOQ"
      },
      "source": [
        "## Logistic Regression"
      ]
    },
    {
      "cell_type": "code",
      "execution_count": null,
      "metadata": {
        "id": "AN6QWNbzodqR"
      },
      "outputs": [],
      "source": [
        "modelL=LogisticRegression()"
      ]
    },
    {
      "cell_type": "code",
      "execution_count": null,
      "metadata": {
        "colab": {
          "base_uri": "https://localhost:8080/",
          "height": 74
        },
        "id": "FFgA4PCjoquH",
        "outputId": "e6a6b14e-1074-43a7-c0c7-0ea832400f87"
      },
      "outputs": [
        {
          "output_type": "execute_result",
          "data": {
            "text/plain": [
              "LogisticRegression()"
            ],
            "text/html": [
              "<style>#sk-container-id-1 {color: black;background-color: white;}#sk-container-id-1 pre{padding: 0;}#sk-container-id-1 div.sk-toggleable {background-color: white;}#sk-container-id-1 label.sk-toggleable__label {cursor: pointer;display: block;width: 100%;margin-bottom: 0;padding: 0.3em;box-sizing: border-box;text-align: center;}#sk-container-id-1 label.sk-toggleable__label-arrow:before {content: \"▸\";float: left;margin-right: 0.25em;color: #696969;}#sk-container-id-1 label.sk-toggleable__label-arrow:hover:before {color: black;}#sk-container-id-1 div.sk-estimator:hover label.sk-toggleable__label-arrow:before {color: black;}#sk-container-id-1 div.sk-toggleable__content {max-height: 0;max-width: 0;overflow: hidden;text-align: left;background-color: #f0f8ff;}#sk-container-id-1 div.sk-toggleable__content pre {margin: 0.2em;color: black;border-radius: 0.25em;background-color: #f0f8ff;}#sk-container-id-1 input.sk-toggleable__control:checked~div.sk-toggleable__content {max-height: 200px;max-width: 100%;overflow: auto;}#sk-container-id-1 input.sk-toggleable__control:checked~label.sk-toggleable__label-arrow:before {content: \"▾\";}#sk-container-id-1 div.sk-estimator input.sk-toggleable__control:checked~label.sk-toggleable__label {background-color: #d4ebff;}#sk-container-id-1 div.sk-label input.sk-toggleable__control:checked~label.sk-toggleable__label {background-color: #d4ebff;}#sk-container-id-1 input.sk-hidden--visually {border: 0;clip: rect(1px 1px 1px 1px);clip: rect(1px, 1px, 1px, 1px);height: 1px;margin: -1px;overflow: hidden;padding: 0;position: absolute;width: 1px;}#sk-container-id-1 div.sk-estimator {font-family: monospace;background-color: #f0f8ff;border: 1px dotted black;border-radius: 0.25em;box-sizing: border-box;margin-bottom: 0.5em;}#sk-container-id-1 div.sk-estimator:hover {background-color: #d4ebff;}#sk-container-id-1 div.sk-parallel-item::after {content: \"\";width: 100%;border-bottom: 1px solid gray;flex-grow: 1;}#sk-container-id-1 div.sk-label:hover label.sk-toggleable__label {background-color: #d4ebff;}#sk-container-id-1 div.sk-serial::before {content: \"\";position: absolute;border-left: 1px solid gray;box-sizing: border-box;top: 0;bottom: 0;left: 50%;z-index: 0;}#sk-container-id-1 div.sk-serial {display: flex;flex-direction: column;align-items: center;background-color: white;padding-right: 0.2em;padding-left: 0.2em;position: relative;}#sk-container-id-1 div.sk-item {position: relative;z-index: 1;}#sk-container-id-1 div.sk-parallel {display: flex;align-items: stretch;justify-content: center;background-color: white;position: relative;}#sk-container-id-1 div.sk-item::before, #sk-container-id-1 div.sk-parallel-item::before {content: \"\";position: absolute;border-left: 1px solid gray;box-sizing: border-box;top: 0;bottom: 0;left: 50%;z-index: -1;}#sk-container-id-1 div.sk-parallel-item {display: flex;flex-direction: column;z-index: 1;position: relative;background-color: white;}#sk-container-id-1 div.sk-parallel-item:first-child::after {align-self: flex-end;width: 50%;}#sk-container-id-1 div.sk-parallel-item:last-child::after {align-self: flex-start;width: 50%;}#sk-container-id-1 div.sk-parallel-item:only-child::after {width: 0;}#sk-container-id-1 div.sk-dashed-wrapped {border: 1px dashed gray;margin: 0 0.4em 0.5em 0.4em;box-sizing: border-box;padding-bottom: 0.4em;background-color: white;}#sk-container-id-1 div.sk-label label {font-family: monospace;font-weight: bold;display: inline-block;line-height: 1.2em;}#sk-container-id-1 div.sk-label-container {text-align: center;}#sk-container-id-1 div.sk-container {/* jupyter's `normalize.less` sets `[hidden] { display: none; }` but bootstrap.min.css set `[hidden] { display: none !important; }` so we also need the `!important` here to be able to override the default hidden behavior on the sphinx rendered scikit-learn.org. See: https://github.com/scikit-learn/scikit-learn/issues/21755 */display: inline-block !important;position: relative;}#sk-container-id-1 div.sk-text-repr-fallback {display: none;}</style><div id=\"sk-container-id-1\" class=\"sk-top-container\"><div class=\"sk-text-repr-fallback\"><pre>LogisticRegression()</pre><b>In a Jupyter environment, please rerun this cell to show the HTML representation or trust the notebook. <br />On GitHub, the HTML representation is unable to render, please try loading this page with nbviewer.org.</b></div><div class=\"sk-container\" hidden><div class=\"sk-item\"><div class=\"sk-estimator sk-toggleable\"><input class=\"sk-toggleable__control sk-hidden--visually\" id=\"sk-estimator-id-1\" type=\"checkbox\" checked><label for=\"sk-estimator-id-1\" class=\"sk-toggleable__label sk-toggleable__label-arrow\">LogisticRegression</label><div class=\"sk-toggleable__content\"><pre>LogisticRegression()</pre></div></div></div></div></div>"
            ]
          },
          "metadata": {},
          "execution_count": 26
        }
      ],
      "source": [
        "modelL.fit(X_train,y_train)"
      ]
    },
    {
      "cell_type": "code",
      "execution_count": null,
      "metadata": {
        "colab": {
          "base_uri": "https://localhost:8080/",
          "height": 74
        },
        "id": "qR7wIh4vossB",
        "outputId": "28dcfb90-824c-414c-e156-590c5d929c0a"
      },
      "outputs": [
        {
          "output_type": "execute_result",
          "data": {
            "text/plain": [
              "LogisticRegression()"
            ],
            "text/html": [
              "<style>#sk-container-id-2 {color: black;background-color: white;}#sk-container-id-2 pre{padding: 0;}#sk-container-id-2 div.sk-toggleable {background-color: white;}#sk-container-id-2 label.sk-toggleable__label {cursor: pointer;display: block;width: 100%;margin-bottom: 0;padding: 0.3em;box-sizing: border-box;text-align: center;}#sk-container-id-2 label.sk-toggleable__label-arrow:before {content: \"▸\";float: left;margin-right: 0.25em;color: #696969;}#sk-container-id-2 label.sk-toggleable__label-arrow:hover:before {color: black;}#sk-container-id-2 div.sk-estimator:hover label.sk-toggleable__label-arrow:before {color: black;}#sk-container-id-2 div.sk-toggleable__content {max-height: 0;max-width: 0;overflow: hidden;text-align: left;background-color: #f0f8ff;}#sk-container-id-2 div.sk-toggleable__content pre {margin: 0.2em;color: black;border-radius: 0.25em;background-color: #f0f8ff;}#sk-container-id-2 input.sk-toggleable__control:checked~div.sk-toggleable__content {max-height: 200px;max-width: 100%;overflow: auto;}#sk-container-id-2 input.sk-toggleable__control:checked~label.sk-toggleable__label-arrow:before {content: \"▾\";}#sk-container-id-2 div.sk-estimator input.sk-toggleable__control:checked~label.sk-toggleable__label {background-color: #d4ebff;}#sk-container-id-2 div.sk-label input.sk-toggleable__control:checked~label.sk-toggleable__label {background-color: #d4ebff;}#sk-container-id-2 input.sk-hidden--visually {border: 0;clip: rect(1px 1px 1px 1px);clip: rect(1px, 1px, 1px, 1px);height: 1px;margin: -1px;overflow: hidden;padding: 0;position: absolute;width: 1px;}#sk-container-id-2 div.sk-estimator {font-family: monospace;background-color: #f0f8ff;border: 1px dotted black;border-radius: 0.25em;box-sizing: border-box;margin-bottom: 0.5em;}#sk-container-id-2 div.sk-estimator:hover {background-color: #d4ebff;}#sk-container-id-2 div.sk-parallel-item::after {content: \"\";width: 100%;border-bottom: 1px solid gray;flex-grow: 1;}#sk-container-id-2 div.sk-label:hover label.sk-toggleable__label {background-color: #d4ebff;}#sk-container-id-2 div.sk-serial::before {content: \"\";position: absolute;border-left: 1px solid gray;box-sizing: border-box;top: 0;bottom: 0;left: 50%;z-index: 0;}#sk-container-id-2 div.sk-serial {display: flex;flex-direction: column;align-items: center;background-color: white;padding-right: 0.2em;padding-left: 0.2em;position: relative;}#sk-container-id-2 div.sk-item {position: relative;z-index: 1;}#sk-container-id-2 div.sk-parallel {display: flex;align-items: stretch;justify-content: center;background-color: white;position: relative;}#sk-container-id-2 div.sk-item::before, #sk-container-id-2 div.sk-parallel-item::before {content: \"\";position: absolute;border-left: 1px solid gray;box-sizing: border-box;top: 0;bottom: 0;left: 50%;z-index: -1;}#sk-container-id-2 div.sk-parallel-item {display: flex;flex-direction: column;z-index: 1;position: relative;background-color: white;}#sk-container-id-2 div.sk-parallel-item:first-child::after {align-self: flex-end;width: 50%;}#sk-container-id-2 div.sk-parallel-item:last-child::after {align-self: flex-start;width: 50%;}#sk-container-id-2 div.sk-parallel-item:only-child::after {width: 0;}#sk-container-id-2 div.sk-dashed-wrapped {border: 1px dashed gray;margin: 0 0.4em 0.5em 0.4em;box-sizing: border-box;padding-bottom: 0.4em;background-color: white;}#sk-container-id-2 div.sk-label label {font-family: monospace;font-weight: bold;display: inline-block;line-height: 1.2em;}#sk-container-id-2 div.sk-label-container {text-align: center;}#sk-container-id-2 div.sk-container {/* jupyter's `normalize.less` sets `[hidden] { display: none; }` but bootstrap.min.css set `[hidden] { display: none !important; }` so we also need the `!important` here to be able to override the default hidden behavior on the sphinx rendered scikit-learn.org. See: https://github.com/scikit-learn/scikit-learn/issues/21755 */display: inline-block !important;position: relative;}#sk-container-id-2 div.sk-text-repr-fallback {display: none;}</style><div id=\"sk-container-id-2\" class=\"sk-top-container\"><div class=\"sk-text-repr-fallback\"><pre>LogisticRegression()</pre><b>In a Jupyter environment, please rerun this cell to show the HTML representation or trust the notebook. <br />On GitHub, the HTML representation is unable to render, please try loading this page with nbviewer.org.</b></div><div class=\"sk-container\" hidden><div class=\"sk-item\"><div class=\"sk-estimator sk-toggleable\"><input class=\"sk-toggleable__control sk-hidden--visually\" id=\"sk-estimator-id-2\" type=\"checkbox\" checked><label for=\"sk-estimator-id-2\" class=\"sk-toggleable__label sk-toggleable__label-arrow\">LogisticRegression</label><div class=\"sk-toggleable__content\"><pre>LogisticRegression()</pre></div></div></div></div></div>"
            ]
          },
          "metadata": {},
          "execution_count": 27
        }
      ],
      "source": [
        "LogisticRegression()"
      ]
    },
    {
      "cell_type": "code",
      "execution_count": null,
      "metadata": {
        "id": "tK6VNppyovAz"
      },
      "outputs": [],
      "source": [
        "pred_trainL = modelL.predict(X_train)\n",
        "pred_testL=modelL.predict(X_test)"
      ]
    },
    {
      "cell_type": "code",
      "execution_count": null,
      "metadata": {
        "colab": {
          "base_uri": "https://localhost:8080/"
        },
        "id": "C22BNBWCot6R",
        "outputId": "0d770b37-245d-4814-e53e-ecad270cfc8f"
      },
      "outputs": [
        {
          "output_type": "stream",
          "name": "stdout",
          "text": [
            "Training accuracy  0.847\n",
            "Testing accuracy  0.856\n"
          ]
        }
      ],
      "source": [
        "acc_trainL = accuracy_score(pred_trainL, y_train)\n",
        "acc_testL = accuracy_score(pred_testL, y_test)\n",
        "print(f'Training accuracy {acc_trainL: .3f}')\n",
        "print(f'Testing accuracy {acc_testL: .3f}')"
      ]
    },
    {
      "cell_type": "markdown",
      "metadata": {
        "id": "9h4vJ19UpZse"
      },
      "source": [
        "### Tuning the parameters"
      ]
    },
    {
      "cell_type": "code",
      "execution_count": null,
      "metadata": {
        "colab": {
          "base_uri": "https://localhost:8080/"
        },
        "id": "-Z4fYsnTpbNl",
        "outputId": "94a55d7b-f6ee-4eda-faf8-8053c19b4ad4"
      },
      "outputs": [
        {
          "output_type": "stream",
          "name": "stdout",
          "text": [
            "Fitting 5 folds for each of 8 candidates, totalling 40 fits\n",
            "\n",
            "Best parameters found:\n",
            "{'C': 1000.0, 'max_iter': 500}\n",
            "\n",
            "Grid scores:\n",
            "0.844 (+/-0.030) for {'C': 10.0, 'max_iter': 500}\n",
            "0.843 (+/-0.031) for {'C': 10.0, 'max_iter': 1000}\n",
            "0.844 (+/-0.029) for {'C': 100.0, 'max_iter': 500}\n",
            "0.842 (+/-0.030) for {'C': 100.0, 'max_iter': 1000}\n",
            "0.845 (+/-0.031) for {'C': 1000.0, 'max_iter': 500}\n",
            "0.843 (+/-0.030) for {'C': 1000.0, 'max_iter': 1000}\n",
            "0.845 (+/-0.029) for {'C': 10000.0, 'max_iter': 500}\n",
            "0.843 (+/-0.030) for {'C': 10000.0, 'max_iter': 1000}\n"
          ]
        }
      ],
      "source": [
        "tuned_parameters = [{'C': [10.0, 100.0, 1000.0, 10000.0],\n",
        "                     'max_iter': [500, 1000]}] # hyperparameters to tune\n",
        "clfL = GridSearchCV(LogisticRegression(), tuned_parameters,\n",
        "                   verbose=1, n_jobs=-1) # grid search model\n",
        "clfL.fit(X_train,y_train) # evaluate hyper-parameters\n",
        "\n",
        "print(\"\\nBest parameters found:\")\n",
        "print(clfL.best_params_) # best hyperparameter values\n",
        "\n",
        "print(\"\\nGrid scores:\")\n",
        "meansL = clfL.cv_results_['mean_test_score'] # mean accuracy with folds\n",
        "stdsL = clfL.cv_results_['std_test_score'] # standard deviation of accuracies\n",
        "# for each hyperparameter combination show mean +/- 2 standard-deviations\n",
        "for mean, std, params in zip(meansL, stdsL, clfL.cv_results_['params']):\n",
        "    print(\"%0.3f (+/-%0.03f) for %r\" %(mean, std * 2, params))"
      ]
    },
    {
      "cell_type": "markdown",
      "metadata": {
        "id": "YfteC-I3pupD"
      },
      "source": [
        "###Evaluating on the basis of Best found parameters"
      ]
    },
    {
      "cell_type": "code",
      "execution_count": null,
      "metadata": {
        "colab": {
          "base_uri": "https://localhost:8080/",
          "height": 1000
        },
        "id": "6Qqbghsypv2F",
        "outputId": "e4185f53-a400-40ac-970b-a428eedf0a0b"
      },
      "outputs": [
        {
          "output_type": "stream",
          "name": "stdout",
          "text": [
            "LogisticRegression(C=1000, max_iter=500)\n",
            "Results on test data\n",
            "Test accuracy =  0.8538\n",
            "Test precision =  0.8982\n",
            "Test recall =  0.8976\n",
            "Classification report:\n",
            "              precision    recall  f1-score   support\n",
            "\n",
            "           0       0.74      0.74      0.74       561\n",
            "           1       0.90      0.90      0.90      1416\n",
            "\n",
            "    accuracy                           0.85      1977\n",
            "   macro avg       0.82      0.82      0.82      1977\n",
            "weighted avg       0.85      0.85      0.85      1977\n",
            "\n"
          ]
        },
        {
          "output_type": "display_data",
          "data": {
            "text/plain": [
              "<Figure size 1700x700 with 2 Axes>"
            ],
            "image/png": "[encoded data removed]"
          },
          "metadata": {}
        },
        {
          "output_type": "display_data",
          "data": {
            "text/plain": [
              "<Figure size 640x480 with 1 Axes>"
            ],
            "image/png": "[encoded data removed]"
          },
          "metadata": {}
        }
      ],
      "source": [
        "# Specify non-default hyper-parameter values\n",
        "C = 1000\n",
        "max_iter = 500\n",
        "# Train and test model\n",
        "good_modelL = LogisticRegression(C = C, max_iter=max_iter) # create model\n",
        "print(good_modelL) # display model parameters\n",
        "good_modelL.fit(X_train,y_train) # train model\n",
        "predL = good_modelL.predict(X_test) # predicted output for test examples\n",
        "print(\"Results on test data\")\n",
        "accL = accuracy_score(y_test, predL) # accuracy on test examples\n",
        "precL = precision_score(y_test, predL) # precision on test examples\n",
        "recaL = recall_score(y_test, predL) # recall on test examples\n",
        "print(f'Test accuracy = {accL: .4f}') # round to 4 decimal places\n",
        "print(f'Test precision = {precL: .4f}') # round to 4 decimal places\n",
        "print(f'Test recall = {recaL: .4f}') # round to 4 decimal places\n",
        "print(\"Classification report:\")\n",
        "print(classification_report(y_test, predL))\n",
        "\n",
        "# Confusion Matrix\n",
        "conf_mat = tf.math.confusion_matrix(labels=y_test,predictions=predL)\n",
        "plt.figure(figsize = (17,7))\n",
        "sb.heatmap(conf_mat, annot=True,fmt='d')\n",
        "plt.xlabel('Predicted_number')\n",
        "plt.ylabel('True_number')\n",
        "\n",
        "\n",
        "fpr, tpr, thresholds = roc_curve(y_test, good_modelL.predict_proba(X_test)[:, 1])\n",
        "roc_auc = auc(fpr, tpr)\n",
        "\n",
        "plt.figure()\n",
        "plt.plot(fpr, tpr, color='darkorange', lw=2, label='LogisticRegression (AUC = %0.2f)' % roc_auc)\n",
        "plt.xlim([0.0, 1.0])\n",
        "plt.ylim([0.0, 1.05])\n",
        "plt.xlabel('False Positive Rate')\n",
        "plt.ylabel('True Positive Rate')\n",
        "plt.title('Receiver operating characteristic')\n",
        "plt.legend(loc=\"lower right\")\n",
        "plt.show()"
      ]
    },
    {
      "cell_type": "markdown",
      "metadata": {
        "id": "tbXbJQ4x87uZ"
      },
      "source": [
        "## Decision Tree Classifier"
      ]
    },
    {
      "cell_type": "code",
      "execution_count": null,
      "metadata": {
        "id": "nIFKre6a9Iia"
      },
      "outputs": [],
      "source": [
        "modelD= DecisionTreeClassifier()"
      ]
    },
    {
      "cell_type": "code",
      "execution_count": null,
      "metadata": {
        "colab": {
          "base_uri": "https://localhost:8080/",
          "height": 74
        },
        "id": "gF5F99V-9KWk",
        "outputId": "dff8a74b-a2d3-49c1-ba04-c20df638fa2c"
      },
      "outputs": [
        {
          "output_type": "execute_result",
          "data": {
            "text/plain": [
              "DecisionTreeClassifier()"
            ],
            "text/html": [
              "<style>#sk-container-id-3 {color: black;background-color: white;}#sk-container-id-3 pre{padding: 0;}#sk-container-id-3 div.sk-toggleable {background-color: white;}#sk-container-id-3 label.sk-toggleable__label {cursor: pointer;display: block;width: 100%;margin-bottom: 0;padding: 0.3em;box-sizing: border-box;text-align: center;}#sk-container-id-3 label.sk-toggleable__label-arrow:before {content: \"▸\";float: left;margin-right: 0.25em;color: #696969;}#sk-container-id-3 label.sk-toggleable__label-arrow:hover:before {color: black;}#sk-container-id-3 div.sk-estimator:hover label.sk-toggleable__label-arrow:before {color: black;}#sk-container-id-3 div.sk-toggleable__content {max-height: 0;max-width: 0;overflow: hidden;text-align: left;background-color: #f0f8ff;}#sk-container-id-3 div.sk-toggleable__content pre {margin: 0.2em;color: black;border-radius: 0.25em;background-color: #f0f8ff;}#sk-container-id-3 input.sk-toggleable__control:checked~div.sk-toggleable__content {max-height: 200px;max-width: 100%;overflow: auto;}#sk-container-id-3 input.sk-toggleable__control:checked~label.sk-toggleable__label-arrow:before {content: \"▾\";}#sk-container-id-3 div.sk-estimator input.sk-toggleable__control:checked~label.sk-toggleable__label {background-color: #d4ebff;}#sk-container-id-3 div.sk-label input.sk-toggleable__control:checked~label.sk-toggleable__label {background-color: #d4ebff;}#sk-container-id-3 input.sk-hidden--visually {border: 0;clip: rect(1px 1px 1px 1px);clip: rect(1px, 1px, 1px, 1px);height: 1px;margin: -1px;overflow: hidden;padding: 0;position: absolute;width: 1px;}#sk-container-id-3 div.sk-estimator {font-family: monospace;background-color: #f0f8ff;border: 1px dotted black;border-radius: 0.25em;box-sizing: border-box;margin-bottom: 0.5em;}#sk-container-id-3 div.sk-estimator:hover {background-color: #d4ebff;}#sk-container-id-3 div.sk-parallel-item::after {content: \"\";width: 100%;border-bottom: 1px solid gray;flex-grow: 1;}#sk-container-id-3 div.sk-label:hover label.sk-toggleable__label {background-color: #d4ebff;}#sk-container-id-3 div.sk-serial::before {content: \"\";position: absolute;border-left: 1px solid gray;box-sizing: border-box;top: 0;bottom: 0;left: 50%;z-index: 0;}#sk-container-id-3 div.sk-serial {display: flex;flex-direction: column;align-items: center;background-color: white;padding-right: 0.2em;padding-left: 0.2em;position: relative;}#sk-container-id-3 div.sk-item {position: relative;z-index: 1;}#sk-container-id-3 div.sk-parallel {display: flex;align-items: stretch;justify-content: center;background-color: white;position: relative;}#sk-container-id-3 div.sk-item::before, #sk-container-id-3 div.sk-parallel-item::before {content: \"\";position: absolute;border-left: 1px solid gray;box-sizing: border-box;top: 0;bottom: 0;left: 50%;z-index: -1;}#sk-container-id-3 div.sk-parallel-item {display: flex;flex-direction: column;z-index: 1;position: relative;background-color: white;}#sk-container-id-3 div.sk-parallel-item:first-child::after {align-self: flex-end;width: 50%;}#sk-container-id-3 div.sk-parallel-item:last-child::after {align-self: flex-start;width: 50%;}#sk-container-id-3 div.sk-parallel-item:only-child::after {width: 0;}#sk-container-id-3 div.sk-dashed-wrapped {border: 1px dashed gray;margin: 0 0.4em 0.5em 0.4em;box-sizing: border-box;padding-bottom: 0.4em;background-color: white;}#sk-container-id-3 div.sk-label label {font-family: monospace;font-weight: bold;display: inline-block;line-height: 1.2em;}#sk-container-id-3 div.sk-label-container {text-align: center;}#sk-container-id-3 div.sk-container {/* jupyter's `normalize.less` sets `[hidden] { display: none; }` but bootstrap.min.css set `[hidden] { display: none !important; }` so we also need the `!important` here to be able to override the default hidden behavior on the sphinx rendered scikit-learn.org. See: https://github.com/scikit-learn/scikit-learn/issues/21755 */display: inline-block !important;position: relative;}#sk-container-id-3 div.sk-text-repr-fallback {display: none;}</style><div id=\"sk-container-id-3\" class=\"sk-top-container\"><div class=\"sk-text-repr-fallback\"><pre>DecisionTreeClassifier()</pre><b>In a Jupyter environment, please rerun this cell to show the HTML representation or trust the notebook. <br />On GitHub, the HTML representation is unable to render, please try loading this page with nbviewer.org.</b></div><div class=\"sk-container\" hidden><div class=\"sk-item\"><div class=\"sk-estimator sk-toggleable\"><input class=\"sk-toggleable__control sk-hidden--visually\" id=\"sk-estimator-id-3\" type=\"checkbox\" checked><label for=\"sk-estimator-id-3\" class=\"sk-toggleable__label sk-toggleable__label-arrow\">DecisionTreeClassifier</label><div class=\"sk-toggleable__content\"><pre>DecisionTreeClassifier()</pre></div></div></div></div></div>"
            ]
          },
          "metadata": {},
          "execution_count": 33
        }
      ],
      "source": [
        "modelD.fit(X_train, y_train)"
      ]
    },
    {
      "cell_type": "code",
      "execution_count": null,
      "metadata": {
        "colab": {
          "base_uri": "https://localhost:8080/",
          "height": 74
        },
        "id": "KtQ7QXuf9MmL",
        "outputId": "281f1b1a-0a07-41e8-f171-ec666ebff4c3"
      },
      "outputs": [
        {
          "output_type": "execute_result",
          "data": {
            "text/plain": [
              "DecisionTreeClassifier()"
            ],
            "text/html": [
              "<style>#sk-container-id-4 {color: black;background-color: white;}#sk-container-id-4 pre{padding: 0;}#sk-container-id-4 div.sk-toggleable {background-color: white;}#sk-container-id-4 label.sk-toggleable__label {cursor: pointer;display: block;width: 100%;margin-bottom: 0;padding: 0.3em;box-sizing: border-box;text-align: center;}#sk-container-id-4 label.sk-toggleable__label-arrow:before {content: \"▸\";float: left;margin-right: 0.25em;color: #696969;}#sk-container-id-4 label.sk-toggleable__label-arrow:hover:before {color: black;}#sk-container-id-4 div.sk-estimator:hover label.sk-toggleable__label-arrow:before {color: black;}#sk-container-id-4 div.sk-toggleable__content {max-height: 0;max-width: 0;overflow: hidden;text-align: left;background-color: #f0f8ff;}#sk-container-id-4 div.sk-toggleable__content pre {margin: 0.2em;color: black;border-radius: 0.25em;background-color: #f0f8ff;}#sk-container-id-4 input.sk-toggleable__control:checked~div.sk-toggleable__content {max-height: 200px;max-width: 100%;overflow: auto;}#sk-container-id-4 input.sk-toggleable__control:checked~label.sk-toggleable__label-arrow:before {content: \"▾\";}#sk-container-id-4 div.sk-estimator input.sk-toggleable__control:checked~label.sk-toggleable__label {background-color: #d4ebff;}#sk-container-id-4 div.sk-label input.sk-toggleable__control:checked~label.sk-toggleable__label {background-color: #d4ebff;}#sk-container-id-4 input.sk-hidden--visually {border: 0;clip: rect(1px 1px 1px 1px);clip: rect(1px, 1px, 1px, 1px);height: 1px;margin: -1px;overflow: hidden;padding: 0;position: absolute;width: 1px;}#sk-container-id-4 div.sk-estimator {font-family: monospace;background-color: #f0f8ff;border: 1px dotted black;border-radius: 0.25em;box-sizing: border-box;margin-bottom: 0.5em;}#sk-container-id-4 div.sk-estimator:hover {background-color: #d4ebff;}#sk-container-id-4 div.sk-parallel-item::after {content: \"\";width: 100%;border-bottom: 1px solid gray;flex-grow: 1;}#sk-container-id-4 div.sk-label:hover label.sk-toggleable__label {background-color: #d4ebff;}#sk-container-id-4 div.sk-serial::before {content: \"\";position: absolute;border-left: 1px solid gray;box-sizing: border-box;top: 0;bottom: 0;left: 50%;z-index: 0;}#sk-container-id-4 div.sk-serial {display: flex;flex-direction: column;align-items: center;background-color: white;padding-right: 0.2em;padding-left: 0.2em;position: relative;}#sk-container-id-4 div.sk-item {position: relative;z-index: 1;}#sk-container-id-4 div.sk-parallel {display: flex;align-items: stretch;justify-content: center;background-color: white;position: relative;}#sk-container-id-4 div.sk-item::before, #sk-container-id-4 div.sk-parallel-item::before {content: \"\";position: absolute;border-left: 1px solid gray;box-sizing: border-box;top: 0;bottom: 0;left: 50%;z-index: -1;}#sk-container-id-4 div.sk-parallel-item {display: flex;flex-direction: column;z-index: 1;position: relative;background-color: white;}#sk-container-id-4 div.sk-parallel-item:first-child::after {align-self: flex-end;width: 50%;}#sk-container-id-4 div.sk-parallel-item:last-child::after {align-self: flex-start;width: 50%;}#sk-container-id-4 div.sk-parallel-item:only-child::after {width: 0;}#sk-container-id-4 div.sk-dashed-wrapped {border: 1px dashed gray;margin: 0 0.4em 0.5em 0.4em;box-sizing: border-box;padding-bottom: 0.4em;background-color: white;}#sk-container-id-4 div.sk-label label {font-family: monospace;font-weight: bold;display: inline-block;line-height: 1.2em;}#sk-container-id-4 div.sk-label-container {text-align: center;}#sk-container-id-4 div.sk-container {/* jupyter's `normalize.less` sets `[hidden] { display: none; }` but bootstrap.min.css set `[hidden] { display: none !important; }` so we also need the `!important` here to be able to override the default hidden behavior on the sphinx rendered scikit-learn.org. See: https://github.com/scikit-learn/scikit-learn/issues/21755 */display: inline-block !important;position: relative;}#sk-container-id-4 div.sk-text-repr-fallback {display: none;}</style><div id=\"sk-container-id-4\" class=\"sk-top-container\"><div class=\"sk-text-repr-fallback\"><pre>DecisionTreeClassifier()</pre><b>In a Jupyter environment, please rerun this cell to show the HTML representation or trust the notebook. <br />On GitHub, the HTML representation is unable to render, please try loading this page with nbviewer.org.</b></div><div class=\"sk-container\" hidden><div class=\"sk-item\"><div class=\"sk-estimator sk-toggleable\"><input class=\"sk-toggleable__control sk-hidden--visually\" id=\"sk-estimator-id-4\" type=\"checkbox\" checked><label for=\"sk-estimator-id-4\" class=\"sk-toggleable__label sk-toggleable__label-arrow\">DecisionTreeClassifier</label><div class=\"sk-toggleable__content\"><pre>DecisionTreeClassifier()</pre></div></div></div></div></div>"
            ]
          },
          "metadata": {},
          "execution_count": 34
        }
      ],
      "source": [
        "DecisionTreeClassifier()"
      ]
    },
    {
      "cell_type": "code",
      "execution_count": null,
      "metadata": {
        "id": "v0h1UN9b9O8r"
      },
      "outputs": [],
      "source": [
        "pred_train_D = modelD.predict(X_train)\n",
        "pred_test_D=modelD.predict(X_test)"
      ]
    },
    {
      "cell_type": "code",
      "execution_count": null,
      "metadata": {
        "colab": {
          "base_uri": "https://localhost:8080/"
        },
        "id": "2Jt1dw5A9N3p",
        "outputId": "d740ce5e-ee09-4fb5-df65-bed9e0ba51d6"
      },
      "outputs": [
        {
          "output_type": "stream",
          "name": "stdout",
          "text": [
            "Training accuracy  1.000\n",
            "Testing accuracy  0.836\n"
          ]
        }
      ],
      "source": [
        "acc_train_D = accuracy_score(pred_train_D, y_train)\n",
        "acc_test_D = accuracy_score(pred_test_D, y_test)\n",
        "print(f'Training accuracy {acc_train_D: .3f}')\n",
        "print(f'Testing accuracy {acc_test_D: .3f}')"
      ]
    },
    {
      "cell_type": "markdown",
      "metadata": {
        "id": "kXqDeqt29E3j"
      },
      "source": [
        "###Tuning the parameters"
      ]
    },
    {
      "cell_type": "code",
      "execution_count": null,
      "metadata": {
        "colab": {
          "base_uri": "https://localhost:8080/"
        },
        "id": "kosZzcOv9cBg",
        "outputId": "f2ec42b5-978e-42a4-b0b6-605a418795bb"
      },
      "outputs": [
        {
          "output_type": "stream",
          "name": "stdout",
          "text": [
            "Fitting 5 folds for each of 40 candidates, totalling 200 fits\n",
            "\n",
            "Best parameters found:\n",
            "{'criterion': 'gini', 'max_leaf_nodes': 19}\n",
            "\n",
            "Grid scores:\n",
            "0.844 (+/-0.022) for {'criterion': 'gini', 'max_leaf_nodes': 5}\n",
            "0.851 (+/-0.015) for {'criterion': 'gini', 'max_leaf_nodes': 6}\n",
            "0.853 (+/-0.010) for {'criterion': 'gini', 'max_leaf_nodes': 7}\n",
            "0.857 (+/-0.009) for {'criterion': 'gini', 'max_leaf_nodes': 8}\n",
            "0.857 (+/-0.009) for {'criterion': 'gini', 'max_leaf_nodes': 9}\n",
            "0.856 (+/-0.010) for {'criterion': 'gini', 'max_leaf_nodes': 10}\n",
            "0.856 (+/-0.011) for {'criterion': 'gini', 'max_leaf_nodes': 11}\n",
            "0.856 (+/-0.011) for {'criterion': 'gini', 'max_leaf_nodes': 12}\n",
            "0.856 (+/-0.015) for {'criterion': 'gini', 'max_leaf_nodes': 13}\n",
            "0.858 (+/-0.014) for {'criterion': 'gini', 'max_leaf_nodes': 14}\n",
            "0.859 (+/-0.015) for {'criterion': 'gini', 'max_leaf_nodes': 15}\n",
            "0.860 (+/-0.020) for {'criterion': 'gini', 'max_leaf_nodes': 16}\n",
            "0.859 (+/-0.019) for {'criterion': 'gini', 'max_leaf_nodes': 17}\n",
            "0.859 (+/-0.017) for {'criterion': 'gini', 'max_leaf_nodes': 18}\n",
            "0.863 (+/-0.007) for {'criterion': 'gini', 'max_leaf_nodes': 19}\n",
            "0.861 (+/-0.011) for {'criterion': 'gini', 'max_leaf_nodes': 20}\n",
            "0.862 (+/-0.009) for {'criterion': 'gini', 'max_leaf_nodes': 21}\n",
            "0.862 (+/-0.010) for {'criterion': 'gini', 'max_leaf_nodes': 22}\n",
            "0.861 (+/-0.012) for {'criterion': 'gini', 'max_leaf_nodes': 23}\n",
            "0.861 (+/-0.011) for {'criterion': 'gini', 'max_leaf_nodes': 24}\n",
            "0.844 (+/-0.022) for {'criterion': 'entropy', 'max_leaf_nodes': 5}\n",
            "0.851 (+/-0.015) for {'criterion': 'entropy', 'max_leaf_nodes': 6}\n",
            "0.851 (+/-0.015) for {'criterion': 'entropy', 'max_leaf_nodes': 7}\n",
            "0.851 (+/-0.015) for {'criterion': 'entropy', 'max_leaf_nodes': 8}\n",
            "0.853 (+/-0.013) for {'criterion': 'entropy', 'max_leaf_nodes': 9}\n",
            "0.856 (+/-0.013) for {'criterion': 'entropy', 'max_leaf_nodes': 10}\n",
            "0.854 (+/-0.008) for {'criterion': 'entropy', 'max_leaf_nodes': 11}\n",
            "0.854 (+/-0.008) for {'criterion': 'entropy', 'max_leaf_nodes': 12}\n",
            "0.855 (+/-0.008) for {'criterion': 'entropy', 'max_leaf_nodes': 13}\n",
            "0.856 (+/-0.009) for {'criterion': 'entropy', 'max_leaf_nodes': 14}\n",
            "0.856 (+/-0.009) for {'criterion': 'entropy', 'max_leaf_nodes': 15}\n",
            "0.856 (+/-0.009) for {'criterion': 'entropy', 'max_leaf_nodes': 16}\n",
            "0.856 (+/-0.009) for {'criterion': 'entropy', 'max_leaf_nodes': 17}\n",
            "0.858 (+/-0.013) for {'criterion': 'entropy', 'max_leaf_nodes': 18}\n",
            "0.858 (+/-0.013) for {'criterion': 'entropy', 'max_leaf_nodes': 19}\n",
            "0.859 (+/-0.014) for {'criterion': 'entropy', 'max_leaf_nodes': 20}\n",
            "0.863 (+/-0.016) for {'criterion': 'entropy', 'max_leaf_nodes': 21}\n",
            "0.863 (+/-0.016) for {'criterion': 'entropy', 'max_leaf_nodes': 22}\n",
            "0.862 (+/-0.014) for {'criterion': 'entropy', 'max_leaf_nodes': 23}\n",
            "0.859 (+/-0.013) for {'criterion': 'entropy', 'max_leaf_nodes': 24}\n"
          ]
        }
      ],
      "source": [
        "tuned_parameters = [{'criterion':['gini', 'entropy'],\n",
        "                     'max_leaf_nodes': range(5,25)}] # hyperparameters to tune\n",
        "\n",
        "clf_D = GridSearchCV(DecisionTreeClassifier(), tuned_parameters,\n",
        "                   verbose=1, n_jobs=-1) # grid search model\n",
        "clf_D.fit(X_train, y_train) # evaluate hyper-parameters\n",
        "\n",
        "print(\"\\nBest parameters found:\")\n",
        "print(clf_D.best_params_) # best hyperparameter balues\n",
        "\n",
        "print(\"\\nGrid scores:\")\n",
        "means_D = clf_D.cv_results_['mean_test_score'] # mean accuracy with folds\n",
        "stds_D = clf_D.cv_results_['std_test_score'] # standard deviation of accuracies\n",
        "# for each hyperparameter combination show mean +/- 2 standard-deviations\n",
        "for mean, std, params in zip(means_D, stds_D, clf_D.cv_results_['params']):\n",
        "    print(\"%0.3f (+/-%0.03f) for %r\" %(mean, std * 2, params))"
      ]
    },
    {
      "cell_type": "markdown",
      "metadata": {
        "id": "r1nCFKaA9k-7"
      },
      "source": [
        "### Evaluating on the basis of Best found parameters"
      ]
    },
    {
      "cell_type": "code",
      "execution_count": null,
      "metadata": {
        "colab": {
          "base_uri": "https://localhost:8080/",
          "height": 1000
        },
        "id": "q8542CZ39krO",
        "outputId": "abae1fc5-e174-4c57-ae0a-c3187dded150"
      },
      "outputs": [
        {
          "output_type": "stream",
          "name": "stdout",
          "text": [
            "DecisionTreeClassifier(max_leaf_nodes=19)\n",
            "Results on test data\n",
            "Test accuracy =  0.8553\n",
            "Test precision =  0.8655\n",
            "Test recall =  0.9449\n",
            "Classification report:\n",
            "              precision    recall  f1-score   support\n",
            "\n",
            "           0       0.82      0.63      0.71       561\n",
            "           1       0.87      0.94      0.90      1416\n",
            "\n",
            "    accuracy                           0.86      1977\n",
            "   macro avg       0.84      0.79      0.81      1977\n",
            "weighted avg       0.85      0.86      0.85      1977\n",
            "\n"
          ]
        },
        {
          "output_type": "display_data",
          "data": {
            "text/plain": [
              "<Figure size 1700x700 with 2 Axes>"
            ],
            "image/png": "[encoded data removed]"
          },
          "metadata": {}
        },
        {
          "output_type": "display_data",
          "data": {
            "text/plain": [
              "<Figure size 640x480 with 1 Axes>"
            ],
            "image/png": "[encoded data removed]"
          },
          "metadata": {}
        }
      ],
      "source": [
        "criterion = 'gini'\n",
        "max_leaf_nodes = 19\n",
        "# Train and test model\n",
        "good_model_D = DecisionTreeClassifier(criterion=criterion,\n",
        "                                    max_leaf_nodes=max_leaf_nodes) # create model\n",
        "print(good_model_D) # display model parameters\n",
        "good_model_D.fit(X_train, y_train) # train model\n",
        "pred_D = good_model_D.predict(X_test) # predicted output for test examples\n",
        "print(\"Results on test data\")\n",
        "acc_D = accuracy_score(y_test, pred_D) # accuracy on test examples\n",
        "prec_D = precision_score(y_test, pred_D) # precision on test examples\n",
        "reca_D = recall_score(y_test, pred_D) # recall on test examples\n",
        "print(f'Test accuracy = {acc_D: .4f}') # round to 4 decimal places\n",
        "print(f'Test precision = {prec_D: .4f}') # round to 4 decimal places\n",
        "print(f'Test recall = {reca_D: .4f}') # round to 4 decimal places\n",
        "print(\"Classification report:\")\n",
        "print(classification_report(y_test, pred_D))\n",
        "\n",
        "# Confusion Matrix\n",
        "conf_mat = tf.math.confusion_matrix(labels=y_test,predictions=pred_D)\n",
        "plt.figure(figsize = (17,7))\n",
        "sb.heatmap(conf_mat, annot=True,fmt='d')\n",
        "plt.xlabel('Predicted_number')\n",
        "plt.ylabel('True_number')\n",
        "\n",
        "fpr, tpr, thresholds = roc_curve(y_test, good_model_D.predict_proba(X_test)[:, 1])\n",
        "roc_auc = auc(fpr, tpr)\n",
        "\n",
        "plt.figure()\n",
        "plt.plot(fpr, tpr, color='darkorange', lw=2, label='DecisionTreeClassifier (AUC = %0.2f)' % roc_auc)\n",
        "plt.xlim([0.0, 1.0])\n",
        "plt.ylim([0.0, 1.05])\n",
        "plt.xlabel('False Positive Rate')\n",
        "plt.ylabel('True Positive Rate')\n",
        "plt.title('Receiver operating characteristic')\n",
        "plt.legend(loc=\"lower right\")\n",
        "plt.show()"
      ]
    },
    {
      "cell_type": "markdown",
      "metadata": {
        "id": "3Z2-Pt7H9-Gx"
      },
      "source": [
        "##Random Forest"
      ]
    },
    {
      "cell_type": "code",
      "execution_count": null,
      "metadata": {
        "id": "fTSAaD6_-GRW"
      },
      "outputs": [],
      "source": [
        "modelR = RandomForestClassifier()"
      ]
    },
    {
      "cell_type": "code",
      "execution_count": null,
      "metadata": {
        "colab": {
          "base_uri": "https://localhost:8080/",
          "height": 74
        },
        "id": "oXnAZFqM-JgH",
        "outputId": "53f0e318-598a-4727-f13f-febfb3b4a3b4"
      },
      "outputs": [
        {
          "output_type": "execute_result",
          "data": {
            "text/plain": [
              "RandomForestClassifier()"
            ],
            "text/html": [
              "<style>#sk-container-id-5 {color: black;background-color: white;}#sk-container-id-5 pre{padding: 0;}#sk-container-id-5 div.sk-toggleable {background-color: white;}#sk-container-id-5 label.sk-toggleable__label {cursor: pointer;display: block;width: 100%;margin-bottom: 0;padding: 0.3em;box-sizing: border-box;text-align: center;}#sk-container-id-5 label.sk-toggleable__label-arrow:before {content: \"▸\";float: left;margin-right: 0.25em;color: #696969;}#sk-container-id-5 label.sk-toggleable__label-arrow:hover:before {color: black;}#sk-container-id-5 div.sk-estimator:hover label.sk-toggleable__label-arrow:before {color: black;}#sk-container-id-5 div.sk-toggleable__content {max-height: 0;max-width: 0;overflow: hidden;text-align: left;background-color: #f0f8ff;}#sk-container-id-5 div.sk-toggleable__content pre {margin: 0.2em;color: black;border-radius: 0.25em;background-color: #f0f8ff;}#sk-container-id-5 input.sk-toggleable__control:checked~div.sk-toggleable__content {max-height: 200px;max-width: 100%;overflow: auto;}#sk-container-id-5 input.sk-toggleable__control:checked~label.sk-toggleable__label-arrow:before {content: \"▾\";}#sk-container-id-5 div.sk-estimator input.sk-toggleable__control:checked~label.sk-toggleable__label {background-color: #d4ebff;}#sk-container-id-5 div.sk-label input.sk-toggleable__control:checked~label.sk-toggleable__label {background-color: #d4ebff;}#sk-container-id-5 input.sk-hidden--visually {border: 0;clip: rect(1px 1px 1px 1px);clip: rect(1px, 1px, 1px, 1px);height: 1px;margin: -1px;overflow: hidden;padding: 0;position: absolute;width: 1px;}#sk-container-id-5 div.sk-estimator {font-family: monospace;background-color: #f0f8ff;border: 1px dotted black;border-radius: 0.25em;box-sizing: border-box;margin-bottom: 0.5em;}#sk-container-id-5 div.sk-estimator:hover {background-color: #d4ebff;}#sk-container-id-5 div.sk-parallel-item::after {content: \"\";width: 100%;border-bottom: 1px solid gray;flex-grow: 1;}#sk-container-id-5 div.sk-label:hover label.sk-toggleable__label {background-color: #d4ebff;}#sk-container-id-5 div.sk-serial::before {content: \"\";position: absolute;border-left: 1px solid gray;box-sizing: border-box;top: 0;bottom: 0;left: 50%;z-index: 0;}#sk-container-id-5 div.sk-serial {display: flex;flex-direction: column;align-items: center;background-color: white;padding-right: 0.2em;padding-left: 0.2em;position: relative;}#sk-container-id-5 div.sk-item {position: relative;z-index: 1;}#sk-container-id-5 div.sk-parallel {display: flex;align-items: stretch;justify-content: center;background-color: white;position: relative;}#sk-container-id-5 div.sk-item::before, #sk-container-id-5 div.sk-parallel-item::before {content: \"\";position: absolute;border-left: 1px solid gray;box-sizing: border-box;top: 0;bottom: 0;left: 50%;z-index: -1;}#sk-container-id-5 div.sk-parallel-item {display: flex;flex-direction: column;z-index: 1;position: relative;background-color: white;}#sk-container-id-5 div.sk-parallel-item:first-child::after {align-self: flex-end;width: 50%;}#sk-container-id-5 div.sk-parallel-item:last-child::after {align-self: flex-start;width: 50%;}#sk-container-id-5 div.sk-parallel-item:only-child::after {width: 0;}#sk-container-id-5 div.sk-dashed-wrapped {border: 1px dashed gray;margin: 0 0.4em 0.5em 0.4em;box-sizing: border-box;padding-bottom: 0.4em;background-color: white;}#sk-container-id-5 div.sk-label label {font-family: monospace;font-weight: bold;display: inline-block;line-height: 1.2em;}#sk-container-id-5 div.sk-label-container {text-align: center;}#sk-container-id-5 div.sk-container {/* jupyter's `normalize.less` sets `[hidden] { display: none; }` but bootstrap.min.css set `[hidden] { display: none !important; }` so we also need the `!important` here to be able to override the default hidden behavior on the sphinx rendered scikit-learn.org. See: https://github.com/scikit-learn/scikit-learn/issues/21755 */display: inline-block !important;position: relative;}#sk-container-id-5 div.sk-text-repr-fallback {display: none;}</style><div id=\"sk-container-id-5\" class=\"sk-top-container\"><div class=\"sk-text-repr-fallback\"><pre>RandomForestClassifier()</pre><b>In a Jupyter environment, please rerun this cell to show the HTML representation or trust the notebook. <br />On GitHub, the HTML representation is unable to render, please try loading this page with nbviewer.org.</b></div><div class=\"sk-container\" hidden><div class=\"sk-item\"><div class=\"sk-estimator sk-toggleable\"><input class=\"sk-toggleable__control sk-hidden--visually\" id=\"sk-estimator-id-5\" type=\"checkbox\" checked><label for=\"sk-estimator-id-5\" class=\"sk-toggleable__label sk-toggleable__label-arrow\">RandomForestClassifier</label><div class=\"sk-toggleable__content\"><pre>RandomForestClassifier()</pre></div></div></div></div></div>"
            ]
          },
          "metadata": {},
          "execution_count": 40
        }
      ],
      "source": [
        "modelR.fit(X_train, y_train)"
      ]
    },
    {
      "cell_type": "code",
      "execution_count": null,
      "metadata": {
        "colab": {
          "base_uri": "https://localhost:8080/",
          "height": 74
        },
        "id": "25g3erWa-Kq3",
        "outputId": "384bcffd-ebd0-4f47-8359-eb6f0db4ca91"
      },
      "outputs": [
        {
          "output_type": "execute_result",
          "data": {
            "text/plain": [
              "RandomForestClassifier()"
            ],
            "text/html": [
              "<style>#sk-container-id-6 {color: black;background-color: white;}#sk-container-id-6 pre{padding: 0;}#sk-container-id-6 div.sk-toggleable {background-color: white;}#sk-container-id-6 label.sk-toggleable__label {cursor: pointer;display: block;width: 100%;margin-bottom: 0;padding: 0.3em;box-sizing: border-box;text-align: center;}#sk-container-id-6 label.sk-toggleable__label-arrow:before {content: \"▸\";float: left;margin-right: 0.25em;color: #696969;}#sk-container-id-6 label.sk-toggleable__label-arrow:hover:before {color: black;}#sk-container-id-6 div.sk-estimator:hover label.sk-toggleable__label-arrow:before {color: black;}#sk-container-id-6 div.sk-toggleable__content {max-height: 0;max-width: 0;overflow: hidden;text-align: left;background-color: #f0f8ff;}#sk-container-id-6 div.sk-toggleable__content pre {margin: 0.2em;color: black;border-radius: 0.25em;background-color: #f0f8ff;}#sk-container-id-6 input.sk-toggleable__control:checked~div.sk-toggleable__content {max-height: 200px;max-width: 100%;overflow: auto;}#sk-container-id-6 input.sk-toggleable__control:checked~label.sk-toggleable__label-arrow:before {content: \"▾\";}#sk-container-id-6 div.sk-estimator input.sk-toggleable__control:checked~label.sk-toggleable__label {background-color: #d4ebff;}#sk-container-id-6 div.sk-label input.sk-toggleable__control:checked~label.sk-toggleable__label {background-color: #d4ebff;}#sk-container-id-6 input.sk-hidden--visually {border: 0;clip: rect(1px 1px 1px 1px);clip: rect(1px, 1px, 1px, 1px);height: 1px;margin: -1px;overflow: hidden;padding: 0;position: absolute;width: 1px;}#sk-container-id-6 div.sk-estimator {font-family: monospace;background-color: #f0f8ff;border: 1px dotted black;border-radius: 0.25em;box-sizing: border-box;margin-bottom: 0.5em;}#sk-container-id-6 div.sk-estimator:hover {background-color: #d4ebff;}#sk-container-id-6 div.sk-parallel-item::after {content: \"\";width: 100%;border-bottom: 1px solid gray;flex-grow: 1;}#sk-container-id-6 div.sk-label:hover label.sk-toggleable__label {background-color: #d4ebff;}#sk-container-id-6 div.sk-serial::before {content: \"\";position: absolute;border-left: 1px solid gray;box-sizing: border-box;top: 0;bottom: 0;left: 50%;z-index: 0;}#sk-container-id-6 div.sk-serial {display: flex;flex-direction: column;align-items: center;background-color: white;padding-right: 0.2em;padding-left: 0.2em;position: relative;}#sk-container-id-6 div.sk-item {position: relative;z-index: 1;}#sk-container-id-6 div.sk-parallel {display: flex;align-items: stretch;justify-content: center;background-color: white;position: relative;}#sk-container-id-6 div.sk-item::before, #sk-container-id-6 div.sk-parallel-item::before {content: \"\";position: absolute;border-left: 1px solid gray;box-sizing: border-box;top: 0;bottom: 0;left: 50%;z-index: -1;}#sk-container-id-6 div.sk-parallel-item {display: flex;flex-direction: column;z-index: 1;position: relative;background-color: white;}#sk-container-id-6 div.sk-parallel-item:first-child::after {align-self: flex-end;width: 50%;}#sk-container-id-6 div.sk-parallel-item:last-child::after {align-self: flex-start;width: 50%;}#sk-container-id-6 div.sk-parallel-item:only-child::after {width: 0;}#sk-container-id-6 div.sk-dashed-wrapped {border: 1px dashed gray;margin: 0 0.4em 0.5em 0.4em;box-sizing: border-box;padding-bottom: 0.4em;background-color: white;}#sk-container-id-6 div.sk-label label {font-family: monospace;font-weight: bold;display: inline-block;line-height: 1.2em;}#sk-container-id-6 div.sk-label-container {text-align: center;}#sk-container-id-6 div.sk-container {/* jupyter's `normalize.less` sets `[hidden] { display: none; }` but bootstrap.min.css set `[hidden] { display: none !important; }` so we also need the `!important` here to be able to override the default hidden behavior on the sphinx rendered scikit-learn.org. See: https://github.com/scikit-learn/scikit-learn/issues/21755 */display: inline-block !important;position: relative;}#sk-container-id-6 div.sk-text-repr-fallback {display: none;}</style><div id=\"sk-container-id-6\" class=\"sk-top-container\"><div class=\"sk-text-repr-fallback\"><pre>RandomForestClassifier()</pre><b>In a Jupyter environment, please rerun this cell to show the HTML representation or trust the notebook. <br />On GitHub, the HTML representation is unable to render, please try loading this page with nbviewer.org.</b></div><div class=\"sk-container\" hidden><div class=\"sk-item\"><div class=\"sk-estimator sk-toggleable\"><input class=\"sk-toggleable__control sk-hidden--visually\" id=\"sk-estimator-id-6\" type=\"checkbox\" checked><label for=\"sk-estimator-id-6\" class=\"sk-toggleable__label sk-toggleable__label-arrow\">RandomForestClassifier</label><div class=\"sk-toggleable__content\"><pre>RandomForestClassifier()</pre></div></div></div></div></div>"
            ]
          },
          "metadata": {},
          "execution_count": 41
        }
      ],
      "source": [
        "RandomForestClassifier()"
      ]
    },
    {
      "cell_type": "code",
      "execution_count": null,
      "metadata": {
        "id": "R-dyknEw-MCg"
      },
      "outputs": [],
      "source": [
        "pred_train = modelR.predict(X_train)\n",
        "pred_test=modelR.predict(X_test)"
      ]
    },
    {
      "cell_type": "code",
      "execution_count": null,
      "metadata": {
        "colab": {
          "base_uri": "https://localhost:8080/"
        },
        "id": "iujIH2Ct-MYQ",
        "outputId": "dc8d3fe4-c5b2-484e-d9f9-7cbba6649063"
      },
      "outputs": [
        {
          "output_type": "stream",
          "name": "stdout",
          "text": [
            "Training accuracy  1.000\n",
            "Testing accuracy  0.869\n"
          ]
        }
      ],
      "source": [
        "acc_train = accuracy_score(pred_train, y_train)\n",
        "acc_test = accuracy_score(pred_test, y_test)\n",
        "print(f'Training accuracy {acc_train: .3f}')\n",
        "print(f'Testing accuracy {acc_test: .3f}')"
      ]
    },
    {
      "cell_type": "markdown",
      "metadata": {
        "id": "3gQuU7KC-NzA"
      },
      "source": [
        "###Tuning the Parameters"
      ]
    },
    {
      "cell_type": "code",
      "execution_count": null,
      "metadata": {
        "colab": {
          "base_uri": "https://localhost:8080/"
        },
        "id": "ZyoxntQD-P-m",
        "outputId": "94652de9-bacd-4632-8dcc-9285b118dd1f"
      },
      "outputs": [
        {
          "output_type": "stream",
          "name": "stdout",
          "text": [
            "Fitting 5 folds for each of 27 candidates, totalling 135 fits\n",
            "\n",
            "Best parameters found:\n",
            "{'max_features': 15, 'max_leaf_nodes': 16, 'n_estimators': 50}\n",
            "\n",
            "Grid scores:\n",
            "0.869 (+/-0.013) for {'max_features': 15, 'max_leaf_nodes': 8, 'n_estimators': 25}\n",
            "0.866 (+/-0.009) for {'max_features': 15, 'max_leaf_nodes': 8, 'n_estimators': 50}\n",
            "0.866 (+/-0.016) for {'max_features': 15, 'max_leaf_nodes': 8, 'n_estimators': 75}\n",
            "0.871 (+/-0.012) for {'max_features': 15, 'max_leaf_nodes': 16, 'n_estimators': 25}\n",
            "0.872 (+/-0.018) for {'max_features': 15, 'max_leaf_nodes': 16, 'n_estimators': 50}\n",
            "0.870 (+/-0.014) for {'max_features': 15, 'max_leaf_nodes': 16, 'n_estimators': 75}\n",
            "0.870 (+/-0.007) for {'max_features': 15, 'max_leaf_nodes': 24, 'n_estimators': 25}\n",
            "0.870 (+/-0.013) for {'max_features': 15, 'max_leaf_nodes': 24, 'n_estimators': 50}\n",
            "0.869 (+/-0.013) for {'max_features': 15, 'max_leaf_nodes': 24, 'n_estimators': 75}\n",
            "0.865 (+/-0.009) for {'max_features': 20, 'max_leaf_nodes': 8, 'n_estimators': 25}\n",
            "0.868 (+/-0.017) for {'max_features': 20, 'max_leaf_nodes': 8, 'n_estimators': 50}\n",
            "0.866 (+/-0.015) for {'max_features': 20, 'max_leaf_nodes': 8, 'n_estimators': 75}\n",
            "0.868 (+/-0.013) for {'max_features': 20, 'max_leaf_nodes': 16, 'n_estimators': 25}\n",
            "0.870 (+/-0.010) for {'max_features': 20, 'max_leaf_nodes': 16, 'n_estimators': 50}\n",
            "0.869 (+/-0.015) for {'max_features': 20, 'max_leaf_nodes': 16, 'n_estimators': 75}\n",
            "0.866 (+/-0.013) for {'max_features': 20, 'max_leaf_nodes': 24, 'n_estimators': 25}\n",
            "0.868 (+/-0.012) for {'max_features': 20, 'max_leaf_nodes': 24, 'n_estimators': 50}\n",
            "0.869 (+/-0.009) for {'max_features': 20, 'max_leaf_nodes': 24, 'n_estimators': 75}\n",
            "0.865 (+/-0.017) for {'max_features': 25, 'max_leaf_nodes': 8, 'n_estimators': 25}\n",
            "0.864 (+/-0.013) for {'max_features': 25, 'max_leaf_nodes': 8, 'n_estimators': 50}\n",
            "0.863 (+/-0.016) for {'max_features': 25, 'max_leaf_nodes': 8, 'n_estimators': 75}\n",
            "0.867 (+/-0.011) for {'max_features': 25, 'max_leaf_nodes': 16, 'n_estimators': 25}\n",
            "0.866 (+/-0.011) for {'max_features': 25, 'max_leaf_nodes': 16, 'n_estimators': 50}\n",
            "0.867 (+/-0.016) for {'max_features': 25, 'max_leaf_nodes': 16, 'n_estimators': 75}\n",
            "0.867 (+/-0.014) for {'max_features': 25, 'max_leaf_nodes': 24, 'n_estimators': 25}\n",
            "0.869 (+/-0.012) for {'max_features': 25, 'max_leaf_nodes': 24, 'n_estimators': 50}\n",
            "0.869 (+/-0.011) for {'max_features': 25, 'max_leaf_nodes': 24, 'n_estimators': 75}\n"
          ]
        }
      ],
      "source": [
        "tuned_parameters = [{'n_estimators': [25, 50, 75],\n",
        "                     'max_features': [15, 20, 25],\n",
        "                     'max_leaf_nodes': [8, 16, 24]}] # hyperparameters to tune\n",
        "\n",
        "clfR = GridSearchCV(RandomForestClassifier(), tuned_parameters,\n",
        "                   verbose=1, n_jobs=-1) # grid search model\n",
        "clfR.fit(X_train, y_train) # evaluate hyper-parameters\n",
        "\n",
        "print(\"\\nBest parameters found:\")\n",
        "print(clfR.best_params_) # best hyperparameter values\n",
        "\n",
        "print(\"\\nGrid scores:\")\n",
        "means = clfR.cv_results_['mean_test_score'] # mean accuracy with folds\n",
        "stds = clfR.cv_results_['std_test_score'] # standard deviation of accuracies\n",
        "# for each hyperparameter combination show mean +/- 2 standard-deviations\n",
        "for mean, std, params in zip(means, stds, clfR.cv_results_['params']):\n",
        "    print(\"%0.3f (+/-%0.03f) for %r\" %(mean, std * 2, params))"
      ]
    },
    {
      "cell_type": "markdown",
      "metadata": {
        "id": "LucF2qd9-Syw"
      },
      "source": [
        "###Evaluating Random forest classifier with selected hyper-parameters"
      ]
    },
    {
      "cell_type": "code",
      "execution_count": null,
      "metadata": {
        "colab": {
          "base_uri": "https://localhost:8080/",
          "height": 1000
        },
        "id": "gCo-Jzzw-XCJ",
        "outputId": "bee69da3-5de7-4cfc-d238-bfb27cf740b3"
      },
      "outputs": [
        {
          "output_type": "stream",
          "name": "stdout",
          "text": [
            "RandomForestClassifier(max_features=15, max_leaf_nodes=16, n_estimators=50)\n",
            "Results on test data\n",
            "Test accuracy =  0.8634\n",
            "Test precision =  0.8664\n",
            "Test recall =  0.9569\n",
            "Classification report:\n",
            "              precision    recall  f1-score   support\n",
            "\n",
            "           0       0.85      0.63      0.72       561\n",
            "           1       0.87      0.96      0.91      1416\n",
            "\n",
            "    accuracy                           0.86      1977\n",
            "   macro avg       0.86      0.79      0.82      1977\n",
            "weighted avg       0.86      0.86      0.86      1977\n",
            "\n"
          ]
        },
        {
          "output_type": "display_data",
          "data": {
            "text/plain": [
              "<Figure size 1700x700 with 2 Axes>"
            ],
            "image/png": "[encoded data removed]"
          },
          "metadata": {}
        },
        {
          "output_type": "display_data",
          "data": {
            "text/plain": [
              "<Figure size 640x480 with 1 Axes>"
            ],
            "image/png": "[encoded data removed]"
          },
          "metadata": {}
        }
      ],
      "source": [
        "# Specify non-default hyper-parameter values\n",
        "max_features = 15\n",
        "max_leaf_nodes = 16\n",
        "n_estimators = 50\n",
        "# Train and test model\n",
        "good_model = RandomForestClassifier(max_leaf_nodes = max_leaf_nodes,\n",
        "                                    max_features = max_features,\n",
        "                                    n_estimators=n_estimators, ) # create model\n",
        "print(good_model) # display model parameters\n",
        "good_model.fit(X_train, y_train) # train model\n",
        "pred = good_model.predict(X_test) # predicted output for test examples\n",
        "print(\"Results on test data\")\n",
        "acc = accuracy_score(y_test, pred) # accuracy on test examples\n",
        "prec = precision_score(y_test, pred) # precision on test examples\n",
        "reca = recall_score(y_test, pred) # recall on test examples\n",
        "print(f'Test accuracy = {acc: .4f}') # round to 4 decimal places\n",
        "print(f'Test precision = {prec: .4f}') # round to 4 decimal places\n",
        "print(f'Test recall = {reca: .4f}') # round to 4 decimal places\n",
        "print(\"Classification report:\")\n",
        "print(classification_report(y_test, pred))\n",
        "\n",
        "# Confusion Matrix\n",
        "conf_mat = tf.math.confusion_matrix(labels=y_test,predictions=pred)\n",
        "plt.figure(figsize = (17,7))\n",
        "sb.heatmap(conf_mat, annot=True,fmt='d')\n",
        "plt.xlabel('Predicted_number')\n",
        "plt.ylabel('True_number')\n",
        "\n",
        "fpr, tpr, thresholds = roc_curve(y_test, good_model.predict_proba(X_test)[:, 1])\n",
        "roc_auc = auc(fpr, tpr)\n",
        "\n",
        "plt.figure()\n",
        "plt.plot(fpr, tpr, color='darkorange', lw=2, label='RandomForest (AUC = %0.2f)' % roc_auc)\n",
        "plt.xlim([0.0, 1.0])\n",
        "plt.ylim([0.0, 1.05])\n",
        "plt.xlabel('False Positive Rate')\n",
        "plt.ylabel('True Positive Rate')\n",
        "plt.title('Receiver operating characteristic')\n",
        "plt.legend(loc=\"lower right\")\n",
        "plt.show()"
      ]
    },
    {
      "cell_type": "markdown",
      "metadata": {
        "id": "ac5-ASktB79D"
      },
      "source": [
        "# Using K-fold Cross validation to evaluate model performance"
      ]
    },
    {
      "cell_type": "code",
      "execution_count": 20,
      "metadata": {
        "id": "QbsZzpaAB_RR"
      },
      "outputs": [],
      "source": [
        "models_opt = []\n",
        "\n",
        "models_opt.append(('Logistic Regression', LogisticRegression(solver='liblinear',C = 1000, max_iter=500, random_state = 0)))\n",
        "models_opt.append(('Decision Tree Classifier', DecisionTreeClassifier(criterion = 'gini', max_leaf_nodes=19, random_state = 0)))\n",
        "models_opt.append(('Random Forest', RandomForestClassifier(max_leaf_nodes = 16,max_features = 15,\n",
        "                                                           n_estimators = 50,criterion = 'entropy', random_state = 0)))"
      ]
    },
    {
      "cell_type": "code",
      "execution_count": 21,
      "metadata": {
        "colab": {
          "base_uri": "https://localhost:8080/",
          "height": 143
        },
        "id": "CrhwRwS4CNrr",
        "outputId": "2c5fb71d-0315-418e-a06d-e45bf5988795"
      },
      "outputs": [
        {
          "output_type": "execute_result",
          "data": {
            "text/plain": [
              "                  Algorithm  ROC AUC  Accuracy  Precision  F1 Scores\n",
              "2             Random Forest    92.79     86.82      88.55      91.05\n",
              "0       Logistic Regression    91.04     84.41      89.25      89.08\n",
              "1  Decision Tree Classifier    90.41     86.36      87.77      90.80"
            ],
            "text/html": [
              "\n",
              "\n",
              "  <div id=\"df-17ca77f0-c5fc-46e7-9671-7c93d8b62c2f\">\n",
              "    <div class=\"colab-df-container\">\n",
              "      <div>\n",
              "<style scoped>\n",
              "    .dataframe tbody tr th:only-of-type {\n",
              "        vertical-align: middle;\n",
              "    }\n",
              "\n",
              "    .dataframe tbody tr th {\n",
              "        vertical-align: top;\n",
              "    }\n",
              "\n",
              "    .dataframe thead th {\n",
              "        text-align: right;\n",
              "    }\n",
              "</style>\n",
              "<table border=\"1\" class=\"dataframe\">\n",
              "  <thead>\n",
              "    <tr style=\"text-align: right;\">\n",
              "      <th></th>\n",
              "      <th>Algorithm</th>\n",
              "      <th>ROC AUC</th>\n",
              "      <th>Accuracy</th>\n",
              "      <th>Precision</th>\n",
              "      <th>F1 Scores</th>\n",
              "    </tr>\n",
              "  </thead>\n",
              "  <tbody>\n",
              "    <tr>\n",
              "      <th>2</th>\n",
              "      <td>Random Forest</td>\n",
              "      <td>92.79</td>\n",
              "      <td>86.82</td>\n",
              "      <td>88.55</td>\n",
              "      <td>91.05</td>\n",
              "    </tr>\n",
              "    <tr>\n",
              "      <th>0</th>\n",
              "      <td>Logistic Regression</td>\n",
              "      <td>91.04</td>\n",
              "      <td>84.41</td>\n",
              "      <td>89.25</td>\n",
              "      <td>89.08</td>\n",
              "    </tr>\n",
              "    <tr>\n",
              "      <th>1</th>\n",
              "      <td>Decision Tree Classifier</td>\n",
              "      <td>90.41</td>\n",
              "      <td>86.36</td>\n",
              "      <td>87.77</td>\n",
              "      <td>90.80</td>\n",
              "    </tr>\n",
              "  </tbody>\n",
              "</table>\n",
              "</div>\n",
              "      <button class=\"colab-df-convert\" onclick=\"convertToInteractive('df-17ca77f0-c5fc-46e7-9671-7c93d8b62c2f')\"\n",
              "              title=\"Convert this dataframe to an interactive table.\"\n",
              "              style=\"display:none;\">\n",
              "\n",
              "  <svg xmlns=\"http://www.w3.org/2000/svg\" height=\"24px\"viewBox=\"0 0 24 24\"\n",
              "       width=\"24px\">\n",
              "    <path d=\"M0 0h24v24H0V0z\" fill=\"none\"/>\n",
              "    <path d=\"M18.56 5.44l.94 2.06.94-2.06 2.06-.94-2.06-.94-.94-2.06-.94 2.06-2.06.94zm-11 1L8.5 8.5l.94-2.06 2.06-.94-2.06-.94L8.5 2.5l-.94 2.06-2.06.94zm10 10l.94 2.06.94-2.06 2.06-.94-2.06-.94-.94-2.06-.94 2.06-2.06.94z\"/><path d=\"M17.41 7.96l-1.37-1.37c-.4-.4-.92-.59-1.43-.59-.52 0-1.04.2-1.43.59L10.3 9.45l-7.72 7.72c-.78.78-.78 2.05 0 2.83L4 21.41c.39.39.9.59 1.41.59.51 0 1.02-.2 1.41-.59l7.78-7.78 2.81-2.81c.8-.78.8-2.07 0-2.86zM5.41 20L4 18.59l7.72-7.72 1.47 1.35L5.41 20z\"/>\n",
              "  </svg>\n",
              "      </button>\n",
              "\n",
              "\n",
              "\n",
              "    <div id=\"df-0430810b-1905-4ee8-bc9c-47d089b0a66e\">\n",
              "      <button class=\"colab-df-quickchart\" onclick=\"quickchart('df-0430810b-1905-4ee8-bc9c-47d089b0a66e')\"\n",
              "              title=\"Suggest charts.\"\n",
              "              style=\"display:none;\">\n",
              "\n",
              "<svg xmlns=\"http://www.w3.org/2000/svg\" height=\"24px\"viewBox=\"0 0 24 24\"\n",
              "     width=\"24px\">\n",
              "    <g>\n",
              "        <path d=\"M19 3H5c-1.1 0-2 .9-2 2v14c0 1.1.9 2 2 2h14c1.1 0 2-.9 2-2V5c0-1.1-.9-2-2-2zM9 17H7v-7h2v7zm4 0h-2V7h2v10zm4 0h-2v-4h2v4z\"/>\n",
              "    </g>\n",
              "</svg>\n",
              "      </button>\n",
              "    </div>\n",
              "\n",
              "<style>\n",
              "  .colab-df-quickchart {\n",
              "    background-color: #E8F0FE;\n",
              "    border: none;\n",
              "    border-radius: 50%;\n",
              "    cursor: pointer;\n",
              "    display: none;\n",
              "    fill: #1967D2;\n",
              "    height: 32px;\n",
              "    padding: 0 0 0 0;\n",
              "    width: 32px;\n",
              "  }\n",
              "\n",
              "  .colab-df-quickchart:hover {\n",
              "    background-color: #E2EBFA;\n",
              "    box-shadow: 0px 1px 2px rgba(60, 64, 67, 0.3), 0px 1px 3px 1px rgba(60, 64, 67, 0.15);\n",
              "    fill: #174EA6;\n",
              "  }\n",
              "\n",
              "  [theme=dark] .colab-df-quickchart {\n",
              "    background-color: #3B4455;\n",
              "    fill: #D2E3FC;\n",
              "  }\n",
              "\n",
              "  [theme=dark] .colab-df-quickchart:hover {\n",
              "    background-color: #434B5C;\n",
              "    box-shadow: 0px 1px 3px 1px rgba(0, 0, 0, 0.15);\n",
              "    filter: drop-shadow(0px 1px 2px rgba(0, 0, 0, 0.3));\n",
              "    fill: #FFFFFF;\n",
              "  }\n",
              "</style>\n",
              "\n",
              "    <script>\n",
              "      async function quickchart(key) {\n",
              "        const containerElement = document.querySelector('#' + key);\n",
              "        const charts = await google.colab.kernel.invokeFunction(\n",
              "            'suggestCharts', [key], {});\n",
              "      }\n",
              "    </script>\n",
              "\n",
              "      <script>\n",
              "\n",
              "function displayQuickchartButton(domScope) {\n",
              "  let quickchartButtonEl =\n",
              "    domScope.querySelector('#df-0430810b-1905-4ee8-bc9c-47d089b0a66e button.colab-df-quickchart');\n",
              "  quickchartButtonEl.style.display =\n",
              "    google.colab.kernel.accessAllowed ? 'block' : 'none';\n",
              "}\n",
              "\n",
              "        displayQuickchartButton(document);\n",
              "      </script>\n",
              "      <style>\n",
              "    .colab-df-container {\n",
              "      display:flex;\n",
              "      flex-wrap:wrap;\n",
              "      gap: 12px;\n",
              "    }\n",
              "\n",
              "    .colab-df-convert {\n",
              "      background-color: #E8F0FE;\n",
              "      border: none;\n",
              "      border-radius: 50%;\n",
              "      cursor: pointer;\n",
              "      display: none;\n",
              "      fill: #1967D2;\n",
              "      height: 32px;\n",
              "      padding: 0 0 0 0;\n",
              "      width: 32px;\n",
              "    }\n",
              "\n",
              "    .colab-df-convert:hover {\n",
              "      background-color: #E2EBFA;\n",
              "      box-shadow: 0px 1px 2px rgba(60, 64, 67, 0.3), 0px 1px 3px 1px rgba(60, 64, 67, 0.15);\n",
              "      fill: #174EA6;\n",
              "    }\n",
              "\n",
              "    [theme=dark] .colab-df-convert {\n",
              "      background-color: #3B4455;\n",
              "      fill: #D2E3FC;\n",
              "    }\n",
              "\n",
              "    [theme=dark] .colab-df-convert:hover {\n",
              "      background-color: #434B5C;\n",
              "      box-shadow: 0px 1px 3px 1px rgba(0, 0, 0, 0.15);\n",
              "      filter: drop-shadow(0px 1px 2px rgba(0, 0, 0, 0.3));\n",
              "      fill: #FFFFFF;\n",
              "    }\n",
              "  </style>\n",
              "\n",
              "      <script>\n",
              "        const buttonEl =\n",
              "          document.querySelector('#df-17ca77f0-c5fc-46e7-9671-7c93d8b62c2f button.colab-df-convert');\n",
              "        buttonEl.style.display =\n",
              "          google.colab.kernel.accessAllowed ? 'block' : 'none';\n",
              "\n",
              "        async function convertToInteractive(key) {\n",
              "          const element = document.querySelector('#df-17ca77f0-c5fc-46e7-9671-7c93d8b62c2f');\n",
              "          const dataTable =\n",
              "            await google.colab.kernel.invokeFunction('convertToInteractive',\n",
              "                                                     [key], {});\n",
              "          if (!dataTable) return;\n",
              "\n",
              "          const docLinkHtml = 'Like what you see? Visit the ' +\n",
              "            '<a target=\"_blank\" href=https://colab.research.google.com/notebooks/data_table.ipynb>data table notebook</a>'\n",
              "            + ' to learn more about interactive tables.';\n",
              "          element.innerHTML = '';\n",
              "          dataTable['output_type'] = 'display_data';\n",
              "          await google.colab.output.renderOutput(dataTable, element);\n",
              "          const docLink = document.createElement('div');\n",
              "          docLink.innerHTML = docLinkHtml;\n",
              "          element.appendChild(docLink);\n",
              "        }\n",
              "      </script>\n",
              "    </div>\n",
              "  </div>\n"
            ]
          },
          "metadata": {},
          "execution_count": 21
        }
      ],
      "source": [
        "acc_results_opt =[]\n",
        "auc_results_opt =[]\n",
        "pre_results_opt =[]\n",
        "f1_results_opt =[]\n",
        "names_opt = []\n",
        "\n",
        "result_col_opt = [\"Algorithm\", \"ROC AUC\", \"Accuracy\", 'Precision', 'F1 Scores']\n",
        "model_results_opt = pd.DataFrame(columns = result_col_opt)\n",
        "\n",
        "i=0\n",
        "# K- fold cross validation\n",
        "\n",
        "for name, model in models_opt:\n",
        "    names_opt.append(name)\n",
        "    kfold = model_selection.KFold(n_splits=10)\n",
        "\n",
        "    cv_acc_results_opt = model_selection.cross_val_score(model, X_train, y_train,\n",
        "                    cv = kfold, scoring=\"accuracy\")\n",
        "    cv_auc_results_opt = model_selection.cross_val_score(model, X_train, y_train,\n",
        "                    cv = kfold, scoring=\"roc_auc\")\n",
        "    cv_pre_results_opt = model_selection.cross_val_score(model, X_train, y_train,\n",
        "                    cv = kfold, scoring=\"precision\")\n",
        "    cv_f1_results_opt = model_selection.cross_val_score(model, X_train, y_train,\n",
        "                    cv = kfold, scoring=\"f1\")\n",
        "    acc_results_opt.append(cv_acc_results_opt)\n",
        "    auc_results_opt.append(cv_auc_results_opt)\n",
        "    pre_results_opt.append(cv_pre_results_opt)\n",
        "    f1_results_opt.append(cv_f1_results_opt)\n",
        "    model_results_opt.loc[i] = [name,\n",
        "                           round(cv_auc_results_opt.mean()*100,2),\n",
        "                           round(cv_acc_results_opt.mean()*100,2),\n",
        "                           round(cv_pre_results_opt.mean()*100,2),\n",
        "                           round(cv_f1_results_opt.mean()*100,2)]\n",
        "    i+=1\n",
        "\n",
        "model_results_opt.sort_values(by = ['ROC AUC'], ascending=False)"
      ]
    },
    {
      "cell_type": "markdown",
      "metadata": {
        "id": "dOf4wYoHCXfG"
      },
      "source": [
        "# TESTING MODEL PERFORMANCES ON TEST DATA"
      ]
    },
    {
      "cell_type": "code",
      "execution_count": 28,
      "metadata": {
        "colab": {
          "base_uri": "https://localhost:8080/",
          "height": 541
        },
        "id": "Dn-ZXqYoCdQO",
        "outputId": "038bfbce-5952-46f2-876a-15cdb6e9f604"
      },
      "outputs": [
        {
          "output_type": "display_data",
          "data": {
            "text/plain": [
              "<Figure size 640x480 with 1 Axes>"
            ],
            "image/png": "[encoded data removed]"
          },
          "metadata": {}
        },
        {
          "output_type": "stream",
          "name": "stdout",
          "text": [
            "                      Model  Accuracy  Precision  F1 Score    Recall\n",
            "0       Logistic Regression  0.855336   0.899576  0.898940  0.898305\n",
            "2             Random Forest  0.859383   0.867097  0.906271  0.949153\n",
            "1  Decision Tree Classifier  0.855336   0.865459  0.903444  0.944915\n"
          ]
        }
      ],
      "source": [
        "results = pd.DataFrame(columns=['Model', 'Accuracy', 'Precision', 'F1 Score', 'Recall'])\n",
        "for name, model in models_opt:\n",
        "    model.fit(X_train, y_train)  # Huấn luyện mô hình trên toàn bộ tập huấn luyện\n",
        "    y_pred = model.predict(X_test)  # Dự đoán nhãn cho tập test\n",
        "\n",
        "    accuracy = metrics.accuracy_score(y_test, y_pred)\n",
        "    precision = metrics.precision_score(y_test, y_pred)\n",
        "    f1 = metrics.f1_score(y_test, y_pred)\n",
        "    recall = metrics.recall_score(y_test, y_pred)\n",
        "\n",
        "    results = results.append({'Model': name, 'Accuracy': accuracy,\n",
        "                              'Precision': precision, 'F1 Score': f1, 'Recall': recall}, ignore_index=True)\n",
        "\n",
        "# Sắp xếp DataFrame theo giảm dần của ROC AUC\n",
        "results = results.sort_values(by='Precision', ascending=False)\n",
        "\n",
        "plt.figure()\n",
        "for name, model in models_opt:\n",
        "    fpr, tpr, thresholds = roc_curve(y_test, model.predict_proba(X_test)[:, 1])\n",
        "    roc_auc = auc(fpr, tpr)\n",
        "    plt.plot(fpr, tpr, lw=2, label='%s (AUC = %0.2f)' % (name, roc_auc))\n",
        "\n",
        "plt.xlim([0.0, 1.0])\n",
        "plt.ylim([0.0, 1.05])\n",
        "plt.xlabel('False Positive Rate')\n",
        "plt.ylabel('True Positive Rate')\n",
        "plt.title('Receiver Operating Characteristic')\n",
        "plt.legend(loc=\"lower right\")\n",
        "plt.show()\n",
        "\n",
        "\n",
        "print(results)"
      ]
    }
  ],
  "metadata": {
    "colab": {
      "toc_visible": true,
      "provenance": [],
      "mount_file_id": "193tOtl9cNCaehUG1eL-_atG2Z7GPiauZ",
      "authorship_tag": "ABX9TyNJktDKlm8PfKwUXrvmPQ2Q",
      "include_colab_link": true
    },
    "kernelspec": {
      "display_name": "Python 3",
      "name": "python3"
    },
    "language_info": {
      "name": "python"
    }
  },
  "nbformat": 4,
  "nbformat_minor": 0
}